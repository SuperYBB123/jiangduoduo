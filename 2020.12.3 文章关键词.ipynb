{
 "cells": [
  {
   "cell_type": "code",
   "execution_count": 2,
   "metadata": {},
   "outputs": [],
   "source": [
    "import pandas as pd\n",
    "import numpy as np\n",
    "import math\n",
    "import random\n",
    "import re\n",
    "import numexpr as ne \n",
    "from operator import itemgetter"
   ]
  },
  {
   "cell_type": "code",
   "execution_count": 3,
   "metadata": {},
   "outputs": [],
   "source": [
    "word_vectors=pd.read_csv(r'F:\\work\\12.3 文章关键词\\word2vec\\model_mincounts_100_title3.csv')\n",
    "vec_dict={}\n",
    "for i in word_vectors.index:\n",
    "    word=word_vectors['word'][i]\n",
    "    tmp_list=[]\n",
    "    for j in range(1,101):\n",
    "        value=word_vectors[str(j)][i]\n",
    "        tmp_list.append(value)\n",
    "    vec_dict[word]=np.array(tmp_list)"
   ]
  },
  {
   "cell_type": "code",
   "execution_count": 3,
   "metadata": {},
   "outputs": [],
   "source": [
    "essay_content=pd.read_csv(r'F:\\work\\12.3 文章关键词\\essay_content.csv')\n",
    "essay_info={}\n",
    "for i in essay_content.index:\n",
    "    itemid=essay_content['itemid'][i]\n",
    "    title=essay_content['c_title'][i]\n",
    "    content=essay_content['c_content'][i]\n",
    "    essay_info.setdefault(itemid,{})\n",
    "    essay_info[itemid]['title']=title\n",
    "    essay_info[itemid]['content']=content"
   ]
  },
  {
   "cell_type": "code",
   "execution_count": 4,
   "metadata": {},
   "outputs": [],
   "source": [
    "key_words=pd.read_csv(r'F:\\work\\12.3 文章关键词\\key_words.csv',encoding='gbk')\n",
    "key_dict={}\n",
    "for i in key_words.index:\n",
    "    itemid=key_words['itemid'][i]\n",
    "    weights=key_words['weights'][i][1:-1]\n",
    "    lst=weights.split('), (')\n",
    "    if lst!=['[]']:\n",
    "        for k in lst:\n",
    "            key_str=k.split(',')[0]\n",
    "            rule=r\"'(.*?)'\" # 正则规则\n",
    "            if key_str!='':\n",
    "                key=re.findall(rule,key_str)[0]\n",
    "                value=k.split(',')[1]\n",
    "                if value!='':\n",
    "                    key_dict.setdefault(itemid,{})\n",
    "                    value=float(re.sub(\"[^0-9.]\",\"\",value))\n",
    "                    key_dict[itemid][key]=value"
   ]
  },
  {
   "cell_type": "code",
   "execution_count": 5,
   "metadata": {},
   "outputs": [
    {
     "data": {
      "text/plain": [
       "'\\n    keys=list(set(list(tfidf_dict.keys())+list(textrank_dict.keys())))\\n    for key in keys:\\n        if key not in tfidf_dict.keys() and key in textrank_dict.keys():\\n            value=0.3*textrank_dict[key]\\n        if key in tfidf_dict.keys() and key not in textrank_dict.keys():\\n            value=0.7*tfidf_dict[key]\\n        if key in tfidf_dict.keys() and key in textrank_dict.keys():\\n            value=0.7*tfidf_dict[key]+0.3*textrank_dict[key]\\n        key_dict.setdefault(itemid,{})\\n        key_dict[itemid][key]=value\\n'"
      ]
     },
     "execution_count": 5,
     "metadata": {},
     "output_type": "execute_result"
    }
   ],
   "source": [
    "key_words=pd.read_csv(r'F:\\work\\12.3 文章关键词\\key_words.csv',encoding='gbk')\n",
    "key_dict={}\n",
    "for i in key_words.index:\n",
    "    itemid=key_words['itemid'][i]\n",
    "    tfidf_weights=key_words['tfidf'][i][1:-1]\n",
    "    textrank_weights=key_words['textrank'][i][1:-1]\n",
    "    tfidf_lst=tfidf_weights.split('), (')\n",
    "    textrank_lst=textrank_weights.split('), (')\n",
    "    tfidf_dict={}\n",
    "    textrank_dict={}\n",
    "    if tfidf_lst!=['[]']:\n",
    "        for k in tfidf_lst:\n",
    "            key_str=k.split(',')[0]\n",
    "            rule=r\"'(.*?)'\" # 正则规则\n",
    "            if key_str!='':\n",
    "                key=re.findall(rule,key_str)[0]\n",
    "                value=k.split(',')[1]\n",
    "                if value!='':\n",
    "                    tfidf_dict[key]=float(re.sub(\"[^0-9.]\",\"\",value))\n",
    "    if textrank_lst!=['[]']:\n",
    "        for k in textrank_lst:\n",
    "            key_str=k.split(',')[0]\n",
    "            rule=r\"'(.*?)'\" # 正则规则\n",
    "            if key_str!='':\n",
    "                key=re.findall(rule,key_str)[0]\n",
    "                value=k.split(',')[1]\n",
    "                if value!='':\n",
    "                    textrank_dict[key]=float(re.sub(\"[^0-9.]\",\"\",value))\n",
    "    key_dict[itemid]=tfidf_dict\n",
    "'''\n",
    "    keys=list(set(list(tfidf_dict.keys())+list(textrank_dict.keys())))\n",
    "    for key in keys:\n",
    "        if key not in tfidf_dict.keys() and key in textrank_dict.keys():\n",
    "            value=0.3*textrank_dict[key]\n",
    "        if key in tfidf_dict.keys() and key not in textrank_dict.keys():\n",
    "            value=0.7*tfidf_dict[key]\n",
    "        if key in tfidf_dict.keys() and key in textrank_dict.keys():\n",
    "            value=0.7*tfidf_dict[key]+0.3*textrank_dict[key]\n",
    "        key_dict.setdefault(itemid,{})\n",
    "        key_dict[itemid][key]=value\n",
    "'''"
   ]
  },
  {
   "cell_type": "code",
   "execution_count": 6,
   "metadata": {},
   "outputs": [],
   "source": [
    "for essay in essay_info.keys():\n",
    "    essay_info[essay]['keywords']=[]\n",
    "    if essay in key_dict.keys():\n",
    "        essay_info[essay]['keywords']=list(key_dict[essay].keys())"
   ]
  },
  {
   "cell_type": "code",
   "execution_count": 7,
   "metadata": {},
   "outputs": [],
   "source": [
    "item_vec_dict={}\n",
    "for item in key_dict.keys():\n",
    "    for key in key_dict[item].keys():\n",
    "        if key in vec_dict.keys():\n",
    "            item_vec_dict.setdefault(item,np.zeros([100,]))\n",
    "            item_vec_dict[item]+=vec_dict[key]*key_dict[item][key]\n",
    "    if item in item_vec_dict.keys():\n",
    "        x=item_vec_dict[item]\n",
    "        y=np.linalg.norm(x)\n",
    "        item_vec_dict[item]=list(x/y)"
   ]
  },
  {
   "cell_type": "code",
   "execution_count": 8,
   "metadata": {},
   "outputs": [],
   "source": [
    "def bit_product_sum(x, y):\n",
    "    return sum([ne.evaluate('a*b') for a,b in zip(x, y)])\n",
    "\n",
    "def cosine_similarity(x, y, norm=False):\n",
    "    \"\"\" 计算两个向量x和y的余弦相似度 \"\"\"\n",
    "    assert len(x) == len(y), \"len(x) != len(y)\"\n",
    "    zero_list = [0] * len(x)\n",
    "    if x == zero_list or y == zero_list:\n",
    "        return float(1) if x == y else float(0)\n",
    "\n",
    "    # method 1\n",
    "    res = np.array([x[i]*y[i] for i in range(len(x))])\n",
    "    cos = ne.evaluate('sum(res)')\n",
    "\n",
    "    # method 2\n",
    "    # cos = bit_product_sum(x, y) / (np.sqrt(bit_product_sum(x, x)) * np.sqrt(bit_product_sum(y, y)))\n",
    "\n",
    "    # method 3\n",
    "    # dot_product, square_sum_x, square_sum_y = 0, 0, 0\n",
    "    # for i in range(len(x)):\n",
    "    #     dot_product += x[i] * y[i]\n",
    "    #     square_sum_x += x[i] * x[i]\n",
    "    #     square_sum_y += y[i] * y[i]\n",
    "    # cos = dot_product / (np.sqrt(square_sum_x) * np.sqrt(square_sum_y))\n",
    "\n",
    "    return 0.5*cos+0.5 if norm else cos  # 归一化到[0, 1]区间内"
   ]
  },
  {
   "cell_type": "code",
   "execution_count": 9,
   "metadata": {
    "scrolled": true
   },
   "outputs": [],
   "source": [
    "item_lst=list(item_vec_dict.keys())\n",
    "vec=item_vec_dict[item_lst[0]]\n",
    "vecary=np.array(vec).reshape(1,100)\n",
    "for i in range(1,len(item_lst)):\n",
    "    vec=item_vec_dict[item_lst[i]]\n",
    "    vecary=np.insert(vecary,i,values=vec,axis=0)"
   ]
  },
  {
   "cell_type": "code",
   "execution_count": 10,
   "metadata": {},
   "outputs": [
    {
     "data": {
      "text/plain": [
       "array([[1.        , 0.45646095, 0.44033306, ..., 0.59281007, 0.54478811,\n",
       "        0.53704118],\n",
       "       [0.45646095, 1.        , 0.23946474, ..., 0.2546476 , 0.37761203,\n",
       "        0.21907875],\n",
       "       [0.44033306, 0.23946474, 1.        , ..., 0.62859673, 0.4380114 ,\n",
       "        0.5509099 ],\n",
       "       ...,\n",
       "       [0.59281007, 0.2546476 , 0.62859673, ..., 1.        , 0.41212965,\n",
       "        0.65753058],\n",
       "       [0.54478811, 0.37761203, 0.4380114 , ..., 0.41212965, 1.        ,\n",
       "        0.41537544],\n",
       "       [0.53704118, 0.21907875, 0.5509099 , ..., 0.65753058, 0.41537544,\n",
       "        1.        ]])"
      ]
     },
     "execution_count": 10,
     "metadata": {},
     "output_type": "execute_result"
    }
   ],
   "source": [
    "sim_matrix=np.dot(vecary,vecary.T)\n",
    "sim_matrix"
   ]
  },
  {
   "cell_type": "code",
   "execution_count": 11,
   "metadata": {},
   "outputs": [
    {
     "name": "stdout",
     "output_type": "stream",
     "text": [
      "山寨品牌被嫌弃？老司机教你选摩托车，车主：十年开不坏\n",
      "['品牌', '摩托车', '嫌弃', '教你', '山寨', '年代', '十年', '组装', '零件', '短评', '合资', '司机', '很久以前', '技术', '品质', '消费者', '小编', '几千块', '大运', '购买']\n",
      "------------------------------------------------\n",
      "国产摩托车品牌到底哪个好，怎么说哪个品牌好的都有，彻底蒙圈了\n",
      "['品牌', '车型', '国产', '自主', '答案', '梯队', '选择', '品质', '相关', '找到', '不谈', '国产车', '合资', '摩托车', '用户', '这位', '果子', '要说', '分享', '夸赞']\n",
      "0.8854486382966005\n",
      "------------------------------------------------\n",
      "今天看到帖子说国产摩托车和进口摩托车差别到底在哪里？\n",
      "['厂家', '西安', '帖子', '品控', '国产品牌', '好几年', '海报', '消费', '市场', '小学', '摩托', '低端', '技术', '人群', '差别', '国产', '下乡', '城市', '产品', '那车']\n",
      "0.878817311098661\n",
      "------------------------------------------------\n",
      "有没有国产跨骑摩托车，没用任何国外技术的车型？\n",
      "['国外', '自主', '技术', '意义', '国产', '车型', '没用', '百分之百', '摩托车', '依然', '更何况', '生产', '大牌', '摆脱', '有没有', '外国', '骑摩托车', '用料', '研发', '组装']\n",
      "0.8767674428952017\n",
      "------------------------------------------------\n",
      "隆鑫摩托十年内产品质量会有飞跃性的提升吗？\n",
      "['十年', '隆鑫', '品质', '组装', '培育', '产品质量', '自主', '发展', '提升', '车型', '品牌', '市场', '老王', '隔壁', '慢慢', '摩托', '肯定', '对手', '时间', '无极']\n",
      "0.874279690400036\n",
      "------------------------------------------------\n",
      "农村人最喜欢的5大摩托车品牌,质量过硬,第一个十年开不坏\n",
      "['农村', '过硬', '品牌', '摩托车', '质量', '十年', '钱江', '力帆', '豪爵', '八年', '五羊本田', '起家', '汽车', '铃木', '喜欢', '领域', '摩托', '国内', '点击', '受欢迎']\n",
      "0.8733156410732806\n",
      "------------------------------------------------\n",
      "SHY：国产复古摩托值得买吗？分析国产摩托车利与弊\n",
      "['复古', '摩托车', '国产', '小作坊', 'SHY', '换壳', '产品', '低廉', '成熟', '设计', '顶尖', '贝纳利', '厂家', '消费者', '大厂', '改装', '我会', '价格', '阿普利亚', '质量']\n",
      "0.8720777195994521\n",
      "------------------------------------------------\n",
      "农村人最喜欢的摩托车品牌,质量好!最后一个竟然十年开不坏!\n",
      "['农村', '销售量', '质量', '品牌', '十年', '摩托车', '豪爵', '摩托', '喜欢', '钱江', '力帆', '起家', '老百姓', '深受', '铃木', '受欢迎', '非常不错', '上市公司', '中日', '田间']\n",
      "0.8715505941907968\n",
      "------------------------------------------------\n",
      "“买车就买进口”，国产摩托车到底差在哪？\n",
      "['进口车', '国产车', '国产', '摩托车', '进口', '盈利', '品牌', '口碑', '政策', '买车', '因素', '厂商', '合资', '关注', '爱好者', '大于', '购买', '我国', '核心', '迎刃而解']\n",
      "0.870799648029769\n",
      "------------------------------------------------\n",
      "“买车就买进口”，国产摩托车为什么比不过进口，到底差在哪里？\n",
      "['进口车', '国产车', '进口', '国产', '摩托车', '盈利', '品牌', '口碑', '政策', '买车', '因素', '厂商', '合资', '关注', '爱好者', '大于', '购买', '我国', '核心', '迎刃而解']\n",
      "0.8705494601187683\n",
      "------------------------------------------------\n",
      "国产摩托和进口摩托差距有多大？合资小排量何以完虐国产大排？\n",
      "['研发', '国产', '进口', '大排', '合资', '质量', '起家', '共振', '山寨', '摩托车', '体系', '小排量', '国产品牌', '国产车', '价值', '差距', '做文章', '成本', '弱势', '权衡']\n",
      "0.8701296748657809\n",
      "------------------------------------------------\n"
     ]
    }
   ],
   "source": [
    "i=82\n",
    "itemid=item_lst[i]\n",
    "title=essay_info[itemid]['title']\n",
    "keywords=essay_info[itemid]['keywords']\n",
    "print(title)\n",
    "print(keywords)\n",
    "print('------'*8)\n",
    "sorted_list=sorted(enumerate(list(sim_matrix[i])), key=itemgetter(1),reverse=True)\n",
    "for j,sim in sorted_list[1:11]:\n",
    "    title=essay_info[item_lst[j]]['title']\n",
    "    keywords=essay_info[item_lst[j]]['keywords']\n",
    "    print(title)\n",
    "    print(keywords)\n",
    "    print(sim)\n",
    "    print('------'*8)"
   ]
  },
  {
   "cell_type": "code",
   "execution_count": 130,
   "metadata": {
    "collapsed": true
   },
   "outputs": [
    {
     "name": "stdout",
     "output_type": "stream",
     "text": [
      "0\n",
      "1\n",
      "2\n",
      "3\n",
      "4\n",
      "5\n",
      "6\n",
      "7\n",
      "8\n",
      "9\n",
      "10\n",
      "11\n",
      "12\n",
      "13\n",
      "14\n",
      "15\n",
      "16\n",
      "17\n",
      "18\n",
      "19\n"
     ]
    }
   ],
   "source": [
    "vec_store={}\n",
    "for item1 in item_lst[:20]:\n",
    "    vec_store.setdefault(item1,{})\n",
    "    for item2 in list(item_vec_dict.keys()):\n",
    "        sim=np.dot(item_vec_dict[item1],item_vec_dict[item2])\n",
    "        vec_store[item1][item2]=sim\n",
    "    print(item_lst.index(item1))"
   ]
  },
  {
   "cell_type": "code",
   "execution_count": 34,
   "metadata": {},
   "outputs": [
    {
     "data": {
      "text/plain": [
       "11452"
      ]
     },
     "execution_count": 34,
     "metadata": {},
     "output_type": "execute_result"
    }
   ],
   "source": [
    "sentences=word2vec.Text8Corpus(r'F:\\work\\5.18 word2vec训练文章id\\data.txt')\n",
    "model=word2vec.Word2Vec(sentences,size=50,min_count=400,window=5,compute_loss=True,\n",
    "                  workers=6,sg=0,sample=1e-5,hs=0,negative=40,iter=1,sorted_vocab=1)\n",
    "essay_list=list(model.wv.vocab.keys())\n",
    "essay_sim_degree=dict()\n",
    "for essay in essay_list:\n",
    "    essay_sim_degree.setdefault(essay,{})\n",
    "    for x in model.wv.most_similar(essay,topn=50):\n",
    "        sim=x[0]\n",
    "        degree=x[1]\n",
    "        if degree>=0.7:\n",
    "            essay_sim_degree[essay][sim]=degree\n",
    "len(essay_sim_degree)"
   ]
  },
  {
   "cell_type": "code",
   "execution_count": 37,
   "metadata": {},
   "outputs": [],
   "source": [
    "L=[]\n",
    "for e1 in item_lst[:20]:\n",
    "    x=essay_sim_degree[str(e1)]\n",
    "    for e2 in x.keys():\n",
    "        if e1 in essay_info.keys() and int(e2) in essay_info.keys():\n",
    "            L.append((e1,essay_info[e1]['title'],essay_info[e1]['content'],essay_info[e1]['keywords'],\n",
    "                      e2,essay_info[int(e2)]['title'],essay_info[int(e2)]['content'],essay_info[int(e2)]['keywords'],x[e2]))\n",
    "output = pd.DataFrame(L,columns=['essay_1','essay1_title','essay1_content','essay1_keywords',\n",
    "                                 'essay_2','essay2_title','essay2_content','essay2_keywords','sim'])\n",
    "output.sort_values(by=['essay_1','sim'],ascending=[True,False],inplace=True)\n",
    "output.to_csv(r'F:\\work\\12.3 文章关键词\\1207word2vec.csv',index=False)"
   ]
  },
  {
   "cell_type": "code",
   "execution_count": 65,
   "metadata": {},
   "outputs": [],
   "source": [
    "L=[]\n",
    "for e1 in item_lst[:20]:\n",
    "    x=vec_store[e1]\n",
    "    x_sorted=sorted(x.items(), key=lambda x:x[1], reverse=True)[:50]\n",
    "    for k in x_sorted:\n",
    "        e2=k[0]\n",
    "        sim=k[1]\n",
    "        if e1 in essay_info.keys() and e2 in essay_info.keys():\n",
    "            L.append((e1,essay_info[e1]['title'],essay_info[e1]['content'],essay_info[e1]['keywords'],\n",
    "                      e2,essay_info[e2]['title'],essay_info[e2]['content'],essay_info[e2]['keywords'],sim))\n",
    "output = pd.DataFrame(L,columns=['essay_1','essay1_title','essay1_content','essay1_keywords',\n",
    "                                 'essay_2','essay2_title','essay2_content','essay2_keywords','sim'])\n",
    "output.sort_values(by=['essay_1','sim'],ascending=[True,False],inplace=True)\n",
    "output.to_csv(r'F:\\work\\12.3 文章关键词\\1210keywords_sim_tfidf.csv',index=False,encoding='utf_8_sig')"
   ]
  },
  {
   "cell_type": "code",
   "execution_count": null,
   "metadata": {},
   "outputs": [],
   "source": []
  }
 ],
 "metadata": {
  "kernelspec": {
   "display_name": "Python 3",
   "language": "python",
   "name": "python3"
  },
  "language_info": {
   "codemirror_mode": {
    "name": "ipython",
    "version": 3
   },
   "file_extension": ".py",
   "mimetype": "text/x-python",
   "name": "python",
   "nbconvert_exporter": "python",
   "pygments_lexer": "ipython3",
   "version": "3.7.4"
  }
 },
 "nbformat": 4,
 "nbformat_minor": 2
}
