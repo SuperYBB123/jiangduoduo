{
 "cells": [
  {
   "cell_type": "code",
   "execution_count": 2,
   "metadata": {},
   "outputs": [],
   "source": [
    "import pandas as pd\n",
    "from gensim.models import word2vec\n",
    "import random\n",
    "import datetime"
   ]
  },
  {
   "cell_type": "code",
   "execution_count": 3,
   "metadata": {},
   "outputs": [
    {
     "data": {
      "text/html": [
       "<div>\n",
       "<style scoped>\n",
       "    .dataframe tbody tr th:only-of-type {\n",
       "        vertical-align: middle;\n",
       "    }\n",
       "\n",
       "    .dataframe tbody tr th {\n",
       "        vertical-align: top;\n",
       "    }\n",
       "\n",
       "    .dataframe thead th {\n",
       "        text-align: right;\n",
       "    }\n",
       "</style>\n",
       "<table border=\"1\" class=\"dataframe\">\n",
       "  <thead>\n",
       "    <tr style=\"text-align: right;\">\n",
       "      <th></th>\n",
       "      <th>deviceid</th>\n",
       "      <th>list</th>\n",
       "    </tr>\n",
       "  </thead>\n",
       "  <tbody>\n",
       "    <tr>\n",
       "      <th>0</th>\n",
       "      <td>00001510ff81fc9d1f5c8c6a6cfe3687</td>\n",
       "      <td>3262959,3262369,2846038,3262072,2868641,298786...</td>\n",
       "    </tr>\n",
       "    <tr>\n",
       "      <th>1</th>\n",
       "      <td>000020f5a4c5d803a226478aff4b5145</td>\n",
       "      <td>3162486,3316145,3309885,2403236,3104670</td>\n",
       "    </tr>\n",
       "    <tr>\n",
       "      <th>2</th>\n",
       "      <td>000057ffa5c829e3fb8b1d9bf3a2d7b4</td>\n",
       "      <td>3251598,2970059,3243090,3195341,2651879,326207...</td>\n",
       "    </tr>\n",
       "    <tr>\n",
       "      <th>3</th>\n",
       "      <td>000092f678471faf89cabe8548b26524</td>\n",
       "      <td>3260818,3263083,3274898,3274898,3301447,326397...</td>\n",
       "    </tr>\n",
       "    <tr>\n",
       "      <th>4</th>\n",
       "      <td>000137709e61d6df02efd83a14a2adac</td>\n",
       "      <td>3181212,2137343,3256004,3274746,2789626,311482...</td>\n",
       "    </tr>\n",
       "    <tr>\n",
       "      <th>...</th>\n",
       "      <td>...</td>\n",
       "      <td>...</td>\n",
       "    </tr>\n",
       "    <tr>\n",
       "      <th>478332</th>\n",
       "      <td>fffc8c7b7158ab11907b09bdfaee7352</td>\n",
       "      <td>2610758,3013733,2547231,2396194,2780478,201221...</td>\n",
       "    </tr>\n",
       "    <tr>\n",
       "      <th>478333</th>\n",
       "      <td>fffc8f3ca063a6139ea8750643fd7681</td>\n",
       "      <td>3239472,3162509,2868641,3309885,3305859,316248...</td>\n",
       "    </tr>\n",
       "    <tr>\n",
       "      <th>478334</th>\n",
       "      <td>fffd1c6a11cc5166057a706bdbae2fac</td>\n",
       "      <td>3309885,3013722,3212693,3301447,3171535,3222084</td>\n",
       "    </tr>\n",
       "    <tr>\n",
       "      <th>478335</th>\n",
       "      <td>ffff2b3eb20dc39ebd5766dc1ae28706</td>\n",
       "      <td>2017655,3212693,2327424,2970059,3163403,315657...</td>\n",
       "    </tr>\n",
       "    <tr>\n",
       "      <th>478336</th>\n",
       "      <td>ffffa6d337942d32f5f3aa9b998fda16</td>\n",
       "      <td>3212693,3156571,2326529,3234811,3261138,315660...</td>\n",
       "    </tr>\n",
       "  </tbody>\n",
       "</table>\n",
       "<p>478337 rows × 2 columns</p>\n",
       "</div>"
      ],
      "text/plain": [
       "                                deviceid  \\\n",
       "0       00001510ff81fc9d1f5c8c6a6cfe3687   \n",
       "1       000020f5a4c5d803a226478aff4b5145   \n",
       "2       000057ffa5c829e3fb8b1d9bf3a2d7b4   \n",
       "3       000092f678471faf89cabe8548b26524   \n",
       "4       000137709e61d6df02efd83a14a2adac   \n",
       "...                                  ...   \n",
       "478332  fffc8c7b7158ab11907b09bdfaee7352   \n",
       "478333  fffc8f3ca063a6139ea8750643fd7681   \n",
       "478334  fffd1c6a11cc5166057a706bdbae2fac   \n",
       "478335  ffff2b3eb20dc39ebd5766dc1ae28706   \n",
       "478336  ffffa6d337942d32f5f3aa9b998fda16   \n",
       "\n",
       "                                                     list  \n",
       "0       3262959,3262369,2846038,3262072,2868641,298786...  \n",
       "1                 3162486,3316145,3309885,2403236,3104670  \n",
       "2       3251598,2970059,3243090,3195341,2651879,326207...  \n",
       "3       3260818,3263083,3274898,3274898,3301447,326397...  \n",
       "4       3181212,2137343,3256004,3274746,2789626,311482...  \n",
       "...                                                   ...  \n",
       "478332  2610758,3013733,2547231,2396194,2780478,201221...  \n",
       "478333  3239472,3162509,2868641,3309885,3305859,316248...  \n",
       "478334    3309885,3013722,3212693,3301447,3171535,3222084  \n",
       "478335  2017655,3212693,2327424,2970059,3163403,315657...  \n",
       "478336  3212693,3156571,2326529,3234811,3261138,315660...  \n",
       "\n",
       "[478337 rows x 2 columns]"
      ]
     },
     "execution_count": 3,
     "metadata": {},
     "output_type": "execute_result"
    }
   ],
   "source": [
    "tmp=pd.read_csv(r'C:\\Users\\JDD\\Downloads\\query-hive-479656.csv')\n",
    "tmp"
   ]
  },
  {
   "cell_type": "code",
   "execution_count": 4,
   "metadata": {},
   "outputs": [
    {
     "name": "stdout",
     "output_type": "stream",
     "text": [
      "shuffle次数： 1\n",
      "shuffle次数： 2\n",
      "shuffle次数： 3\n",
      "shuffle次数： 4\n",
      "shuffle次数： 5\n",
      "shuffle次数： 6\n",
      "shuffle次数： 7\n",
      "shuffle次数： 8\n",
      "shuffle次数： 9\n",
      "shuffle次数： 10\n",
      "shuffle次数： 11\n",
      "shuffle次数： 12\n",
      "shuffle次数： 13\n",
      "shuffle次数： 14\n",
      "shuffle次数： 15\n",
      "shuffle次数： 16\n",
      "shuffle次数： 17\n",
      "shuffle次数： 18\n",
      "shuffle次数： 19\n",
      "shuffle次数： 20\n"
     ]
    }
   ],
   "source": [
    "fl = open(r'C:\\Users\\JDD\\Desktop\\2.txt', 'w', encoding='utf8')\n",
    "for n in range(20):\n",
    "    for i in tmp.index:\n",
    "        j=tmp['list'][i]\n",
    "        k=j.strip().split(',')\n",
    "        random.shuffle(k)\n",
    "        for wd in k:\n",
    "            fl.write(wd)\n",
    "            fl.write(' ')\n",
    "        fl.write('\\n')\n",
    "    print('shuffle次数：',n+1)\n",
    "fl.close()"
   ]
  },
  {
   "cell_type": "code",
   "execution_count": 5,
   "metadata": {},
   "outputs": [],
   "source": [
    "sentences=word2vec.Text8Corpus(r'C:\\Users\\JDD\\Desktop\\2.txt')\n",
    "model=word2vec.Word2Vec(sentences, size = 50, min_count = 800, window = 5, compute_loss=True,\n",
    "                  workers = 6, sg=0, sample=1e-4, hs = 0, negative = 40, iter= 1, sorted_vocab = 1)"
   ]
  },
  {
   "cell_type": "code",
   "execution_count": 15,
   "metadata": {},
   "outputs": [
    {
     "name": "stdout",
     "output_type": "stream",
     "text": [
      "开始获取相似度\n",
      "vocab长度为： 11412\n"
     ]
    }
   ],
   "source": [
    "print('开始获取相似度')\n",
    "essay_list=list(model.wv.vocab.keys())\n",
    "print('vocab长度为：',len(essay_list))\n",
    "essay_sim_degree=dict()\n",
    "for essay in essay_list:\n",
    "    essay_sim_degree.setdefault(essay,{})\n",
    "    for x in model.wv.most_similar(essay,topn=50):\n",
    "        sim=x[0]\n",
    "        degree=x[1]\n",
    "        if degree>0.7:\n",
    "            essay_sim_degree[essay][sim]=degree"
   ]
  },
  {
   "cell_type": "code",
   "execution_count": 21,
   "metadata": {},
   "outputs": [
    {
     "name": "stdout",
     "output_type": "stream",
     "text": [
      "1922213 0.8927645087242126\n",
      "1919531 0.8918840885162354\n",
      "1919546 0.8855466842651367\n",
      "1921831 0.884533166885376\n",
      "1923549 0.8826375007629395\n",
      "1920819 0.8795082569122314\n",
      "1924125 0.8787505030632019\n",
      "1923965 0.8787035942077637\n",
      "1921149 0.8744868636131287\n",
      "1919119 0.8743774890899658\n",
      "1923290 0.8718947768211365\n",
      "1912407 0.8718421459197998\n",
      "1922477 0.8675841689109802\n",
      "1921325 0.8575207591056824\n",
      "1923732 0.8570356369018555\n",
      "1920388 0.8524560928344727\n",
      "1916711 0.8489400148391724\n",
      "1923470 0.8465096950531006\n",
      "1922097 0.8343156576156616\n",
      "1921267 0.8333726525306702\n",
      "1921235 0.825385332107544\n",
      "1923430 0.8215562701225281\n",
      "1920197 0.8187552094459534\n",
      "1921261 0.8176637291908264\n",
      "1922127 0.8060133457183838\n",
      "1921218 0.802080512046814\n"
     ]
    }
   ],
   "source": [
    "for k,v in essay_sim_degree['1921244'].items():\n",
    "    print(k:v)"
   ]
  },
  {
   "cell_type": "code",
   "execution_count": null,
   "metadata": {},
   "outputs": [],
   "source": []
  }
 ],
 "metadata": {
  "kernelspec": {
   "display_name": "Python 3",
   "language": "python",
   "name": "python3"
  },
  "language_info": {
   "codemirror_mode": {
    "name": "ipython",
    "version": 3
   },
   "file_extension": ".py",
   "mimetype": "text/x-python",
   "name": "python",
   "nbconvert_exporter": "python",
   "pygments_lexer": "ipython3",
   "version": "3.7.4"
  }
 },
 "nbformat": 4,
 "nbformat_minor": 2
}
