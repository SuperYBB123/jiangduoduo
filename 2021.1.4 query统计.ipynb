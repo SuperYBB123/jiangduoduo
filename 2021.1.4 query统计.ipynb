{
 "cells": [
  {
   "cell_type": "code",
   "execution_count": 1,
   "metadata": {},
   "outputs": [],
   "source": [
    "import pandas as pd\n",
    "import numpy as np"
   ]
  },
  {
   "cell_type": "code",
   "execution_count": 7,
   "metadata": {},
   "outputs": [],
   "source": [
    "query_1w=pd.read_csv(r'F:\\work\\2021.1.4 query\\query1w.csv')\n",
    "query_2w=pd.read_csv(r'F:\\work\\2021.1.4 query\\query2w.csv')\n",
    "query_4w=pd.read_csv(r'F:\\work\\2021.1.4 query\\query4w.csv')"
   ]
  },
  {
   "cell_type": "code",
   "execution_count": 16,
   "metadata": {},
   "outputs": [
    {
     "name": "stdout",
     "output_type": "stream",
     "text": [
      "413833\n",
      "2131646\n",
      "5.150981192896651\n",
      "7.749596373000513\n",
      "1.0\n",
      "3.0\n",
      "6.0\n"
     ]
    }
   ],
   "source": [
    "data=query_1w\n",
    "print(len(data))\n",
    "print(data['cnt'].sum())\n",
    "print(data['cnt'].mean())\n",
    "print(data['cnt'].std())\n",
    "print(data['cnt'].quantile(0.25))\n",
    "print(data['cnt'].quantile(0.5))\n",
    "print(data['cnt'].quantile(0.75))"
   ]
  },
  {
   "cell_type": "code",
   "execution_count": null,
   "metadata": {},
   "outputs": [],
   "source": []
  }
 ],
 "metadata": {
  "kernelspec": {
   "display_name": "Python 3",
   "language": "python",
   "name": "python3"
  },
  "language_info": {
   "codemirror_mode": {
    "name": "ipython",
    "version": 3
   },
   "file_extension": ".py",
   "mimetype": "text/x-python",
   "name": "python",
   "nbconvert_exporter": "python",
   "pygments_lexer": "ipython3",
   "version": "3.7.4"
  }
 },
 "nbformat": 4,
 "nbformat_minor": 2
}
