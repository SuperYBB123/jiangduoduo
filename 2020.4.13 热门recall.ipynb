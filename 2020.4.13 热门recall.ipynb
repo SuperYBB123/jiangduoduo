{
 "cells": [
  {
   "cell_type": "code",
   "execution_count": 1,
   "metadata": {},
   "outputs": [],
   "source": [
    "import pandas as pd\n",
    "import numpy as np"
   ]
  },
  {
   "cell_type": "code",
   "execution_count": 2,
   "metadata": {},
   "outputs": [
    {
     "data": {
      "text/html": [
       "<div>\n",
       "<style scoped>\n",
       "    .dataframe tbody tr th:only-of-type {\n",
       "        vertical-align: middle;\n",
       "    }\n",
       "\n",
       "    .dataframe tbody tr th {\n",
       "        vertical-align: top;\n",
       "    }\n",
       "\n",
       "    .dataframe thead th {\n",
       "        text-align: right;\n",
       "    }\n",
       "</style>\n",
       "<table border=\"1\" class=\"dataframe\">\n",
       "  <thead>\n",
       "    <tr style=\"text-align: right;\">\n",
       "      <th></th>\n",
       "      <th>deviceid</th>\n",
       "      <th>itemid</th>\n",
       "      <th>action_type</th>\n",
       "    </tr>\n",
       "  </thead>\n",
       "  <tbody>\n",
       "    <tr>\n",
       "      <th>0</th>\n",
       "      <td>3F6AE062-915C-4652-AFE7-B55093DD710A</td>\n",
       "      <td>1637403</td>\n",
       "      <td>0</td>\n",
       "    </tr>\n",
       "    <tr>\n",
       "      <th>1</th>\n",
       "      <td>d628d6669367f687920fcd1830e50b8f</td>\n",
       "      <td>1660115</td>\n",
       "      <td>0</td>\n",
       "    </tr>\n",
       "    <tr>\n",
       "      <th>2</th>\n",
       "      <td>e8cd7c322b2bc651a2e3b0a80c0b8747</td>\n",
       "      <td>1660115</td>\n",
       "      <td>0</td>\n",
       "    </tr>\n",
       "    <tr>\n",
       "      <th>3</th>\n",
       "      <td>e8cc9ba66d2d340236c7204c3dce58c5</td>\n",
       "      <td>1660115</td>\n",
       "      <td>0</td>\n",
       "    </tr>\n",
       "    <tr>\n",
       "      <th>4</th>\n",
       "      <td>721420b023efa2f6056dab726bfde707</td>\n",
       "      <td>1660115</td>\n",
       "      <td>1</td>\n",
       "    </tr>\n",
       "    <tr>\n",
       "      <th>...</th>\n",
       "      <td>...</td>\n",
       "      <td>...</td>\n",
       "      <td>...</td>\n",
       "    </tr>\n",
       "    <tr>\n",
       "      <th>1109601</th>\n",
       "      <td>aacf40016082e2c835d91c0eebe6f7fe</td>\n",
       "      <td>1908028</td>\n",
       "      <td>0</td>\n",
       "    </tr>\n",
       "    <tr>\n",
       "      <th>1109602</th>\n",
       "      <td>ff41409addb16bf2919ae1291f6c4620</td>\n",
       "      <td>1908028</td>\n",
       "      <td>0</td>\n",
       "    </tr>\n",
       "    <tr>\n",
       "      <th>1109603</th>\n",
       "      <td>DB964D39-943E-4158-8161-94B6DD826637</td>\n",
       "      <td>1908028</td>\n",
       "      <td>0</td>\n",
       "    </tr>\n",
       "    <tr>\n",
       "      <th>1109604</th>\n",
       "      <td>b5fe73416a17af8860fa7a2c4867fedf</td>\n",
       "      <td>1908028</td>\n",
       "      <td>0</td>\n",
       "    </tr>\n",
       "    <tr>\n",
       "      <th>1109605</th>\n",
       "      <td>33ff496df1a4ba60efe93d78a9f98077</td>\n",
       "      <td>1909124</td>\n",
       "      <td>0</td>\n",
       "    </tr>\n",
       "  </tbody>\n",
       "</table>\n",
       "<p>1109606 rows × 3 columns</p>\n",
       "</div>"
      ],
      "text/plain": [
       "                                     deviceid   itemid  action_type\n",
       "0        3F6AE062-915C-4652-AFE7-B55093DD710A  1637403            0\n",
       "1            d628d6669367f687920fcd1830e50b8f  1660115            0\n",
       "2            e8cd7c322b2bc651a2e3b0a80c0b8747  1660115            0\n",
       "3            e8cc9ba66d2d340236c7204c3dce58c5  1660115            0\n",
       "4            721420b023efa2f6056dab726bfde707  1660115            1\n",
       "...                                       ...      ...          ...\n",
       "1109601      aacf40016082e2c835d91c0eebe6f7fe  1908028            0\n",
       "1109602      ff41409addb16bf2919ae1291f6c4620  1908028            0\n",
       "1109603  DB964D39-943E-4158-8161-94B6DD826637  1908028            0\n",
       "1109604      b5fe73416a17af8860fa7a2c4867fedf  1908028            0\n",
       "1109605      33ff496df1a4ba60efe93d78a9f98077  1909124            0\n",
       "\n",
       "[1109606 rows x 3 columns]"
      ]
     },
     "execution_count": 2,
     "metadata": {},
     "output_type": "execute_result"
    }
   ],
   "source": [
    "df=pd.read_csv(r'F:\\work\\4.8 热门推荐\\04131630.csv')\n",
    "df"
   ]
  },
  {
   "cell_type": "code",
   "execution_count": 4,
   "metadata": {},
   "outputs": [],
   "source": [
    "online_rec=['1909466','1909967','1908459','1906379','1908351','1907981','1908359','1909372','1909352','1904156','1909716','1909529','1899039'\n",
    "            ,'1907650','1908342','1909379','1909390','1909409','1906325','1908214']\n",
    "downline_rec=[\"1907650\",\"1888413\",\"1893186\",\"1886371\",\"1886521\",\"1889766\",\"1877220\",\"1887611\",\"1889595\"\"1889776\",\"1891833\",\"1881771\",\"1881778\"\n",
    "            \"1887690\",\"1884468\",\"1884459\",\"1885531\",\"1884167\",\"1885017\",\"1881997\"]"
   ]
  },
  {
   "cell_type": "code",
   "execution_count": 5,
   "metadata": {},
   "outputs": [],
   "source": [
    "rec=dict()\n",
    "read=dict()\n",
    "with open(r'F:\\work\\4.8 热门推荐\\04131630.csv',encoding='utf_8_sig') as f:\n",
    "    f.readline()\n",
    "    for line in f:\n",
    "        user,item,score=line.strip().split(',')\n",
    "        rec.setdefault(user,{})\n",
    "        if score=='1':\n",
    "            read.setdefault(user,{})\n",
    "            read[user][item]=score\n",
    "        else:\n",
    "            rec[user][item]=score"
   ]
  },
  {
   "cell_type": "code",
   "execution_count": 7,
   "metadata": {},
   "outputs": [
    {
     "data": {
      "text/plain": [
       "27989"
      ]
     },
     "execution_count": 7,
     "metadata": {},
     "output_type": "execute_result"
    }
   ],
   "source": [
    "devices=[]\n",
    "for user in read.keys():\n",
    "    if user in rec.keys():\n",
    "        devices.append(user)\n",
    "len(devices)"
   ]
  },
  {
   "cell_type": "code",
   "execution_count": 15,
   "metadata": {},
   "outputs": [
    {
     "name": "stdout",
     "output_type": "stream",
     "text": [
      "12925 86297 75893\n",
      "线上recall= 0.17030556177776607\n",
      "线上precision= 0.14977345678297044\n"
     ]
    }
   ],
   "source": [
    "right=0\n",
    "predict=0\n",
    "Read=0\n",
    "for user in devices:\n",
    "    recommend=online_rec\n",
    "    rec_un=[]\n",
    "    for item in recommend:\n",
    "        if item in rec[user]:\n",
    "            rec_un.append(item)\n",
    "    if len(rec_un)>0:\n",
    "        predict+=len(rec_un)\n",
    "        Read+=len(read[user])\n",
    "        for item in rec_un:\n",
    "            if str(item) in read[user].keys():\n",
    "                right+=1\n",
    "precision=right/predict\n",
    "recall=right/Read\n",
    "print(right,predict,Read)\n",
    "print('线上recall=',recall)\n",
    "print('线上precision=',precision)"
   ]
  },
  {
   "cell_type": "code",
   "execution_count": null,
   "metadata": {},
   "outputs": [],
   "source": []
  }
 ],
 "metadata": {
  "kernelspec": {
   "display_name": "Python 3",
   "language": "python",
   "name": "python3"
  },
  "language_info": {
   "codemirror_mode": {
    "name": "ipython",
    "version": 3
   },
   "file_extension": ".py",
   "mimetype": "text/x-python",
   "name": "python",
   "nbconvert_exporter": "python",
   "pygments_lexer": "ipython3",
   "version": "3.7.4"
  }
 },
 "nbformat": 4,
 "nbformat_minor": 2
}
