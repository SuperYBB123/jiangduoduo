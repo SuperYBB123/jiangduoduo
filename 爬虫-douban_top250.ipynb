{
 "cells": [
  {
   "cell_type": "code",
   "execution_count": 11,
   "metadata": {},
   "outputs": [],
   "source": [
    "import urllib.request as urlrequest\n",
    "from bs4 import BeautifulSoup\n",
    "\n",
    "top250_url='https://movie.douban.com/top250?start={}&filter='\n",
    "\n",
    "with open('douban_top250.txt','w') as outputfile:\n",
    "    for i in range(10):\n",
    "        start=i*25\n",
    "        url_visit=top250_url.format(start)\n",
    "        crawl_content=urlrequest.urlopen(url_visit).read()\n",
    "        http_content=crawl_content.decode('utf8')\n",
    "        soup=BeautifulSoup(http_content,'html.parser')\n",
    "    \n",
    "        all_item_divs=soup.find_all(class_='item')\n",
    "    \n",
    "        for each_item_div in all_item_divs:\n",
    "            pic_div=each_item_div.find(class_='pic')\n",
    "            item_href=pic_div.find('a')['href']\n",
    "            item_name=pic_div.find('img')['alt']\n",
    "            outputfile.write('{}{}\\n'.format(item_href,item_name))"
   ]
  },
  {
   "cell_type": "code",
   "execution_count": null,
   "metadata": {},
   "outputs": [],
   "source": []
  },
  {
   "cell_type": "code",
   "execution_count": null,
   "metadata": {},
   "outputs": [],
   "source": []
  }
 ],
 "metadata": {
  "kernelspec": {
   "display_name": "Python 3",
   "language": "python",
   "name": "python3"
  },
  "language_info": {
   "codemirror_mode": {
    "name": "ipython",
    "version": 3
   },
   "file_extension": ".py",
   "mimetype": "text/x-python",
   "name": "python",
   "nbconvert_exporter": "python",
   "pygments_lexer": "ipython3",
   "version": "3.7.4"
  }
 },
 "nbformat": 4,
 "nbformat_minor": 2
}
