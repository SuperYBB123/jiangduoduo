{
 "cells": [
  {
   "cell_type": "code",
   "execution_count": 2,
   "metadata": {},
   "outputs": [],
   "source": [
    "import pandas as pd\n",
    "import numpy as np\n",
    "import math\n",
    "from operator import itemgetter\n",
    "import csv"
   ]
  },
  {
   "cell_type": "code",
   "execution_count": 161,
   "metadata": {},
   "outputs": [
    {
     "data": {
      "text/html": [
       "<div>\n",
       "<style scoped>\n",
       "    .dataframe tbody tr th:only-of-type {\n",
       "        vertical-align: middle;\n",
       "    }\n",
       "\n",
       "    .dataframe tbody tr th {\n",
       "        vertical-align: top;\n",
       "    }\n",
       "\n",
       "    .dataframe thead th {\n",
       "        text-align: right;\n",
       "    }\n",
       "</style>\n",
       "<table border=\"1\" class=\"dataframe\">\n",
       "  <thead>\n",
       "    <tr style=\"text-align: right;\">\n",
       "      <th></th>\n",
       "      <th>essay_id</th>\n",
       "      <th>embedding</th>\n",
       "    </tr>\n",
       "  </thead>\n",
       "  <tbody>\n",
       "    <tr>\n",
       "      <td>0</td>\n",
       "      <td>290607</td>\n",
       "      <td>[-0.03454599415204088, -0.05767892252994755, -...</td>\n",
       "    </tr>\n",
       "    <tr>\n",
       "      <td>1</td>\n",
       "      <td>394127</td>\n",
       "      <td>[0.021726436906913695, -0.14967767599556367, 0...</td>\n",
       "    </tr>\n",
       "    <tr>\n",
       "      <td>2</td>\n",
       "      <td>504847</td>\n",
       "      <td>[-0.043751195395914474, -0.1801987305848531, 0...</td>\n",
       "    </tr>\n",
       "    <tr>\n",
       "      <td>3</td>\n",
       "      <td>535607</td>\n",
       "      <td>[-0.04687327534235502, -0.0788246007981876, 0....</td>\n",
       "    </tr>\n",
       "    <tr>\n",
       "      <td>4</td>\n",
       "      <td>558627</td>\n",
       "      <td>[-0.15998830875424164, -0.008907250447437556, ...</td>\n",
       "    </tr>\n",
       "    <tr>\n",
       "      <td>...</td>\n",
       "      <td>...</td>\n",
       "      <td>...</td>\n",
       "    </tr>\n",
       "    <tr>\n",
       "      <td>13928</td>\n",
       "      <td>3975615</td>\n",
       "      <td>[0.011311679953602665, -0.04959526588619834, 0...</td>\n",
       "    </tr>\n",
       "    <tr>\n",
       "      <td>13929</td>\n",
       "      <td>3975738</td>\n",
       "      <td>[0.20882117277040552, 0.03772823049046935, 0.0...</td>\n",
       "    </tr>\n",
       "    <tr>\n",
       "      <td>13930</td>\n",
       "      <td>3975659</td>\n",
       "      <td>[0.06788959363034361, -0.05716772578525943, -0...</td>\n",
       "    </tr>\n",
       "    <tr>\n",
       "      <td>13931</td>\n",
       "      <td>3976748</td>\n",
       "      <td>[-0.000640036019327188, 0.003873376695812714, ...</td>\n",
       "    </tr>\n",
       "    <tr>\n",
       "      <td>13932</td>\n",
       "      <td>3976835</td>\n",
       "      <td>[-0.13987608469465387, -0.16258167649428337, -...</td>\n",
       "    </tr>\n",
       "  </tbody>\n",
       "</table>\n",
       "<p>13933 rows × 2 columns</p>\n",
       "</div>"
      ],
      "text/plain": [
       "       essay_id                                          embedding\n",
       "0        290607  [-0.03454599415204088, -0.05767892252994755, -...\n",
       "1        394127  [0.021726436906913695, -0.14967767599556367, 0...\n",
       "2        504847  [-0.043751195395914474, -0.1801987305848531, 0...\n",
       "3        535607  [-0.04687327534235502, -0.0788246007981876, 0....\n",
       "4        558627  [-0.15998830875424164, -0.008907250447437556, ...\n",
       "...         ...                                                ...\n",
       "13928   3975615  [0.011311679953602665, -0.04959526588619834, 0...\n",
       "13929   3975738  [0.20882117277040552, 0.03772823049046935, 0.0...\n",
       "13930   3975659  [0.06788959363034361, -0.05716772578525943, -0...\n",
       "13931   3976748  [-0.000640036019327188, 0.003873376695812714, ...\n",
       "13932   3976835  [-0.13987608469465387, -0.16258167649428337, -...\n",
       "\n",
       "[13933 rows x 2 columns]"
      ]
     },
     "execution_count": 161,
     "metadata": {},
     "output_type": "execute_result"
    }
   ],
   "source": [
    "data=pd.read_csv(r'F:\\work\\Downloads\\query-hive-532743.csv')\n",
    "data"
   ]
  },
  {
   "cell_type": "code",
   "execution_count": 3,
   "metadata": {},
   "outputs": [
    {
     "name": "stdout",
     "output_type": "stream",
     "text": [
      "有效文章向量存储成功\n",
      "有效文章向量矩阵存储成功\n"
     ]
    }
   ],
   "source": [
    "effective_item_dict={}\n",
    "for i in data.index:\n",
    "    word=data['essay_id'][i]\n",
    "    embedding=data['embedding'][i].replace('[','').replace(']','').split(', ')\n",
    "    embedding=[float(x) for x in embedding]\n",
    "    effective_item_dict[word]=embedding\n",
    "print('有效文章向量存储成功')\n",
    "effective_matrix=np.zeros((len(effective_item_dict.keys()),100))\n",
    "effective_lst=list(effective_item_dict.keys())\n",
    "for i in range(len(effective_lst)):\n",
    "    effective_matrix[i]=np.array(effective_item_dict[effective_lst[i]])\n",
    "print('有效文章向量矩阵存储成功')\n"
   ]
  },
  {
   "cell_type": "code",
   "execution_count": 4,
   "metadata": {},
   "outputs": [
    {
     "data": {
      "text/html": [
       "<div>\n",
       "<style scoped>\n",
       "    .dataframe tbody tr th:only-of-type {\n",
       "        vertical-align: middle;\n",
       "    }\n",
       "\n",
       "    .dataframe tbody tr th {\n",
       "        vertical-align: top;\n",
       "    }\n",
       "\n",
       "    .dataframe thead th {\n",
       "        text-align: right;\n",
       "    }\n",
       "</style>\n",
       "<table border=\"1\" class=\"dataframe\">\n",
       "  <thead>\n",
       "    <tr style=\"text-align: right;\">\n",
       "      <th></th>\n",
       "      <th>essay_id</th>\n",
       "      <th>embedding</th>\n",
       "    </tr>\n",
       "  </thead>\n",
       "  <tbody>\n",
       "    <tr>\n",
       "      <td>0</td>\n",
       "      <td>165987</td>\n",
       "      <td>[-0.05439096034671735, 0.0508400606827551, 0.0...</td>\n",
       "    </tr>\n",
       "    <tr>\n",
       "      <td>1</td>\n",
       "      <td>171487</td>\n",
       "      <td>[-0.047201549624971126, -0.10145030526854272, ...</td>\n",
       "    </tr>\n",
       "    <tr>\n",
       "      <td>2</td>\n",
       "      <td>176787</td>\n",
       "      <td>[-0.015890114888584925, 0.058667642409633666, ...</td>\n",
       "    </tr>\n",
       "    <tr>\n",
       "      <td>3</td>\n",
       "      <td>197427</td>\n",
       "      <td>[0.030642318547615323, 0.0020018767984995144, ...</td>\n",
       "    </tr>\n",
       "    <tr>\n",
       "      <td>4</td>\n",
       "      <td>197947</td>\n",
       "      <td>[0.13634151446800868, 0.030653411269028142, 0....</td>\n",
       "    </tr>\n",
       "    <tr>\n",
       "      <td>...</td>\n",
       "      <td>...</td>\n",
       "      <td>...</td>\n",
       "    </tr>\n",
       "    <tr>\n",
       "      <td>41018</td>\n",
       "      <td>3976435</td>\n",
       "      <td>[0.026192074422462217, -0.05536739620745684, 0...</td>\n",
       "    </tr>\n",
       "    <tr>\n",
       "      <td>41019</td>\n",
       "      <td>3976820</td>\n",
       "      <td>[-0.11907232120608446, -0.19200648090299086, -...</td>\n",
       "    </tr>\n",
       "    <tr>\n",
       "      <td>41020</td>\n",
       "      <td>3976748</td>\n",
       "      <td>[-0.000640036019327188, 0.003873376695812714, ...</td>\n",
       "    </tr>\n",
       "    <tr>\n",
       "      <td>41021</td>\n",
       "      <td>3976835</td>\n",
       "      <td>[-0.13987608469465387, -0.16258167649428337, -...</td>\n",
       "    </tr>\n",
       "    <tr>\n",
       "      <td>41022</td>\n",
       "      <td>3976717</td>\n",
       "      <td>[-0.0031942413866304243, 0.07136006422161735, ...</td>\n",
       "    </tr>\n",
       "  </tbody>\n",
       "</table>\n",
       "<p>41023 rows × 2 columns</p>\n",
       "</div>"
      ],
      "text/plain": [
       "       essay_id                                          embedding\n",
       "0        165987  [-0.05439096034671735, 0.0508400606827551, 0.0...\n",
       "1        171487  [-0.047201549624971126, -0.10145030526854272, ...\n",
       "2        176787  [-0.015890114888584925, 0.058667642409633666, ...\n",
       "3        197427  [0.030642318547615323, 0.0020018767984995144, ...\n",
       "4        197947  [0.13634151446800868, 0.030653411269028142, 0....\n",
       "...         ...                                                ...\n",
       "41018   3976435  [0.026192074422462217, -0.05536739620745684, 0...\n",
       "41019   3976820  [-0.11907232120608446, -0.19200648090299086, -...\n",
       "41020   3976748  [-0.000640036019327188, 0.003873376695812714, ...\n",
       "41021   3976835  [-0.13987608469465387, -0.16258167649428337, -...\n",
       "41022   3976717  [-0.0031942413866304243, 0.07136006422161735, ...\n",
       "\n",
       "[41023 rows x 2 columns]"
      ]
     },
     "execution_count": 4,
     "metadata": {},
     "output_type": "execute_result"
    }
   ],
   "source": [
    "data=pd.read_csv(r'F:\\work\\Downloads\\query-hive-532782.csv')\n",
    "data"
   ]
  },
  {
   "cell_type": "code",
   "execution_count": 5,
   "metadata": {},
   "outputs": [
    {
     "name": "stdout",
     "output_type": "stream",
     "text": [
      "有行为的文章向量存储成功\n",
      "有行为的文章向量矩阵存储成功\n"
     ]
    }
   ],
   "source": [
    "act_item_dict={}\n",
    "for i in data.index:\n",
    "    word=data['essay_id'][i]\n",
    "    embedding=data['embedding'][i].replace('[','').replace(']','').split(', ')\n",
    "    embedding=[float(x) for x in embedding]\n",
    "    act_item_dict[word]=embedding\n",
    "print('有行为的文章向量存储成功')\n",
    "act_matrix=np.zeros((len(act_item_dict.keys()),100))\n",
    "act_lst=list(act_item_dict.keys())\n",
    "for i in range(len(act_lst)):\n",
    "    act_matrix[i]=np.array(act_item_dict[act_lst[i]])\n",
    "print('有行为的文章向量矩阵存储成功')"
   ]
  },
  {
   "cell_type": "code",
   "execution_count": 6,
   "metadata": {},
   "outputs": [
    {
     "name": "stdout",
     "output_type": "stream",
     "text": [
      "相似度矩阵计算成功\n"
     ]
    }
   ],
   "source": [
    "sim_matrix=np.dot(act_matrix,effective_matrix.T)\n",
    "print('相似度矩阵计算成功')"
   ]
  },
  {
   "cell_type": "code",
   "execution_count": 7,
   "metadata": {},
   "outputs": [
    {
     "data": {
      "text/plain": [
       "array([[0.28474357, 0.40672438, 0.41085044, ..., 0.29364577, 0.48139597,\n",
       "        0.36697867],\n",
       "       [0.3112797 , 0.44388688, 0.4604408 , ..., 0.57788926, 0.5480703 ,\n",
       "        0.64997356],\n",
       "       [0.33867384, 0.33343447, 0.40530145, ..., 0.59076332, 0.67884998,\n",
       "        0.40865089],\n",
       "       ...,\n",
       "       [0.33047738, 0.35174861, 0.36804886, ..., 0.5395158 , 1.        ,\n",
       "        0.37340092],\n",
       "       [0.2447896 , 0.36504686, 0.38979845, ..., 0.35721614, 0.37340092,\n",
       "        1.        ],\n",
       "       [0.3884289 , 0.48645584, 0.49145097, ..., 0.4674928 , 0.72388667,\n",
       "        0.49231056]])"
      ]
     },
     "execution_count": 7,
     "metadata": {},
     "output_type": "execute_result"
    }
   ],
   "source": [
    "sim_matrix"
   ]
  },
  {
   "cell_type": "code",
   "execution_count": 8,
   "metadata": {},
   "outputs": [
    {
     "name": "stdout",
     "output_type": "stream",
     "text": [
      "相似度获取成功!\n"
     ]
    }
   ],
   "source": [
    "output={}\n",
    "for i in range(len(act_lst)):\n",
    "    act_item=act_lst[i]\n",
    "    output.setdefault(act_item,{})\n",
    "    act_tensor=sim_matrix[i]\n",
    "    sorted_list=sorted(enumerate(list(act_tensor)), key=itemgetter(1),reverse=True)\n",
    "    for j,sim in sorted_list[1:51]:\n",
    "        sim_item=effective_lst[j]\n",
    "        output[act_item][sim_item]=sim\n",
    "print('相似度获取成功!')"
   ]
  },
  {
   "cell_type": "code",
   "execution_count": null,
   "metadata": {},
   "outputs": [],
   "source": []
  },
  {
   "cell_type": "code",
   "execution_count": null,
   "metadata": {},
   "outputs": [],
   "source": []
  },
  {
   "cell_type": "code",
   "execution_count": 9,
   "metadata": {},
   "outputs": [],
   "source": [
    "import timeit\n",
    "from sklearn.neighbors import KDTree,BallTree\n",
    "kd_tree=KDTree(effective_matrix,metric='euclidean')\n",
    "ball_tree=BallTree(effective_matrix,metric='euclidean')"
   ]
  },
  {
   "cell_type": "code",
   "execution_count": 10,
   "metadata": {},
   "outputs": [
    {
     "data": {
      "text/plain": [
       "True"
      ]
     },
     "execution_count": 10,
     "metadata": {},
     "output_type": "execute_result"
    }
   ],
   "source": [
    "from annoy import AnnoyIndex\n",
    "d=100\n",
    "ann_index=AnnoyIndex(d,'euclidean')\n",
    "n=len(effective_matrix)\n",
    "for i in range(n):\n",
    "    ann_index.add_item(i,effective_matrix[i])\n",
    "ann_index.build(100)"
   ]
  },
  {
   "cell_type": "code",
   "execution_count": 11,
   "metadata": {},
   "outputs": [],
   "source": [
    "import hnswlib\n",
    "num_elements=effective_matrix.shape[0]\n",
    "dim=effective_matrix.shape[1]\n",
    "p=hnswlib.Index(space='l2',dim=dim)\n",
    "p.init_index(max_elements=num_elements,ef_construction=100,M=16)\n",
    "p.set_ef(10)\n",
    "p.set_num_threads(4)\n",
    "p.add_items(effective_matrix)"
   ]
  },
  {
   "cell_type": "code",
   "execution_count": 18,
   "metadata": {},
   "outputs": [],
   "source": [
    "def test_kdtree(x_emb,kd_tree):\n",
    "    x_emb=x_emb.reshape(1,-1)\n",
    "    kd_tree.query(x_emb,k=10,return_distance=False)\n",
    "def test_balltree(x_emb,ball_tree):\n",
    "    x_emb=x_emb.reshape(1,-1)\n",
    "    ball_tree.query(x_emb,k=10,return_distance=False)\n",
    "def test_annoy(x_emb,ann_index):\n",
    "    ann_index.get_nns_by_vector(x_emb,10,include_distances=False)\n",
    "def test_hnsw(x_emb,p):\n",
    "    p.knn_query(x_emb,10)\n",
    "def test_time(sql):\n",
    "    m = timeit.repeat(sql, repeat=100, number=1, globals=globals())\n",
    "    m = np.array(m) * 1000.0 #换算为毫秒\n",
    "    print(np.min(m), np.mean(m), np.max(m), np.std(m))"
   ]
  },
  {
   "cell_type": "code",
   "execution_count": 19,
   "metadata": {},
   "outputs": [
    {
     "name": "stdout",
     "output_type": "stream",
     "text": [
      "3.05160000016258 4.439134000015201 11.365499999783424 0.9848903477113952\n",
      "2.9211999999461113 4.0201630000024124 7.298099999843544 0.6742909289946108\n",
      "0.1752000000578846 0.23832499999571155 1.2807999999040476 0.11953822265101184\n",
      "0.02599999993435631 0.03934499999104446 0.8433999998942454 0.08126162608334471\n"
     ]
    }
   ],
   "source": [
    "test_time(\"test_kdtree(effective_matrix[0],kd_tree)\")\n",
    "test_time(\"test_balltree(effective_matrix[0],kd_tree)\")\n",
    "test_time(\"test_annoy(effective_matrix[0],ann_index)\")\n",
    "test_time(\"test_hnsw(effective_matrix[0],p)\")"
   ]
  },
  {
   "cell_type": "code",
   "execution_count": 14,
   "metadata": {},
   "outputs": [
    {
     "data": {
      "text/plain": [
       "(array([[0.        , 0.44473956, 0.44567583, 0.48275337, 0.48384814,\n",
       "         0.5045995 , 0.51051476, 0.51127899, 0.51776073, 0.53016952]]),\n",
       " array([[    0, 13197,  6944,  6965,  4713,  4122,  8523,   699,  2312,\n",
       "          2837]], dtype=int64))"
      ]
     },
     "execution_count": 14,
     "metadata": {},
     "output_type": "execute_result"
    }
   ],
   "source": [
    "#ball_tree\n",
    "x_emb=effective_matrix[0]\n",
    "x_emb=x_emb.reshape(1,-1)\n",
    "ball_tree.query(x_emb,k=10,return_distance=True)"
   ]
  },
  {
   "cell_type": "code",
   "execution_count": 46,
   "metadata": {},
   "outputs": [
    {
     "data": {
      "text/plain": [
       "(array([[0.        , 0.44473956, 0.44567583, 0.48275337, 0.48384814,\n",
       "         0.5045995 , 0.51051476, 0.51127899, 0.51776073, 0.53016952]]),\n",
       " array([[    0, 13197,  6944,  6965,  4713,  4122,  8523,   699,  2312,\n",
       "          2837]], dtype=int64))"
      ]
     },
     "execution_count": 46,
     "metadata": {},
     "output_type": "execute_result"
    }
   ],
   "source": [
    "#kd_tree\n",
    "x_emb=effective_matrix[0]\n",
    "x_emb=x_emb.reshape(1,-1)\n",
    "kd_tree.query(x_emb,k=10,return_distance=True)"
   ]
  },
  {
   "cell_type": "code",
   "execution_count": 16,
   "metadata": {},
   "outputs": [
    {
     "data": {
      "text/plain": [
       "([0, 13197, 6944, 6965, 4713, 4122, 8523, 699, 2312, 2837],\n",
       " [0.0,\n",
       "  0.44473958015441895,\n",
       "  0.445675790309906,\n",
       "  0.48275336623191833,\n",
       "  0.4838481545448303,\n",
       "  0.5045995116233826,\n",
       "  0.5105147361755371,\n",
       "  0.5112789869308472,\n",
       "  0.5177607536315918,\n",
       "  0.5301695466041565])"
      ]
     },
     "execution_count": 16,
     "metadata": {},
     "output_type": "execute_result"
    }
   ],
   "source": [
    "x_emb=effective_matrix[0]\n",
    "ann_index.get_nns_by_vector(x_emb,10,include_distances=True)"
   ]
  },
  {
   "cell_type": "code",
   "execution_count": 17,
   "metadata": {},
   "outputs": [
    {
     "data": {
      "text/plain": [
       "(array([[    0, 13197,  6944,  6965,  4713,  4122,  8523,   699,  2312,\n",
       "          2837]], dtype=uint64),\n",
       " array([[0.        , 0.19779329, 0.19862692, 0.23305082, 0.23410903,\n",
       "         0.25462064, 0.2606253 , 0.2614062 , 0.26807618, 0.28107974]],\n",
       "       dtype=float32))"
      ]
     },
     "execution_count": 17,
     "metadata": {},
     "output_type": "execute_result"
    }
   ],
   "source": [
    "x_emb=effective_matrix[0]\n",
    "p.knn_query(x_emb,10)"
   ]
  },
  {
   "cell_type": "code",
   "execution_count": 139,
   "metadata": {},
   "outputs": [
    {
     "data": {
      "text/html": [
       "<div>\n",
       "<style scoped>\n",
       "    .dataframe tbody tr th:only-of-type {\n",
       "        vertical-align: middle;\n",
       "    }\n",
       "\n",
       "    .dataframe tbody tr th {\n",
       "        vertical-align: top;\n",
       "    }\n",
       "\n",
       "    .dataframe thead th {\n",
       "        text-align: right;\n",
       "    }\n",
       "</style>\n",
       "<table border=\"1\" class=\"dataframe\">\n",
       "  <thead>\n",
       "    <tr style=\"text-align: right;\">\n",
       "      <th></th>\n",
       "      <th>deviceid</th>\n",
       "      <th>user_embedding_kw</th>\n",
       "    </tr>\n",
       "  </thead>\n",
       "  <tbody>\n",
       "    <tr>\n",
       "      <td>0</td>\n",
       "      <td>84960a1774a3460c93c5b010b4b97cef</td>\n",
       "      <td>0.10915773219937779,0.23889515323733762,-0.090...</td>\n",
       "    </tr>\n",
       "    <tr>\n",
       "      <td>1</td>\n",
       "      <td>849628ecb8124c3fa0bc3252d7898f05</td>\n",
       "      <td>0.19140144773443826,0.03375510105250599,-0.028...</td>\n",
       "    </tr>\n",
       "    <tr>\n",
       "      <td>2</td>\n",
       "      <td>8496d6c69fa8b53e780022e863c6b923</td>\n",
       "      <td>0.05954629433182673,0.012522418547905638,0.115...</td>\n",
       "    </tr>\n",
       "    <tr>\n",
       "      <td>3</td>\n",
       "      <td>84977bcb0b657af074298725e884c289</td>\n",
       "      <td>0.05924593841824724,0.09227478363833543,-0.005...</td>\n",
       "    </tr>\n",
       "    <tr>\n",
       "      <td>4</td>\n",
       "      <td>8497be5892c6545afb11f16dcf76c832</td>\n",
       "      <td>0.10131438849453007,0.12851033599115833,0.0211...</td>\n",
       "    </tr>\n",
       "    <tr>\n",
       "      <td>...</td>\n",
       "      <td>...</td>\n",
       "      <td>...</td>\n",
       "    </tr>\n",
       "    <tr>\n",
       "      <td>9995</td>\n",
       "      <td>9a164075725141d48507a86a4a845e23</td>\n",
       "      <td>0.17791186277926466,0.08001076235345247,-0.045...</td>\n",
       "    </tr>\n",
       "    <tr>\n",
       "      <td>9996</td>\n",
       "      <td>9a16a1cc4adc4c538652ff2db5a1a419</td>\n",
       "      <td>0.09748168013091646,0.11708576301788566,-0.032...</td>\n",
       "    </tr>\n",
       "    <tr>\n",
       "      <td>9997</td>\n",
       "      <td>9a17976c56b8223b1a6f2107cc8bfc56</td>\n",
       "      <td>0.11760675324377234,0.08334436103322061,-0.005...</td>\n",
       "    </tr>\n",
       "    <tr>\n",
       "      <td>9998</td>\n",
       "      <td>9a1828c931b44aadd4f415375918bed4</td>\n",
       "      <td>0.08200259022899334,0.14867224005763136,0.0273...</td>\n",
       "    </tr>\n",
       "    <tr>\n",
       "      <td>9999</td>\n",
       "      <td>9a190b58345b0a51a9b815293cedd437</td>\n",
       "      <td>0.07268666901445894,-0.017808301998724005,-0.0...</td>\n",
       "    </tr>\n",
       "  </tbody>\n",
       "</table>\n",
       "<p>10000 rows × 2 columns</p>\n",
       "</div>"
      ],
      "text/plain": [
       "                              deviceid  \\\n",
       "0     84960a1774a3460c93c5b010b4b97cef   \n",
       "1     849628ecb8124c3fa0bc3252d7898f05   \n",
       "2     8496d6c69fa8b53e780022e863c6b923   \n",
       "3     84977bcb0b657af074298725e884c289   \n",
       "4     8497be5892c6545afb11f16dcf76c832   \n",
       "...                                ...   \n",
       "9995  9a164075725141d48507a86a4a845e23   \n",
       "9996  9a16a1cc4adc4c538652ff2db5a1a419   \n",
       "9997  9a17976c56b8223b1a6f2107cc8bfc56   \n",
       "9998  9a1828c931b44aadd4f415375918bed4   \n",
       "9999  9a190b58345b0a51a9b815293cedd437   \n",
       "\n",
       "                                      user_embedding_kw  \n",
       "0     0.10915773219937779,0.23889515323733762,-0.090...  \n",
       "1     0.19140144773443826,0.03375510105250599,-0.028...  \n",
       "2     0.05954629433182673,0.012522418547905638,0.115...  \n",
       "3     0.05924593841824724,0.09227478363833543,-0.005...  \n",
       "4     0.10131438849453007,0.12851033599115833,0.0211...  \n",
       "...                                                 ...  \n",
       "9995  0.17791186277926466,0.08001076235345247,-0.045...  \n",
       "9996  0.09748168013091646,0.11708576301788566,-0.032...  \n",
       "9997  0.11760675324377234,0.08334436103322061,-0.005...  \n",
       "9998  0.08200259022899334,0.14867224005763136,0.0273...  \n",
       "9999  0.07268666901445894,-0.017808301998724005,-0.0...  \n",
       "\n",
       "[10000 rows x 2 columns]"
      ]
     },
     "execution_count": 139,
     "metadata": {},
     "output_type": "execute_result"
    }
   ],
   "source": [
    "user_data=pd.read_csv(r'F:\\work\\Downloads\\query-hive-534786.csv')\n",
    "user_data"
   ]
  },
  {
   "cell_type": "code",
   "execution_count": 140,
   "metadata": {},
   "outputs": [],
   "source": [
    "user_dict={}\n",
    "for i in user_data.index:\n",
    "    deviceid=user_data['deviceid'][i]\n",
    "    embedding=user_data['user_embedding_kw'][i].split(',')\n",
    "    embedding=[float(x) for x in embedding]\n",
    "    user_dict[deviceid]=embedding"
   ]
  },
  {
   "cell_type": "code",
   "execution_count": 163,
   "metadata": {},
   "outputs": [
    {
     "data": {
      "text/html": [
       "<div>\n",
       "<style scoped>\n",
       "    .dataframe tbody tr th:only-of-type {\n",
       "        vertical-align: middle;\n",
       "    }\n",
       "\n",
       "    .dataframe tbody tr th {\n",
       "        vertical-align: top;\n",
       "    }\n",
       "\n",
       "    .dataframe thead th {\n",
       "        text-align: right;\n",
       "    }\n",
       "</style>\n",
       "<table border=\"1\" class=\"dataframe\">\n",
       "  <thead>\n",
       "    <tr style=\"text-align: right;\">\n",
       "      <th></th>\n",
       "      <th>essay_id</th>\n",
       "      <th>e.c_title</th>\n",
       "    </tr>\n",
       "  </thead>\n",
       "  <tbody>\n",
       "    <tr>\n",
       "      <td>0</td>\n",
       "      <td>98511</td>\n",
       "      <td>2018国庆节摩旅太行山岳家寨</td>\n",
       "    </tr>\n",
       "    <tr>\n",
       "      <td>1</td>\n",
       "      <td>140622</td>\n",
       "      <td>摩托骑行泰安大汶口明石桥</td>\n",
       "    </tr>\n",
       "    <tr>\n",
       "      <td>2</td>\n",
       "      <td>149412</td>\n",
       "      <td>海南有多美！临高县一日游！！！（喜欢的朋友点个赞！😄）</td>\n",
       "    </tr>\n",
       "    <tr>\n",
       "      <td>3</td>\n",
       "      <td>185876</td>\n",
       "      <td>助推器</td>\n",
       "    </tr>\n",
       "    <tr>\n",
       "      <td>4</td>\n",
       "      <td>186680</td>\n",
       "      <td>你扔掉的摩托车轮胎， 在非洲肯尼亚居然做成鞋子了，愣住了！</td>\n",
       "    </tr>\n",
       "    <tr>\n",
       "      <td>...</td>\n",
       "      <td>...</td>\n",
       "      <td>...</td>\n",
       "    </tr>\n",
       "    <tr>\n",
       "      <td>14339</td>\n",
       "      <td>3987085</td>\n",
       "      <td>逆天颜值 胡思瓦娜诺顿901即将量产</td>\n",
       "    </tr>\n",
       "    <tr>\n",
       "      <td>14340</td>\n",
       "      <td>3987099</td>\n",
       "      <td>众人皆草木,唯你是青山 ，机车女神（无水印高清）</td>\n",
       "    </tr>\n",
       "    <tr>\n",
       "      <td>14341</td>\n",
       "      <td>3987119</td>\n",
       "      <td>贝纳利 唯一款六缸车长什么样</td>\n",
       "    </tr>\n",
       "    <tr>\n",
       "      <td>14342</td>\n",
       "      <td>3987138</td>\n",
       "      <td>所爱隔山海，山海不可平，机车女神（无水印高清）</td>\n",
       "    </tr>\n",
       "    <tr>\n",
       "      <td>14343</td>\n",
       "      <td>3987144</td>\n",
       "      <td>无聊溜一溜</td>\n",
       "    </tr>\n",
       "  </tbody>\n",
       "</table>\n",
       "<p>14344 rows × 2 columns</p>\n",
       "</div>"
      ],
      "text/plain": [
       "       essay_id                      e.c_title\n",
       "0         98511                2018国庆节摩旅太行山岳家寨\n",
       "1        140622                   摩托骑行泰安大汶口明石桥\n",
       "2        149412    海南有多美！临高县一日游！！！（喜欢的朋友点个赞！😄）\n",
       "3        185876                            助推器\n",
       "4        186680  你扔掉的摩托车轮胎， 在非洲肯尼亚居然做成鞋子了，愣住了！\n",
       "...         ...                            ...\n",
       "14339   3987085             逆天颜值 胡思瓦娜诺顿901即将量产\n",
       "14340   3987099       众人皆草木,唯你是青山 ，机车女神（无水印高清）\n",
       "14341   3987119                 贝纳利 唯一款六缸车长什么样\n",
       "14342   3987138        所爱隔山海，山海不可平，机车女神（无水印高清）\n",
       "14343   3987144                          无聊溜一溜\n",
       "\n",
       "[14344 rows x 2 columns]"
      ]
     },
     "execution_count": 163,
     "metadata": {},
     "output_type": "execute_result"
    }
   ],
   "source": [
    "titles=pd.read_csv(r'F:\\work\\Downloads\\query-hive-534377.csv')\n",
    "titles"
   ]
  },
  {
   "cell_type": "code",
   "execution_count": 72,
   "metadata": {},
   "outputs": [],
   "source": [
    "title_dict={}\n",
    "for i in titles.index:\n",
    "    itemid=titles['essay_id'][i]\n",
    "    title=titles['e.c_title'][i]\n",
    "    title_dict[itemid]=title"
   ]
  },
  {
   "cell_type": "code",
   "execution_count": 27,
   "metadata": {},
   "outputs": [],
   "source": [
    "for deviceid,emb in user_dict.items():\n",
    "    p.knn_query(emb,10)"
   ]
  },
  {
   "cell_type": "code",
   "execution_count": 141,
   "metadata": {},
   "outputs": [
    {
     "name": "stdout",
     "output_type": "stream",
     "text": [
      "84960a1774a3460c93c5b010b4b97cef\n",
      "它是高性价比摩托车,8马力110cc,满油400公里,均价仅1.2万\n",
      "它是高性价比摩托车，8马力110cc，满油400公里，均价仅1.2万\n",
      "车界性价之王,110cc单缸风冷,油耗仅1.6L,仅1.2万起\n",
      "国人没白捧红它!一箱油开200km,125cc风冷+8马力,起步价9600\n",
      "又一亲民小踏板!续航300km,单缸风冷110cc,1.2万你会买吗\n",
      "实在通勤摩托车!加满油开300km,6.3kw功率110cc,起步价1.2万\n",
      "摩托车界性价王！6.3kw功率110cc，1.2万你会买吗\n",
      "最该火的摩托车!续航200km,搭载100cc单缸风冷,6700贵吗\n",
      "这摩托车真特别!外表彰显档次,单缸风冷110cc,1.2万贵吗\n",
      "又一实用踏板车!110cc风冷输出8马力,开8年难有大修,仅1.2万起\n"
     ]
    }
   ],
   "source": [
    "n=0\n",
    "print(user_data['deviceid'][n])\n",
    "emb=user_data.values[n][1].split(',')\n",
    "emb=[float(x) for x in emb]\n",
    "for i in p.knn_query(emb,10)[0].tolist()[0]:\n",
    "    itemid=effective_lst[i]\n",
    "    if itemid in title_dict.keys():\n",
    "        print(title_dict[itemid])"
   ]
  },
  {
   "cell_type": "code",
   "execution_count": 142,
   "metadata": {},
   "outputs": [
    {
     "name": "stdout",
     "output_type": "stream",
     "text": [
      "84960a1774a3460c93c5b010b4b97cef\n",
      "俏也不争春 只把春来报 待到春花烂漫时 俺在丛中笑\n",
      "它是高性价比摩托车,8马力110cc,满油400公里,均价仅1.2万\n",
      "它是高性价比摩托车，8马力110cc，满油400公里，均价仅1.2万\n",
      "一起来玩吧\n",
      "陶冶一下情操\n",
      "朴实无华   的   机车人生\n",
      "车界性价之王,110cc单缸风冷,油耗仅1.6L,仅1.2万起\n",
      "国人没白捧红它!一箱油开200km,125cc风冷+8马力,起步价9600\n",
      "又一亲民小踏板!续航300km,单缸风冷110cc,1.2万你会买吗\n",
      "实在通勤摩托车!加满油开300km,6.3kw功率110cc,起步价1.2万\n"
     ]
    }
   ],
   "source": [
    "print(user_data['deviceid'][n])\n",
    "emb=user_data.values[n][1].split(',')\n",
    "emb=[float(x) for x in emb]\n",
    "sim_matrix=np.dot(np.array(emb),effective_matrix.T)\n",
    "sorted_list=sorted(enumerate(list(sim_matrix)), key=itemgetter(1),reverse=True)\n",
    "for j,sim in sorted_list[:10]:\n",
    "    simitem=effective_lst[j]\n",
    "    if simitem in title_dict.keys():\n",
    "        title=title_dict[simitem]\n",
    "        print(title)"
   ]
  },
  {
   "cell_type": "code",
   "execution_count": 167,
   "metadata": {},
   "outputs": [
    {
     "data": {
      "text/plain": [
       "'20210128'"
      ]
     },
     "execution_count": 167,
     "metadata": {},
     "output_type": "execute_result"
    }
   ],
   "source": [
    "import datetime\n",
    "today=datetime.date.today() \n",
    "oneday=datetime.timedelta(days=1) \n",
    "yesterday=(today-oneday).strftime('%Y%m%d')\n",
    "yesterday"
   ]
  },
  {
   "cell_type": "code",
   "execution_count": null,
   "metadata": {},
   "outputs": [],
   "source": []
  }
 ],
 "metadata": {
  "kernelspec": {
   "display_name": "Python 3",
   "language": "python",
   "name": "python3"
  },
  "language_info": {
   "codemirror_mode": {
    "name": "ipython",
    "version": 3
   },
   "file_extension": ".py",
   "mimetype": "text/x-python",
   "name": "python",
   "nbconvert_exporter": "python",
   "pygments_lexer": "ipython3",
   "version": "3.7.4"
  }
 },
 "nbformat": 4,
 "nbformat_minor": 2
}
