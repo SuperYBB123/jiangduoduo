{
 "cells": [
  {
   "cell_type": "code",
   "execution_count": 1,
   "metadata": {},
   "outputs": [],
   "source": [
    "import numpy as np\n",
    "import scipy as sp\n",
    "import pandas as pd\n",
    "import datetime"
   ]
  },
  {
   "cell_type": "code",
   "execution_count": 2,
   "metadata": {},
   "outputs": [],
   "source": [
    "nodes = []  # 所有的节点存入数组\n",
    "nodesnum = 0  # 所有节点的数目\n",
    "nodes_index = {}  # <节点名，节点在nodes数组中的编号>\n",
    "link_in={}\n",
    "damp = 0.8  # 阻尼系数\n",
    "trans_matrix = np.matrix(0)  # 转移概率矩阵\n",
    "sim_matrix = np.matrix(0)  # 节点相似度矩阵\n",
    "df=pd.read_csv(r'F:\\work\\8.19 simrank\\title.csv')\n",
    "df=df.loc[df['c_title'].notna()]\n",
    "title_dict=dict()\n",
    "for i in df.index:\n",
    "    itemid=df['itemid'][i]\n",
    "    title=df['c_title'][i]\n",
    "    title_dict[str(itemid)]=title"
   ]
  },
  {
   "cell_type": "code",
   "execution_count": 3,
   "metadata": {},
   "outputs": [],
   "source": [
    "def initParam():\n",
    "    '''\n",
    "    构建nodes、nodes_index、trans_matrix和第0代的sim_matrix.\n",
    "    输入文件行格式要求：node\\toutneighbor\\toutneighbor\\t...或 node\\tinneighbor\\tinneighbor\\t...\n",
    "    '''\n",
    "    global nodes\n",
    "    global nodes_index\n",
    "    global trans_matrix\n",
    "    global sim_matrix\n",
    "    global damp\n",
    "    global nodesnum\n",
    "    global link_in\n",
    " \n",
    "    link_in = {}\n",
    "    df=pd.read_csv(r'F:\\work\\8.19 simrank\\7天user有效.csv')\n",
    "    df=df.sample(10000,random_state=23)\n",
    "    for i in df.index:\n",
    "        node = df['deviceid'][i]\n",
    "        item_list=df['list'][i].strip().split(',')\n",
    "        nodeid = -1\n",
    "        if node in nodes_index:\n",
    "            nodeid = nodes_index[node]\n",
    "        else:\n",
    "            nodeid = len(nodes)\n",
    "            nodes_index[node] = nodeid\n",
    "            nodes.append(node)\n",
    "        link_in.setdefault(node,[])\n",
    "        for item in item_list:\n",
    "            if item not in link_in[node]:\n",
    "                link_in[node].append(item)\n",
    "                \n",
    "                \n",
    "    for i in df.index:\n",
    "        node = df['deviceid'][i]\n",
    "        nodeid = nodes_index[node]\n",
    "        item_list=df['list'][i].strip().split(',')\n",
    "        for ele in item_list:\n",
    "            outneighbor = ele\n",
    "            outneighborid = -1\n",
    "            if outneighbor in nodes_index:\n",
    "                outneighborid = nodes_index[outneighbor]\n",
    "            else:\n",
    "                outneighborid = len(nodes)\n",
    "                nodes_index[outneighbor] = outneighborid\n",
    "                nodes.append(outneighbor)\n",
    "            link_in.setdefault(outneighbor,[])\n",
    "            if node not in link_in[outneighbor]:\n",
    "                link_in[outneighbor].append(node)\n",
    "                \n",
    "    nodesnum = len(nodes)\n",
    "    trans_matrix = np.zeros((nodesnum, nodesnum))\n",
    "    for node, inneighbors in link_in.items():\n",
    "        nodeid=nodes_index[node]\n",
    "        num = len(inneighbors)\n",
    "        prob = 1.0 / num\n",
    "        for neighbor in inneighbors:\n",
    "            neighbourid=nodes_index[neighbor]\n",
    "            trans_matrix[neighbourid,nodeid] = prob\n",
    " \n",
    "    sim_matrix = np.identity(nodesnum)*(1-damp)"
   ]
  },
  {
   "cell_type": "code",
   "execution_count": 4,
   "metadata": {},
   "outputs": [],
   "source": [
    "def iterate():\n",
    "    '''\n",
    "    迭代更新相似度矩阵\n",
    "    '''\n",
    "    global trans_matrix\n",
    "    global sim_matrix\n",
    "    global damp\n",
    "    global nodesnum\n",
    "\n",
    "    sim_matrix = damp * np.dot(np.dot(trans_matrix.transpose(),\n",
    "                                      sim_matrix), trans_matrix)+(1 - damp) * np.identity(nodesnum)\n",
    "    "
   ]
  },
  {
   "cell_type": "code",
   "execution_count": 5,
   "metadata": {},
   "outputs": [],
   "source": [
    "def printResult():\n",
    "    '''\n",
    "    打印输出相似度计算结果\n",
    "    '''\n",
    "    global sim_matrix\n",
    "    global link_out\n",
    "    global link_in\n",
    "    global nodes\n",
    "    global nodesnum\n",
    " \n",
    "    # 打印node之间的相似度\n",
    "    f_out_user = open(r'C:\\Users\\JDD\\Desktop\\simrank.txt', \"w\")\n",
    "    for i in range(nodesnum):\n",
    "        f_out_user.write(nodes[i] + \"\\t\")\n",
    "        neighbour = []\n",
    "        for j in range(nodesnum):\n",
    "            if i != j:\n",
    "                sim = sim_matrix[i, j]\n",
    "                if sim == None:\n",
    "                    sim = 0\n",
    "                if sim > 0:\n",
    "                    neighbour.append((j, sim))\n",
    "        # 按相似度由大到小排序\n",
    "        neighbour = sorted(\n",
    "            neighbour, key=lambda x:x[1], reverse=True)\n",
    "        for (u, sim) in neighbour[:20]:\n",
    "            f_out_user.write(nodes[u] + \":\" + str(sim) + \"\\t\")\n",
    "        f_out_user.write(\"\\n\")\n",
    "    f_out_user.close()"
   ]
  },
  {
   "cell_type": "code",
   "execution_count": 6,
   "metadata": {},
   "outputs": [],
   "source": [
    "def printtitlesim():\n",
    "    global sim_matrix\n",
    "    global nodes\n",
    "    global nodesnum\n",
    "    \n",
    "    f_out_user = open(r'C:\\Users\\JDD\\Desktop\\simrank.txt', \"w\",encoding='utf-8')\n",
    "    for i in range(10000,nodesnum):\n",
    "        node=nodes[i]\n",
    "        if node in title_dict.keys():\n",
    "            neighbour = []\n",
    "            for j in range(10000,nodesnum):\n",
    "                if i !=j:\n",
    "                    sim = sim_matrix[i, j]\n",
    "                    if sim == None:\n",
    "                        sim = 0\n",
    "                    if sim > 0:\n",
    "                        neighbour.append((j, sim))\n",
    "            # 按相似度由大到小排序\n",
    "            neighbour = sorted(\n",
    "                neighbour, key=lambda x:x[1], reverse=True)\n",
    "            for (u, sim) in neighbour[:20]:\n",
    "                if nodes[u] in title_dict.keys():\n",
    "                    f_out_user.write(title_dict[nodes[i]]+\"\\t\"+title_dict[nodes[u]] + \":\" + str(sim)+'\\n')\n",
    "    f_out_user.close()\n"
   ]
  },
  {
   "cell_type": "code",
   "execution_count": 7,
   "metadata": {},
   "outputs": [],
   "source": [
    "def simrank(maxIteration):\n",
    "    global nodes_index\n",
    "    global trans_matrix\n",
    "    global sim_matrix\n",
    "\n",
    "    starttime=datetime.datetime.now().strftime('%Y-%m-%d %H:%M:%S')\n",
    "    print(str(starttime),'init_sim_matrix:')\n",
    "    initParam()\n",
    "    print(sim_matrix)\n",
    "    for i in range(maxIteration):\n",
    "        finishtime=datetime.datetime.now().strftime('%Y-%m-%d %H:%M:%S')\n",
    "        print(str(finishtime),'iteration{}-sim_matrix:'.format(i+1),'--------------------------------------------->')\n",
    "        iterate()\n",
    "        print(sim_matrix)\n",
    "    printtitlesim()\n",
    "    endtime=datetime.datetime.now().strftime('%Y-%m-%d %H:%M:%S')\n",
    "    print(str(endtime),'计算结束')"
   ]
  },
  {
   "cell_type": "code",
   "execution_count": 8,
   "metadata": {
    "scrolled": false
   },
   "outputs": [
    {
     "name": "stdout",
     "output_type": "stream",
     "text": [
      "2020-09-02 14:28:04 init_sim_matrix:\n",
      "[[0.2 0.  0.  ... 0.  0.  0. ]\n",
      " [0.  0.2 0.  ... 0.  0.  0. ]\n",
      " [0.  0.  0.2 ... 0.  0.  0. ]\n",
      " ...\n",
      " [0.  0.  0.  ... 0.2 0.  0. ]\n",
      " [0.  0.  0.  ... 0.  0.2 0. ]\n",
      " [0.  0.  0.  ... 0.  0.  0.2]]\n",
      "2020-09-02 14:28:08 iteration1-sim_matrix: --------------------------------------------->\n",
      "[[0.36 0.   0.   ... 0.   0.   0.  ]\n",
      " [0.   0.36 0.   ... 0.   0.   0.  ]\n",
      " [0.   0.   0.36 ... 0.   0.   0.  ]\n",
      " ...\n",
      " [0.   0.   0.   ... 0.36 0.16 0.16]\n",
      " [0.   0.   0.   ... 0.16 0.36 0.16]\n",
      " [0.   0.   0.   ... 0.16 0.16 0.36]]\n",
      "2020-09-02 14:30:23 iteration2-sim_matrix: --------------------------------------------->\n",
      "[[3.60142857e-01 1.26918536e-05 1.26835781e-05 ... 0.00000000e+00\n",
      "  0.00000000e+00 0.00000000e+00]\n",
      " [1.26918536e-05 3.60264463e-01 1.17401715e-05 ... 0.00000000e+00\n",
      "  0.00000000e+00 0.00000000e+00]\n",
      " [1.26835781e-05 1.17401715e-05 3.60299065e-01 ... 0.00000000e+00\n",
      "  0.00000000e+00 0.00000000e+00]\n",
      " ...\n",
      " [0.00000000e+00 0.00000000e+00 0.00000000e+00 ... 3.64740741e-01\n",
      "  1.64740741e-01 1.64740741e-01]\n",
      " [0.00000000e+00 0.00000000e+00 0.00000000e+00 ... 1.64740741e-01\n",
      "  3.64740741e-01 1.64740741e-01]\n",
      " [0.00000000e+00 0.00000000e+00 0.00000000e+00 ... 1.64740741e-01\n",
      "  1.64740741e-01 3.64740741e-01]]\n",
      "2020-09-02 14:32:35 iteration3-sim_matrix: --------------------------------------------->\n",
      "[[0.37241055 0.00071182 0.00080032 ... 0.         0.         0.        ]\n",
      " [0.00071182 0.37033433 0.00069674 ... 0.         0.         0.        ]\n",
      " [0.00080032 0.00069674 0.36971678 ... 0.         0.         0.        ]\n",
      " ...\n",
      " [0.         0.         0.         ... 0.37190074 0.17190074 0.17190074]\n",
      " [0.         0.         0.         ... 0.17190074 0.37190074 0.17190074]\n",
      " [0.         0.         0.         ... 0.17190074 0.17190074 0.37190074]]\n",
      "2020-09-02 14:34:55 iteration4-sim_matrix: --------------------------------------------->\n",
      "[[0.37244256 0.0007283  0.00081678 ... 0.         0.         0.        ]\n",
      " [0.0007283  0.37036901 0.0007121  ... 0.         0.         0.        ]\n",
      " [0.00081678 0.0007121  0.36975361 ... 0.         0.         0.        ]\n",
      " ...\n",
      " [0.         0.         0.         ... 0.37234538 0.17234538 0.17234538]\n",
      " [0.         0.         0.         ... 0.17234538 0.37234538 0.17234538]\n",
      " [0.         0.         0.         ... 0.17234538 0.17234538 0.37234538]]\n",
      "2020-09-02 14:37:20 iteration5-sim_matrix: --------------------------------------------->\n",
      "[[0.37374073 0.00114502 0.00119442 ... 0.         0.         0.        ]\n",
      " [0.00114502 0.37148446 0.00113512 ... 0.         0.         0.        ]\n",
      " [0.00119442 0.00113512 0.37069226 ... 0.         0.         0.        ]\n",
      " ...\n",
      " [0.         0.         0.         ... 0.37275977 0.17275977 0.17275977]\n",
      " [0.         0.         0.         ... 0.17275977 0.37275977 0.17275977]\n",
      " [0.         0.         0.         ... 0.17275977 0.17275977 0.37275977]]\n",
      "2020-09-02 14:40:33 计算结束\n"
     ]
    }
   ],
   "source": [
    "simrank(5)"
   ]
  },
  {
   "cell_type": "code",
   "execution_count": 9,
   "metadata": {},
   "outputs": [
    {
     "data": {
      "text/plain": [
       "(16962, 16962)"
      ]
     },
     "execution_count": 9,
     "metadata": {},
     "output_type": "execute_result"
    }
   ],
   "source": [
    "sim_matrix.shape"
   ]
  },
  {
   "cell_type": "code",
   "execution_count": 12,
   "metadata": {},
   "outputs": [
    {
     "data": {
      "text/plain": [
       "'1191929'"
      ]
     },
     "execution_count": 12,
     "metadata": {},
     "output_type": "execute_result"
    }
   ],
   "source": [
    "list(nodes_index.keys())[-1]"
   ]
  },
  {
   "cell_type": "code",
   "execution_count": null,
   "metadata": {},
   "outputs": [],
   "source": []
  }
 ],
 "metadata": {
  "kernelspec": {
   "display_name": "Python 3",
   "language": "python",
   "name": "python3"
  },
  "language_info": {
   "codemirror_mode": {
    "name": "ipython",
    "version": 3
   },
   "file_extension": ".py",
   "mimetype": "text/x-python",
   "name": "python",
   "nbconvert_exporter": "python",
   "pygments_lexer": "ipython3",
   "version": "3.7.4"
  }
 },
 "nbformat": 4,
 "nbformat_minor": 2
}
