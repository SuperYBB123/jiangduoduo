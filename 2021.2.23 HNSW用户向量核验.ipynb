{
 "cells": [
  {
   "cell_type": "code",
   "execution_count": 1,
   "metadata": {},
   "outputs": [],
   "source": [
    "import pandas as pd\n",
    "import numpy as np\n",
    "import math\n",
    "from operator import itemgetter\n",
    "import csv"
   ]
  },
  {
   "cell_type": "code",
   "execution_count": 2,
   "metadata": {},
   "outputs": [
    {
     "data": {
      "text/html": [
       "<div>\n",
       "<style scoped>\n",
       "    .dataframe tbody tr th:only-of-type {\n",
       "        vertical-align: middle;\n",
       "    }\n",
       "\n",
       "    .dataframe tbody tr th {\n",
       "        vertical-align: top;\n",
       "    }\n",
       "\n",
       "    .dataframe thead th {\n",
       "        text-align: right;\n",
       "    }\n",
       "</style>\n",
       "<table border=\"1\" class=\"dataframe\">\n",
       "  <thead>\n",
       "    <tr style=\"text-align: right;\">\n",
       "      <th></th>\n",
       "      <th>word</th>\n",
       "      <th>embedding</th>\n",
       "    </tr>\n",
       "  </thead>\n",
       "  <tbody>\n",
       "    <tr>\n",
       "      <td>0</td>\n",
       "      <td>98</td>\n",
       "      <td>[-0.058803666, 0.05832512, -0.6444828, 0.19280...</td>\n",
       "    </tr>\n",
       "    <tr>\n",
       "      <td>1</td>\n",
       "      <td>17</td>\n",
       "      <td>[0.067806736, -0.4460909, -0.79205614, 0.00170...</td>\n",
       "    </tr>\n",
       "    <tr>\n",
       "      <td>2</td>\n",
       "      <td>雅马哈r1</td>\n",
       "      <td>[0.6132644, 0.4606244, 0.19470927, 0.251278, -...</td>\n",
       "    </tr>\n",
       "    <tr>\n",
       "      <td>3</td>\n",
       "      <td>排气</td>\n",
       "      <td>[0.3676824, -0.30955258, -0.31792253, 0.122256...</td>\n",
       "    </tr>\n",
       "    <tr>\n",
       "      <td>4</td>\n",
       "      <td>声浪</td>\n",
       "      <td>[0.35473847, 0.1651163, 0.11610486, -0.0375614...</td>\n",
       "    </tr>\n",
       "    <tr>\n",
       "      <td>...</td>\n",
       "      <td>...</td>\n",
       "      <td>...</td>\n",
       "    </tr>\n",
       "    <tr>\n",
       "      <td>33915</td>\n",
       "      <td>▷</td>\n",
       "      <td>[0.18769372, 0.5005339, -0.23696463, 0.3460938...</td>\n",
       "    </tr>\n",
       "    <tr>\n",
       "      <td>33916</td>\n",
       "      <td>川川</td>\n",
       "      <td>[-0.7859129, 0.14881276, 0.51049984, 0.0191508...</td>\n",
       "    </tr>\n",
       "    <tr>\n",
       "      <td>33917</td>\n",
       "      <td>徐勇</td>\n",
       "      <td>[-0.3449698, -0.003161303, 0.5403555, 0.435661...</td>\n",
       "    </tr>\n",
       "    <tr>\n",
       "      <td>33918</td>\n",
       "      <td>邓昊</td>\n",
       "      <td>[-0.24652152, 0.4843831, -0.18084435, 0.640671...</td>\n",
       "    </tr>\n",
       "    <tr>\n",
       "      <td>33919</td>\n",
       "      <td>░</td>\n",
       "      <td>[-0.0095943445, -0.22507557, -0.004972162, 0.5...</td>\n",
       "    </tr>\n",
       "  </tbody>\n",
       "</table>\n",
       "<p>33920 rows × 2 columns</p>\n",
       "</div>"
      ],
      "text/plain": [
       "        word                                          embedding\n",
       "0         98  [-0.058803666, 0.05832512, -0.6444828, 0.19280...\n",
       "1         17  [0.067806736, -0.4460909, -0.79205614, 0.00170...\n",
       "2      雅马哈r1  [0.6132644, 0.4606244, 0.19470927, 0.251278, -...\n",
       "3         排气  [0.3676824, -0.30955258, -0.31792253, 0.122256...\n",
       "4         声浪  [0.35473847, 0.1651163, 0.11610486, -0.0375614...\n",
       "...      ...                                                ...\n",
       "33915      ▷  [0.18769372, 0.5005339, -0.23696463, 0.3460938...\n",
       "33916     川川  [-0.7859129, 0.14881276, 0.51049984, 0.0191508...\n",
       "33917     徐勇  [-0.3449698, -0.003161303, 0.5403555, 0.435661...\n",
       "33918     邓昊  [-0.24652152, 0.4843831, -0.18084435, 0.640671...\n",
       "33919      ░  [-0.0095943445, -0.22507557, -0.004972162, 0.5...\n",
       "\n",
       "[33920 rows x 2 columns]"
      ]
     },
     "execution_count": 2,
     "metadata": {},
     "output_type": "execute_result"
    }
   ],
   "source": [
    "data=pd.read_csv(r'F:\\work\\Downloads\\词向量.csv')\n",
    "data"
   ]
  },
  {
   "cell_type": "code",
   "execution_count": 3,
   "metadata": {},
   "outputs": [],
   "source": [
    "word_emb_dict={}\n",
    "for i in data.index:\n",
    "    word=data['word'][i]\n",
    "    embedding=data['embedding'][i].replace('[','').replace(']','').split(', ')\n",
    "    embedding=[float(x) for x in embedding]\n",
    "    word_emb_dict[word]=embedding"
   ]
  },
  {
   "cell_type": "code",
   "execution_count": 4,
   "metadata": {},
   "outputs": [
    {
     "data": {
      "text/html": [
       "<div>\n",
       "<style scoped>\n",
       "    .dataframe tbody tr th:only-of-type {\n",
       "        vertical-align: middle;\n",
       "    }\n",
       "\n",
       "    .dataframe tbody tr th {\n",
       "        vertical-align: top;\n",
       "    }\n",
       "\n",
       "    .dataframe thead th {\n",
       "        text-align: right;\n",
       "    }\n",
       "</style>\n",
       "<table border=\"1\" class=\"dataframe\">\n",
       "  <thead>\n",
       "    <tr style=\"text-align: right;\">\n",
       "      <th></th>\n",
       "      <th>essay_id</th>\n",
       "      <th>embedding</th>\n",
       "    </tr>\n",
       "  </thead>\n",
       "  <tbody>\n",
       "    <tr>\n",
       "      <td>0</td>\n",
       "      <td>30400</td>\n",
       "      <td>[0.24455303819968358, 0.042138037637275215, -0...</td>\n",
       "    </tr>\n",
       "    <tr>\n",
       "      <td>1</td>\n",
       "      <td>30500</td>\n",
       "      <td>[0.08427137981356764, -0.009691624544941232, -...</td>\n",
       "    </tr>\n",
       "    <tr>\n",
       "      <td>2</td>\n",
       "      <td>40940</td>\n",
       "      <td>[0.042010686846873084, 0.026424114100135582, 0...</td>\n",
       "    </tr>\n",
       "    <tr>\n",
       "      <td>3</td>\n",
       "      <td>40960</td>\n",
       "      <td>[0.05779453477327912, 0.06266500366454199, 0.1...</td>\n",
       "    </tr>\n",
       "    <tr>\n",
       "      <td>4</td>\n",
       "      <td>40980</td>\n",
       "      <td>[-0.007918640299131778, 0.03314927614393807, 0...</td>\n",
       "    </tr>\n",
       "    <tr>\n",
       "      <td>...</td>\n",
       "      <td>...</td>\n",
       "      <td>...</td>\n",
       "    </tr>\n",
       "    <tr>\n",
       "      <td>175024</td>\n",
       "      <td>4008594</td>\n",
       "      <td>[0.11051957818199115, -0.09171172327937514, -0...</td>\n",
       "    </tr>\n",
       "    <tr>\n",
       "      <td>175025</td>\n",
       "      <td>4008794</td>\n",
       "      <td>[0.10069205265636672, 0.0976819110615539, 0.08...</td>\n",
       "    </tr>\n",
       "    <tr>\n",
       "      <td>175026</td>\n",
       "      <td>4008875</td>\n",
       "      <td>[0.0, 0.0, 0.0, 0.0, 0.0, 0.0, 0.0, 0.0, 0.0, ...</td>\n",
       "    </tr>\n",
       "    <tr>\n",
       "      <td>175027</td>\n",
       "      <td>4008519</td>\n",
       "      <td>[0.18050598225481962, -0.060849764751957, 0.07...</td>\n",
       "    </tr>\n",
       "    <tr>\n",
       "      <td>175028</td>\n",
       "      <td>4008979</td>\n",
       "      <td>[0.17216185818060792, -0.148730716001083, 0.04...</td>\n",
       "    </tr>\n",
       "  </tbody>\n",
       "</table>\n",
       "<p>175029 rows × 2 columns</p>\n",
       "</div>"
      ],
      "text/plain": [
       "        essay_id                                          embedding\n",
       "0          30400  [0.24455303819968358, 0.042138037637275215, -0...\n",
       "1          30500  [0.08427137981356764, -0.009691624544941232, -...\n",
       "2          40940  [0.042010686846873084, 0.026424114100135582, 0...\n",
       "3          40960  [0.05779453477327912, 0.06266500366454199, 0.1...\n",
       "4          40980  [-0.007918640299131778, 0.03314927614393807, 0...\n",
       "...          ...                                                ...\n",
       "175024   4008594  [0.11051957818199115, -0.09171172327937514, -0...\n",
       "175025   4008794  [0.10069205265636672, 0.0976819110615539, 0.08...\n",
       "175026   4008875  [0.0, 0.0, 0.0, 0.0, 0.0, 0.0, 0.0, 0.0, 0.0, ...\n",
       "175027   4008519  [0.18050598225481962, -0.060849764751957, 0.07...\n",
       "175028   4008979  [0.17216185818060792, -0.148730716001083, 0.04...\n",
       "\n",
       "[175029 rows x 2 columns]"
      ]
     },
     "execution_count": 4,
     "metadata": {},
     "output_type": "execute_result"
    }
   ],
   "source": [
    "data=pd.read_csv(r'F:\\work\\Downloads\\全量文章向量.csv')\n",
    "data"
   ]
  },
  {
   "cell_type": "code",
   "execution_count": 5,
   "metadata": {},
   "outputs": [
    {
     "name": "stdout",
     "output_type": "stream",
     "text": [
      "全量文章向量存储成功\n",
      "全量文章向量矩阵存储成功\n"
     ]
    }
   ],
   "source": [
    "all_item_dict={}\n",
    "for i in data.index:\n",
    "    word=data['essay_id'][i]\n",
    "    embedding=data['embedding'][i].replace('[','').replace(']','').split(', ')\n",
    "    embedding=[float(x) for x in embedding]\n",
    "    all_item_dict[word]=embedding\n",
    "print('全量文章向量存储成功')\n",
    "all_matrix=np.zeros((len(all_item_dict.keys()),100))\n",
    "all_lst=list(all_item_dict.keys())\n",
    "for i in range(len(all_lst)):\n",
    "    all_matrix[i]=np.array(all_item_dict[all_lst[i]])\n",
    "print('全量文章向量矩阵存储成功')\n"
   ]
  },
  {
   "cell_type": "code",
   "execution_count": 3,
   "metadata": {},
   "outputs": [
    {
     "data": {
      "text/html": [
       "<div>\n",
       "<style scoped>\n",
       "    .dataframe tbody tr th:only-of-type {\n",
       "        vertical-align: middle;\n",
       "    }\n",
       "\n",
       "    .dataframe tbody tr th {\n",
       "        vertical-align: top;\n",
       "    }\n",
       "\n",
       "    .dataframe thead th {\n",
       "        text-align: right;\n",
       "    }\n",
       "</style>\n",
       "<table border=\"1\" class=\"dataframe\">\n",
       "  <thead>\n",
       "    <tr style=\"text-align: right;\">\n",
       "      <th></th>\n",
       "      <th>essay_id</th>\n",
       "      <th>embedding</th>\n",
       "    </tr>\n",
       "  </thead>\n",
       "  <tbody>\n",
       "    <tr>\n",
       "      <td>0</td>\n",
       "      <td>542214</td>\n",
       "      <td>[0.03780527664924443, 0.08105638582516608, 0.0...</td>\n",
       "    </tr>\n",
       "    <tr>\n",
       "      <td>1</td>\n",
       "      <td>748854</td>\n",
       "      <td>[0.045289399660649994, 0.11977300958665155, 0....</td>\n",
       "    </tr>\n",
       "    <tr>\n",
       "      <td>2</td>\n",
       "      <td>868714</td>\n",
       "      <td>[0.14373190566672625, 0.06701120184615714, 0.0...</td>\n",
       "    </tr>\n",
       "    <tr>\n",
       "      <td>3</td>\n",
       "      <td>877834</td>\n",
       "      <td>[0.06701338644409204, 0.0927981458422272, 0.12...</td>\n",
       "    </tr>\n",
       "    <tr>\n",
       "      <td>4</td>\n",
       "      <td>881134</td>\n",
       "      <td>[0.0, 0.0, 0.0, 0.0, 0.0, 0.0, 0.0, 0.0, 0.0, ...</td>\n",
       "    </tr>\n",
       "    <tr>\n",
       "      <td>...</td>\n",
       "      <td>...</td>\n",
       "      <td>...</td>\n",
       "    </tr>\n",
       "    <tr>\n",
       "      <td>13874</td>\n",
       "      <td>3956933</td>\n",
       "      <td>[0.032722054581857785, 0.022579807016360892, 0...</td>\n",
       "    </tr>\n",
       "    <tr>\n",
       "      <td>13875</td>\n",
       "      <td>3958473</td>\n",
       "      <td>[0.04209785659659624, 0.052113180939301534, 0....</td>\n",
       "    </tr>\n",
       "    <tr>\n",
       "      <td>13876</td>\n",
       "      <td>266974</td>\n",
       "      <td>[0.08183601461871197, 0.01088508058378301, -0....</td>\n",
       "    </tr>\n",
       "    <tr>\n",
       "      <td>13877</td>\n",
       "      <td>330914</td>\n",
       "      <td>[0.11022536418094733, 0.07876025058425731, -0....</td>\n",
       "    </tr>\n",
       "    <tr>\n",
       "      <td>13878</td>\n",
       "      <td>362434</td>\n",
       "      <td>[0.13833945350623084, 0.05966028299114184, -0....</td>\n",
       "    </tr>\n",
       "  </tbody>\n",
       "</table>\n",
       "<p>13879 rows × 2 columns</p>\n",
       "</div>"
      ],
      "text/plain": [
       "       essay_id                                          embedding\n",
       "0        542214  [0.03780527664924443, 0.08105638582516608, 0.0...\n",
       "1        748854  [0.045289399660649994, 0.11977300958665155, 0....\n",
       "2        868714  [0.14373190566672625, 0.06701120184615714, 0.0...\n",
       "3        877834  [0.06701338644409204, 0.0927981458422272, 0.12...\n",
       "4        881134  [0.0, 0.0, 0.0, 0.0, 0.0, 0.0, 0.0, 0.0, 0.0, ...\n",
       "...         ...                                                ...\n",
       "13874   3956933  [0.032722054581857785, 0.022579807016360892, 0...\n",
       "13875   3958473  [0.04209785659659624, 0.052113180939301534, 0....\n",
       "13876    266974  [0.08183601461871197, 0.01088508058378301, -0....\n",
       "13877    330914  [0.11022536418094733, 0.07876025058425731, -0....\n",
       "13878    362434  [0.13833945350623084, 0.05966028299114184, -0....\n",
       "\n",
       "[13879 rows x 2 columns]"
      ]
     },
     "execution_count": 3,
     "metadata": {},
     "output_type": "execute_result"
    }
   ],
   "source": [
    "data=pd.read_csv(r'F:\\work\\Downloads\\query-impala-543162.csv')\n",
    "data"
   ]
  },
  {
   "cell_type": "code",
   "execution_count": 4,
   "metadata": {},
   "outputs": [
    {
     "name": "stdout",
     "output_type": "stream",
     "text": [
      "有效文章向量存储成功\n",
      "有效文章向量矩阵存储成功\n"
     ]
    }
   ],
   "source": [
    "effective_item_dict={}\n",
    "for i in data.index:\n",
    "    word=data['essay_id'][i]\n",
    "    embedding=data['embedding'][i].replace('[','').replace(']','').split(', ')\n",
    "    embedding=[float(x) for x in embedding]\n",
    "    effective_item_dict[word]=embedding\n",
    "print('有效文章向量存储成功')\n",
    "effective_matrix=np.zeros((len(effective_item_dict.keys()),100))\n",
    "effective_lst=list(effective_item_dict.keys())\n",
    "for i in range(len(effective_lst)):\n",
    "    effective_matrix[i]=np.array(effective_item_dict[effective_lst[i]])\n",
    "print('有效文章向量矩阵存储成功')\n"
   ]
  },
  {
   "cell_type": "code",
   "execution_count": 188,
   "metadata": {},
   "outputs": [
    {
     "data": {
      "text/html": [
       "<div>\n",
       "<style scoped>\n",
       "    .dataframe tbody tr th:only-of-type {\n",
       "        vertical-align: middle;\n",
       "    }\n",
       "\n",
       "    .dataframe tbody tr th {\n",
       "        vertical-align: top;\n",
       "    }\n",
       "\n",
       "    .dataframe thead th {\n",
       "        text-align: right;\n",
       "    }\n",
       "</style>\n",
       "<table border=\"1\" class=\"dataframe\">\n",
       "  <thead>\n",
       "    <tr style=\"text-align: right;\">\n",
       "      <th></th>\n",
       "      <th>motor_user_word_vector_recommend.deviceid</th>\n",
       "      <th>motor_user_word_vector_recommend.user_embedding_kw</th>\n",
       "      <th>motor_user_word_vector_recommend.user_embedding_q</th>\n",
       "      <th>motor_user_word_vector_recommend.p_day</th>\n",
       "    </tr>\n",
       "  </thead>\n",
       "  <tbody>\n",
       "    <tr>\n",
       "      <td>0</td>\n",
       "      <td>3923a1f38b588873b37a179845c91b2a</td>\n",
       "      <td>0.06318634731591048,-0.09912425749119262,0.049...</td>\n",
       "      <td>NaN</td>\n",
       "      <td>20210131</td>\n",
       "    </tr>\n",
       "    <tr>\n",
       "      <td>1</td>\n",
       "      <td>003d506e2fbd4b3daf036d4b6e53fa53</td>\n",
       "      <td>8.807462866835577E-4,-0.04939036209269018,0.06...</td>\n",
       "      <td>NaN</td>\n",
       "      <td>20210131</td>\n",
       "    </tr>\n",
       "    <tr>\n",
       "      <td>2</td>\n",
       "      <td>98f64a0d545f313aa2204ef55fddff77</td>\n",
       "      <td>0.14718584703805007,0.04232975473318327,-0.026...</td>\n",
       "      <td>NaN</td>\n",
       "      <td>20210131</td>\n",
       "    </tr>\n",
       "    <tr>\n",
       "      <td>3</td>\n",
       "      <td>a6511647064636b5a2f4a449e8984f7d</td>\n",
       "      <td>-0.002812147688230962,-0.07074115982458448,0.0...</td>\n",
       "      <td>NaN</td>\n",
       "      <td>20210131</td>\n",
       "    </tr>\n",
       "    <tr>\n",
       "      <td>4</td>\n",
       "      <td>fcf619f817bd1ede3380aaa96e9b9838</td>\n",
       "      <td>0.1016377091863498,-0.09644624400020585,0.0420...</td>\n",
       "      <td>NaN</td>\n",
       "      <td>20210131</td>\n",
       "    </tr>\n",
       "    <tr>\n",
       "      <td>...</td>\n",
       "      <td>...</td>\n",
       "      <td>...</td>\n",
       "      <td>...</td>\n",
       "      <td>...</td>\n",
       "    </tr>\n",
       "    <tr>\n",
       "      <td>1230386</td>\n",
       "      <td>03b19610e0eb4fe7b0acd8c1c508058a</td>\n",
       "      <td>0.19095065356879284,-0.04338922911347161,-0.06...</td>\n",
       "      <td>0.007858249975053955,0.017652916115536075,0.03...</td>\n",
       "      <td>20210131</td>\n",
       "    </tr>\n",
       "    <tr>\n",
       "      <td>1230387</td>\n",
       "      <td>0fb2e50e13336fbd535873fc9be0fb5b</td>\n",
       "      <td>0.1334159013992843,-0.015477231339963768,-0.10...</td>\n",
       "      <td>NaN</td>\n",
       "      <td>20210131</td>\n",
       "    </tr>\n",
       "    <tr>\n",
       "      <td>1230388</td>\n",
       "      <td>d933c3d9170d5caa7d59776c149ae038</td>\n",
       "      <td>0.04917586196303938,0.007461136442406181,0.039...</td>\n",
       "      <td>NaN</td>\n",
       "      <td>20210131</td>\n",
       "    </tr>\n",
       "    <tr>\n",
       "      <td>1230389</td>\n",
       "      <td>be1c69af7bed8e90d218fd058f75ad44</td>\n",
       "      <td>0.1681357969171669,0.028205787525728634,-0.091...</td>\n",
       "      <td>NaN</td>\n",
       "      <td>20210131</td>\n",
       "    </tr>\n",
       "    <tr>\n",
       "      <td>1230390</td>\n",
       "      <td>d895d031d34a40609436ce29de3be61c</td>\n",
       "      <td>0.1200916867023391,0.05641881540021512,-0.0640...</td>\n",
       "      <td>0.14644997128173357,-0.04839127201675632,0.070...</td>\n",
       "      <td>20210131</td>\n",
       "    </tr>\n",
       "  </tbody>\n",
       "</table>\n",
       "<p>1230391 rows × 4 columns</p>\n",
       "</div>"
      ],
      "text/plain": [
       "        motor_user_word_vector_recommend.deviceid  \\\n",
       "0                3923a1f38b588873b37a179845c91b2a   \n",
       "1                003d506e2fbd4b3daf036d4b6e53fa53   \n",
       "2                98f64a0d545f313aa2204ef55fddff77   \n",
       "3                a6511647064636b5a2f4a449e8984f7d   \n",
       "4                fcf619f817bd1ede3380aaa96e9b9838   \n",
       "...                                           ...   \n",
       "1230386          03b19610e0eb4fe7b0acd8c1c508058a   \n",
       "1230387          0fb2e50e13336fbd535873fc9be0fb5b   \n",
       "1230388          d933c3d9170d5caa7d59776c149ae038   \n",
       "1230389          be1c69af7bed8e90d218fd058f75ad44   \n",
       "1230390          d895d031d34a40609436ce29de3be61c   \n",
       "\n",
       "        motor_user_word_vector_recommend.user_embedding_kw  \\\n",
       "0        0.06318634731591048,-0.09912425749119262,0.049...   \n",
       "1        8.807462866835577E-4,-0.04939036209269018,0.06...   \n",
       "2        0.14718584703805007,0.04232975473318327,-0.026...   \n",
       "3        -0.002812147688230962,-0.07074115982458448,0.0...   \n",
       "4        0.1016377091863498,-0.09644624400020585,0.0420...   \n",
       "...                                                    ...   \n",
       "1230386  0.19095065356879284,-0.04338922911347161,-0.06...   \n",
       "1230387  0.1334159013992843,-0.015477231339963768,-0.10...   \n",
       "1230388  0.04917586196303938,0.007461136442406181,0.039...   \n",
       "1230389  0.1681357969171669,0.028205787525728634,-0.091...   \n",
       "1230390  0.1200916867023391,0.05641881540021512,-0.0640...   \n",
       "\n",
       "         motor_user_word_vector_recommend.user_embedding_q  \\\n",
       "0                                                      NaN   \n",
       "1                                                      NaN   \n",
       "2                                                      NaN   \n",
       "3                                                      NaN   \n",
       "4                                                      NaN   \n",
       "...                                                    ...   \n",
       "1230386  0.007858249975053955,0.017652916115536075,0.03...   \n",
       "1230387                                                NaN   \n",
       "1230388                                                NaN   \n",
       "1230389                                                NaN   \n",
       "1230390  0.14644997128173357,-0.04839127201675632,0.070...   \n",
       "\n",
       "         motor_user_word_vector_recommend.p_day  \n",
       "0                                      20210131  \n",
       "1                                      20210131  \n",
       "2                                      20210131  \n",
       "3                                      20210131  \n",
       "4                                      20210131  \n",
       "...                                         ...  \n",
       "1230386                                20210131  \n",
       "1230387                                20210131  \n",
       "1230388                                20210131  \n",
       "1230389                                20210131  \n",
       "1230390                                20210131  \n",
       "\n",
       "[1230391 rows x 4 columns]"
      ]
     },
     "execution_count": 188,
     "metadata": {},
     "output_type": "execute_result"
    }
   ],
   "source": [
    "data=pd.read_csv(r'F:\\work\\Downloads\\用户向量.csv')\n",
    "data"
   ]
  },
  {
   "cell_type": "code",
   "execution_count": 192,
   "metadata": {},
   "outputs": [
    {
     "name": "stdout",
     "output_type": "stream",
     "text": [
      "有行为的文章向量存储成功\n"
     ]
    }
   ],
   "source": [
    "user_emb_dict={}\n",
    "for i in range(10000):\n",
    "    word=data['motor_user_word_vector_recommend.deviceid'][i]\n",
    "    embedding=data['motor_user_word_vector_recommend.user_embedding_kw'][i].split(',')\n",
    "    embedding=[float(x) for x in embedding]\n",
    "    user_emb_dict[word]=embedding\n",
    "print('有行为的文章向量存储成功')"
   ]
  },
  {
   "cell_type": "code",
   "execution_count": 8,
   "metadata": {},
   "outputs": [
    {
     "data": {
      "text/html": [
       "<div>\n",
       "<style scoped>\n",
       "    .dataframe tbody tr th:only-of-type {\n",
       "        vertical-align: middle;\n",
       "    }\n",
       "\n",
       "    .dataframe tbody tr th {\n",
       "        vertical-align: top;\n",
       "    }\n",
       "\n",
       "    .dataframe thead th {\n",
       "        text-align: right;\n",
       "    }\n",
       "</style>\n",
       "<table border=\"1\" class=\"dataframe\">\n",
       "  <thead>\n",
       "    <tr style=\"text-align: right;\">\n",
       "      <th></th>\n",
       "      <th>essay_id</th>\n",
       "      <th>embedding</th>\n",
       "    </tr>\n",
       "  </thead>\n",
       "  <tbody>\n",
       "    <tr>\n",
       "      <td>0</td>\n",
       "      <td>43580</td>\n",
       "      <td>[0.035957464605007816, 0.0015200319848479857, ...</td>\n",
       "    </tr>\n",
       "    <tr>\n",
       "      <td>1</td>\n",
       "      <td>44320</td>\n",
       "      <td>[0.17440808297898744, -0.012258827973403103, 0...</td>\n",
       "    </tr>\n",
       "    <tr>\n",
       "      <td>2</td>\n",
       "      <td>44520</td>\n",
       "      <td>[0.05477280770991924, 0.022277350122481405, -0...</td>\n",
       "    </tr>\n",
       "    <tr>\n",
       "      <td>3</td>\n",
       "      <td>44540</td>\n",
       "      <td>[0.055196404878373795, 0.09817645805332503, -0...</td>\n",
       "    </tr>\n",
       "    <tr>\n",
       "      <td>4</td>\n",
       "      <td>44960</td>\n",
       "      <td>[0.12462135727206117, -0.044895377377132444, -...</td>\n",
       "    </tr>\n",
       "    <tr>\n",
       "      <td>...</td>\n",
       "      <td>...</td>\n",
       "      <td>...</td>\n",
       "    </tr>\n",
       "    <tr>\n",
       "      <td>44041</td>\n",
       "      <td>4008594</td>\n",
       "      <td>[0.11051957818199115, -0.09171172327937514, -0...</td>\n",
       "    </tr>\n",
       "    <tr>\n",
       "      <td>44042</td>\n",
       "      <td>4008794</td>\n",
       "      <td>[0.10069205265636672, 0.0976819110615539, 0.08...</td>\n",
       "    </tr>\n",
       "    <tr>\n",
       "      <td>44043</td>\n",
       "      <td>4008875</td>\n",
       "      <td>[0.0, 0.0, 0.0, 0.0, 0.0, 0.0, 0.0, 0.0, 0.0, ...</td>\n",
       "    </tr>\n",
       "    <tr>\n",
       "      <td>44044</td>\n",
       "      <td>4008519</td>\n",
       "      <td>[0.18050598225481962, -0.060849764751957, 0.07...</td>\n",
       "    </tr>\n",
       "    <tr>\n",
       "      <td>44045</td>\n",
       "      <td>4008979</td>\n",
       "      <td>[0.17216185818060792, -0.148730716001083, 0.04...</td>\n",
       "    </tr>\n",
       "  </tbody>\n",
       "</table>\n",
       "<p>44046 rows × 2 columns</p>\n",
       "</div>"
      ],
      "text/plain": [
       "       essay_id                                          embedding\n",
       "0         43580  [0.035957464605007816, 0.0015200319848479857, ...\n",
       "1         44320  [0.17440808297898744, -0.012258827973403103, 0...\n",
       "2         44520  [0.05477280770991924, 0.022277350122481405, -0...\n",
       "3         44540  [0.055196404878373795, 0.09817645805332503, -0...\n",
       "4         44960  [0.12462135727206117, -0.044895377377132444, -...\n",
       "...         ...                                                ...\n",
       "44041   4008594  [0.11051957818199115, -0.09171172327937514, -0...\n",
       "44042   4008794  [0.10069205265636672, 0.0976819110615539, 0.08...\n",
       "44043   4008875  [0.0, 0.0, 0.0, 0.0, 0.0, 0.0, 0.0, 0.0, 0.0, ...\n",
       "44044   4008519  [0.18050598225481962, -0.060849764751957, 0.07...\n",
       "44045   4008979  [0.17216185818060792, -0.148730716001083, 0.04...\n",
       "\n",
       "[44046 rows x 2 columns]"
      ]
     },
     "execution_count": 8,
     "metadata": {},
     "output_type": "execute_result"
    }
   ],
   "source": [
    "data=pd.read_csv(r'F:\\work\\Downloads\\行为文章向量.csv')\n",
    "data"
   ]
  },
  {
   "cell_type": "code",
   "execution_count": 9,
   "metadata": {},
   "outputs": [
    {
     "name": "stdout",
     "output_type": "stream",
     "text": [
      "有行为的文章向量存储成功\n",
      "有行为的文章向量矩阵存储成功\n"
     ]
    }
   ],
   "source": [
    "act_item_dict={}\n",
    "for i in data.index:\n",
    "    word=data['essay_id'][i]\n",
    "    embedding=data['embedding'][i].replace('[','').replace(']','').split(', ')\n",
    "    embedding=[float(x) for x in embedding]\n",
    "    act_item_dict[word]=embedding\n",
    "print('有行为的文章向量存储成功')\n",
    "act_matrix=np.zeros((len(act_item_dict.keys()),100))\n",
    "act_lst=list(act_item_dict.keys())\n",
    "for i in range(len(act_lst)):\n",
    "    act_matrix[i]=np.array(act_item_dict[act_lst[i]])\n",
    "print('有行为的文章向量矩阵存储成功')"
   ]
  },
  {
   "cell_type": "code",
   "execution_count": 10,
   "metadata": {},
   "outputs": [
    {
     "name": "stdout",
     "output_type": "stream",
     "text": [
      "相似度矩阵计算成功\n"
     ]
    }
   ],
   "source": [
    "sim_matrix=np.dot(act_matrix,effective_matrix.T)\n",
    "print('相似度矩阵计算成功')"
   ]
  },
  {
   "cell_type": "code",
   "execution_count": 11,
   "metadata": {},
   "outputs": [
    {
     "data": {
      "text/plain": [
       "array([[0.51798637, 0.39421068, 0.37146896, ..., 0.        , 0.5073194 ,\n",
       "        0.28707017],\n",
       "       [0.3826785 , 0.2993802 , 0.37521444, ..., 0.        , 0.4565371 ,\n",
       "        0.34761973],\n",
       "       [0.51648411, 0.42265124, 0.34657656, ..., 0.        , 0.53061932,\n",
       "        0.46102136],\n",
       "       ...,\n",
       "       [0.        , 0.        , 0.        , ..., 0.        , 0.        ,\n",
       "        0.        ],\n",
       "       [0.43238191, 0.32123662, 0.34840745, ..., 0.        , 1.        ,\n",
       "        0.34273234],\n",
       "       [0.58479878, 0.42132335, 0.25427454, ..., 0.        , 0.34273234,\n",
       "        1.        ]])"
      ]
     },
     "execution_count": 11,
     "metadata": {},
     "output_type": "execute_result"
    }
   ],
   "source": [
    "sim_matrix"
   ]
  },
  {
   "cell_type": "code",
   "execution_count": 12,
   "metadata": {},
   "outputs": [
    {
     "name": "stdout",
     "output_type": "stream",
     "text": [
      "相似度获取成功!\n"
     ]
    }
   ],
   "source": [
    "output={}\n",
    "for i in range(len(act_lst)):\n",
    "    act_item=act_lst[i]\n",
    "    output.setdefault(act_item,{})\n",
    "    act_tensor=sim_matrix[i]\n",
    "    sorted_list=sorted(enumerate(list(act_tensor)), key=itemgetter(1),reverse=True)\n",
    "    for j,sim in sorted_list[1:11]:\n",
    "        sim_item=effective_lst[j]\n",
    "        output[act_item][sim_item]=sim\n",
    "print('相似度获取成功!')"
   ]
  },
  {
   "cell_type": "code",
   "execution_count": 18,
   "metadata": {},
   "outputs": [
    {
     "data": {
      "text/html": [
       "<div>\n",
       "<style scoped>\n",
       "    .dataframe tbody tr th:only-of-type {\n",
       "        vertical-align: middle;\n",
       "    }\n",
       "\n",
       "    .dataframe tbody tr th {\n",
       "        vertical-align: top;\n",
       "    }\n",
       "\n",
       "    .dataframe thead th {\n",
       "        text-align: right;\n",
       "    }\n",
       "</style>\n",
       "<table border=\"1\" class=\"dataframe\">\n",
       "  <thead>\n",
       "    <tr style=\"text-align: right;\">\n",
       "      <th></th>\n",
       "      <th>essay_id</th>\n",
       "      <th>e.c_title</th>\n",
       "    </tr>\n",
       "  </thead>\n",
       "  <tbody>\n",
       "    <tr>\n",
       "      <td>0</td>\n",
       "      <td>30143</td>\n",
       "      <td>雅马哈赛鹰GT踏板</td>\n",
       "    </tr>\n",
       "    <tr>\n",
       "      <td>1</td>\n",
       "      <td>30283</td>\n",
       "      <td>这个杀手有点冷 Kawasaki Z1000 ABS 测评</td>\n",
       "    </tr>\n",
       "    <tr>\n",
       "      <td>2</td>\n",
       "      <td>30400</td>\n",
       "      <td>国内贩售版CBR300R加速</td>\n",
       "    </tr>\n",
       "    <tr>\n",
       "      <td>3</td>\n",
       "      <td>30401</td>\n",
       "      <td>五羊本田CB190R加速测试</td>\n",
       "    </tr>\n",
       "    <tr>\n",
       "      <td>4</td>\n",
       "      <td>30415</td>\n",
       "      <td>Honda X-Adv 国内首试</td>\n",
       "    </tr>\n",
       "    <tr>\n",
       "      <td>...</td>\n",
       "      <td>...</td>\n",
       "      <td>...</td>\n",
       "    </tr>\n",
       "    <tr>\n",
       "      <td>171715</td>\n",
       "      <td>4008585</td>\n",
       "      <td>北京将要扩大禁摩范围了</td>\n",
       "    </tr>\n",
       "    <tr>\n",
       "      <td>171716</td>\n",
       "      <td>4008594</td>\n",
       "      <td>2021KTM390ADVENTURE强劲的小排量旅行耐力车</td>\n",
       "    </tr>\n",
       "    <tr>\n",
       "      <td>171717</td>\n",
       "      <td>4008794</td>\n",
       "      <td>骑者没有春夏秋冬之分，只有一颗炽热的心，敬骑士！</td>\n",
       "    </tr>\n",
       "    <tr>\n",
       "      <td>171718</td>\n",
       "      <td>4008875</td>\n",
       "      <td>你们怎么看？</td>\n",
       "    </tr>\n",
       "    <tr>\n",
       "      <td>171719</td>\n",
       "      <td>4008979</td>\n",
       "      <td>铃木gsx250防摔棒牛角安装实录</td>\n",
       "    </tr>\n",
       "  </tbody>\n",
       "</table>\n",
       "<p>171720 rows × 2 columns</p>\n",
       "</div>"
      ],
      "text/plain": [
       "        essay_id                       e.c_title\n",
       "0          30143                       雅马哈赛鹰GT踏板\n",
       "1          30283   这个杀手有点冷 Kawasaki Z1000 ABS 测评\n",
       "2          30400                  国内贩售版CBR300R加速\n",
       "3          30401                  五羊本田CB190R加速测试\n",
       "4          30415                Honda X-Adv 国内首试\n",
       "...          ...                             ...\n",
       "171715   4008585                     北京将要扩大禁摩范围了\n",
       "171716   4008594  2021KTM390ADVENTURE强劲的小排量旅行耐力车\n",
       "171717   4008794        骑者没有春夏秋冬之分，只有一颗炽热的心，敬骑士！\n",
       "171718   4008875                          你们怎么看？\n",
       "171719   4008979               铃木gsx250防摔棒牛角安装实录\n",
       "\n",
       "[171720 rows x 2 columns]"
      ]
     },
     "execution_count": 18,
     "metadata": {},
     "output_type": "execute_result"
    }
   ],
   "source": [
    "titles=pd.read_csv(r'F:\\work\\Downloads\\全量文章标题.csv')\n",
    "titles"
   ]
  },
  {
   "cell_type": "code",
   "execution_count": 19,
   "metadata": {},
   "outputs": [],
   "source": [
    "title_dict={}\n",
    "for i in titles.index:\n",
    "    itemid=titles['essay_id'][i]\n",
    "    title=titles['e.c_title'][i]\n",
    "    title_dict[itemid]=title"
   ]
  },
  {
   "cell_type": "code",
   "execution_count": 31,
   "metadata": {},
   "outputs": [
    {
     "data": {
      "text/html": [
       "<div>\n",
       "<style scoped>\n",
       "    .dataframe tbody tr th:only-of-type {\n",
       "        vertical-align: middle;\n",
       "    }\n",
       "\n",
       "    .dataframe tbody tr th {\n",
       "        vertical-align: top;\n",
       "    }\n",
       "\n",
       "    .dataframe thead th {\n",
       "        text-align: right;\n",
       "    }\n",
       "</style>\n",
       "<table border=\"1\" class=\"dataframe\">\n",
       "  <thead>\n",
       "    <tr style=\"text-align: right;\">\n",
       "      <th></th>\n",
       "      <th>essay_id</th>\n",
       "      <th>kw_keywords</th>\n",
       "    </tr>\n",
       "  </thead>\n",
       "  <tbody>\n",
       "    <tr>\n",
       "      <td>0</td>\n",
       "      <td>30400</td>\n",
       "      <td>{'cbr300': 0.9790462842829708, '贩售': 0.8909096...</td>\n",
       "    </tr>\n",
       "    <tr>\n",
       "      <td>1</td>\n",
       "      <td>30500</td>\n",
       "      <td>{'阿普利亚rsv4rr': 0.8897654637573761, '评测': 0.805...</td>\n",
       "    </tr>\n",
       "    <tr>\n",
       "      <td>2</td>\n",
       "      <td>40940</td>\n",
       "      <td>{'mm': 1.0, 'k1600': 0.5555224424064236, '系统':...</td>\n",
       "    </tr>\n",
       "    <tr>\n",
       "      <td>3</td>\n",
       "      <td>40960</td>\n",
       "      <td>{'屹立': 0.8645441910035089, '不倒': 0.46613634108...</td>\n",
       "    </tr>\n",
       "    <tr>\n",
       "      <td>4</td>\n",
       "      <td>40980</td>\n",
       "      <td>{'混血儿': 0.9477826822877973, '车界': 0.5522649362...</td>\n",
       "    </tr>\n",
       "    <tr>\n",
       "      <td>...</td>\n",
       "      <td>...</td>\n",
       "      <td>...</td>\n",
       "    </tr>\n",
       "    <tr>\n",
       "      <td>348888</td>\n",
       "      <td>4009795</td>\n",
       "      <td>{'极客飒155': 0.9962486185648347, '民用': 0.8580776...</td>\n",
       "    </tr>\n",
       "    <tr>\n",
       "      <td>348889</td>\n",
       "      <td>4009058</td>\n",
       "      <td>{'新车': 0.7350253692086189, 'ness': 0.602315013...</td>\n",
       "    </tr>\n",
       "    <tr>\n",
       "      <td>348890</td>\n",
       "      <td>4011098</td>\n",
       "      <td>{'好看': 1.0}</td>\n",
       "    </tr>\n",
       "    <tr>\n",
       "      <td>348891</td>\n",
       "      <td>4009759</td>\n",
       "      <td>{'adv': 0.891526017391374, '未上市': 0.8760596663...</td>\n",
       "    </tr>\n",
       "    <tr>\n",
       "      <td>348892</td>\n",
       "      <td>4009779</td>\n",
       "      <td>{'机滤': 0.9139967971529752, '出奇': 0.76244566791...</td>\n",
       "    </tr>\n",
       "  </tbody>\n",
       "</table>\n",
       "<p>348893 rows × 2 columns</p>\n",
       "</div>"
      ],
      "text/plain": [
       "        essay_id                                        kw_keywords\n",
       "0          30400  {'cbr300': 0.9790462842829708, '贩售': 0.8909096...\n",
       "1          30500  {'阿普利亚rsv4rr': 0.8897654637573761, '评测': 0.805...\n",
       "2          40940  {'mm': 1.0, 'k1600': 0.5555224424064236, '系统':...\n",
       "3          40960  {'屹立': 0.8645441910035089, '不倒': 0.46613634108...\n",
       "4          40980  {'混血儿': 0.9477826822877973, '车界': 0.5522649362...\n",
       "...          ...                                                ...\n",
       "348888   4009795  {'极客飒155': 0.9962486185648347, '民用': 0.8580776...\n",
       "348889   4009058  {'新车': 0.7350253692086189, 'ness': 0.602315013...\n",
       "348890   4011098                                        {'好看': 1.0}\n",
       "348891   4009759  {'adv': 0.891526017391374, '未上市': 0.8760596663...\n",
       "348892   4009779  {'机滤': 0.9139967971529752, '出奇': 0.76244566791...\n",
       "\n",
       "[348893 rows x 2 columns]"
      ]
     },
     "execution_count": 31,
     "metadata": {},
     "output_type": "execute_result"
    }
   ],
   "source": [
    "keywords=pd.read_csv(r'F:\\work\\Downloads\\文章关键词.csv')\n",
    "keywords"
   ]
  },
  {
   "cell_type": "code",
   "execution_count": 32,
   "metadata": {},
   "outputs": [],
   "source": [
    "keywords_dict={}\n",
    "for i in keywords.index:\n",
    "    itemid=keywords['essay_id'][i]\n",
    "    kw=eval(keywords['kw_keywords'][i])\n",
    "    keywords_dict[itemid]=kw"
   ]
  },
  {
   "cell_type": "code",
   "execution_count": 105,
   "metadata": {},
   "outputs": [],
   "source": [
    "user_kw=pd.read_csv(r'F:\\work\\Downloads\\用户关键词.csv')\n",
    "user_kw=user_kw.dropna()\n",
    "user_kw_dict={}\n",
    "for i in user_kw.index:\n",
    "    deviceid=user_kw['device_id'][i]\n",
    "    kw=user_kw['u_dy_rt_keywords'][i].split(',')\n",
    "    user_kw_dict[deviceid]=kw"
   ]
  },
  {
   "cell_type": "code",
   "execution_count": 141,
   "metadata": {},
   "outputs": [
    {
     "name": "stderr",
     "output_type": "stream",
     "text": [
      "D:\\anaconda\\lib\\site-packages\\ipykernel_launcher.py:8: RuntimeWarning: invalid value encountered in true_divide\n",
      "  \n"
     ]
    }
   ],
   "source": [
    "user_emb_dict={}\n",
    "for i in user_kw_dict.keys():\n",
    "    user_emb=np.zeros((1,100))[0]\n",
    "    for word in user_kw_dict[i]:\n",
    "        if word in word_emb_dict.keys():\n",
    "            user_emb=user_emb+np.array(word_emb_dict[word])\n",
    "    x=np.linalg.norm(user_emb)\n",
    "    user_emb=user_emb/x\n",
    "    user_emb_dict[i]=user_emb"
   ]
  },
  {
   "cell_type": "code",
   "execution_count": 38,
   "metadata": {},
   "outputs": [],
   "source": [
    "import hnswlib\n",
    "num_elements=effective_matrix.shape[0]\n",
    "dim=effective_matrix.shape[1]\n",
    "p=hnswlib.Index(space='l2',dim=dim)\n",
    "p.init_index(max_elements=num_elements,ef_construction=100,M=128)\n",
    "p.set_ef(10)\n",
    "p.set_num_threads(4)\n",
    "p.add_items(effective_matrix)"
   ]
  },
  {
   "cell_type": "code",
   "execution_count": 98,
   "metadata": {},
   "outputs": [
    {
     "name": "stdout",
     "output_type": "stream",
     "text": [
      "比亚乔贝佛利来了 你是否愿意花6万买个小众踏板车？\n",
      "['佛利', '踏板车', '比亚乔', '欧系', '国内', '轮圈', '消费者', 'asr', 'medley', 'abs', '引进', '典型', 'beverly300', '日系', '分为', '支撑', '座垫']\n",
      "----------------------------------------------\n",
      "骑意式优雅style踏板是怎样的体验?\n",
      "['踏板', '踏板车', '比亚乔', 'fly150', '空间', '减震', '该车', '优雅', 'cbs', '通勤', '常见', '运行', '充裕', '制动', '钥匙', '高端', '座椅']\n",
      "----------------------\n",
      "欧系踏板旗舰代表 比亚乔Beverly 300S\n",
      "['beverly300s', '比亚乔', '欧系', '踏板', '踏板车', '体验', 'asr', '配合', '车款', '经典', '驾控', '引擎', '空间', '山路', '核心', '日系', '关键']\n",
      "----------------------\n",
      "售6万元的踏板究竟有何优势?标配ABS、ASR,水冷引擎马力21匹\n",
      "['abs', '踏板', '该车', '大轮', 'asr', '水冷', '万元', '21', '马力', '一款', '信息', '有何', '踏板车', '显示', '标配', '引擎', '佛利', '优势', '车灯', '眼中', '体现']\n",
      "----------------------\n",
      "解析欧系运动大羊,颜值和实力并存,标配ABS系统,售价26800元\n",
      "['踏板车', 'srmax250', '运动', '外观', 'abs', '大羊', 'srmax', '出色', '车型', '欧系', '款车', '标配', '配备', '颜值', '出厂', '踏板', '售价', '调节', '轮毂']\n",
      "----------------------\n",
      "比亚乔发布2021款Beverly，双动力、双版本登场\n",
      "['beverly', '版本', '比亚乔', '动力', '老款', 'cc', '2021', '行灯', '新款', '系统', 'led', '相比', 'pe', '大轮', '转向灯', '发布']\n",
      "----------------------\n",
      "售价1万多,汉威低价高配新车上热门!8.5kw+碟刹CBS\n",
      "['大轮', '绵羊', '踏板', '汉威', '款车', '国内', 'cbs', '摩托车', '小型', '碟刹', '售价', '非常不错', 'flash150t', '设计', '这款', '低价', '车友', '热门', 'kw', '10', '规格']\n",
      "----------------------\n",
      "谁才是最优质的中绵羊？可能你骑的就是它\n",
      "['绵羊', '车型', '优质', '宝马c400', '雅马哈xmax300', '表现', 'xmax', '选拔', '一种', '品质', '两款', '代工']\n",
      "----------------------\n",
      "短途摩旅利器?三阳巡弋300,搭载29匹单缸发动机,售价4.18万!\n",
      "['巡弋300', '踏板车', '售价', '配置', 'mm', '单缸', '踏板', '短途', '三阳', '液晶', '大灯', '确实', '尺寸', '18', '60', '液压']\n",
      "----------------------\n",
      "注重运动操控,欧系150水冷踏板,12.5马力正新胎CBS,大座桶\n",
      "['踏板', 'speedfight4', '标致', '踏板车', '欧系', '水冷', '12', '出色', '运动', '代步', '制动', '马力', '注重', '通勤', '减震']\n",
      "----------------------\n",
      "优雅大轮绵羊，配无钥匙启动+ABS系统，配置给力，3w起\n",
      "['整体', '踏板', '钥匙', '系统', 'led', 'people', '启动', '大轮', 'abs', '表现', '配备', '城市', '踏板车', '绵羊', '空间', '优秀']\n",
      "----------------------\n"
     ]
    }
   ],
   "source": [
    "#i2i\n",
    "i=74\n",
    "item1=act_lst[i]\n",
    "print(title_dict[item1])\n",
    "print(list(keywords_dict[item1].keys()))\n",
    "print('----------------------------------------------')\n",
    "sim_dict=output[item1]\n",
    "for k,v in sim_dict.items():\n",
    "    print(title_dict[k])\n",
    "    print(list(keywords_dict[k].keys()))\n",
    "    print('----------------------')"
   ]
  },
  {
   "cell_type": "code",
   "execution_count": 217,
   "metadata": {},
   "outputs": [
    {
     "name": "stdout",
     "output_type": "stream",
     "text": [
      "4355bfba580e7d760b8d5fb4ee31f8d1\n",
      "['巡航', '太子', '魔枭', '哈雷', 'cm300', '美式', 'gv300s', '金吉拉', '设计', 'cc', '川崎小火神', '平民', '哈雷883', '轻骑gv250', '国产', '摩友', '轻松', '风格', '价格', '国内', '新车', '妹子', '双缸', '不俗', '座椅', '车头', 'ke', '26', '舒适度', '10']\n",
      "纯正太子车价格26800,外观超帅,动力不俗!轻骑GV250!\n",
      "入门级经济太子车,极速110续航500公里,油耗低至冰点,仅1.75L\n",
      "仅售26800元,国产中量级巡航,搭配V缸发动机,充满浓烈美式风\n",
      "V型发动机、座高710、提速8秒，2.8W圆你的哈雷梦\n",
      "国产巡航车又一搅局者，跨界风格、皮带传动，19980元起\n",
      "纯正美式巡航，解读轻骑骁胜巡风GV650\n",
      "大排量巡航太子,90度V型双缸引擎,极速160km,售价59800元!\n",
      "入门级经济太子车,极速110续航500公里,油耗低至冰点,仅1.75L\n",
      "运动巡航太子车，售价不到3万，动力强劲配ABS，配17L油箱\n",
      "终于有一款优质太子车了,30马力300水冷V缸ABS,不足3w\n"
     ]
    }
   ],
   "source": [
    "#i2u\n",
    "user_list=list(user_kw_dict.keys()&user_emb_dict.keys())\n",
    "i=2\n",
    "user=user_list[i]\n",
    "print(user)\n",
    "print(user_kw_dict[user])\n",
    "user_emb=np.zeros((1,100))[0]\n",
    "for word in user_kw_dict[user]:\n",
    "    if word in word_emb_dict.keys():\n",
    "        user_emb=user_emb+np.array(word_emb_dict[word])\n",
    "x=np.linalg.norm(user_emb)\n",
    "user_emb=user_emb/x\n",
    "user_emb=user_emb_dict[user]\n",
    "sim_matrix=np.dot(user_emb,effective_matrix.T)\n",
    "sorted_list=sorted(enumerate(list(sim_matrix)), key=itemgetter(1),reverse=True)\n",
    "for j,sim in sorted_list[:10]:\n",
    "    simitem=effective_lst[j]\n",
    "    if simitem in title_dict.keys():\n",
    "        title=title_dict[simitem]\n",
    "        print(title)"
   ]
  },
  {
   "cell_type": "code",
   "execution_count": 41,
   "metadata": {},
   "outputs": [],
   "source": [
    "user_emb=[0.050383161075704744, 0.04837009918561921, -0.06836901466395846, 0.05322148825972053, -0.06091031188291118, 0.12312081061149334, 0.18701551480148598, -0.014350025591708478, -0.03503858772094277, -0.05812972757307398, -0.04497475896952169, 0.0546346552893759, 0.05896629110635191, -0.0971989442291756, 0.061057013339785825, 0.0688068112197787, -0.1382093314166505, -0.06720528275419316, -0.01547941757071371, 0.024003524326340984, -0.13993632701247516, -0.007358403978648096, 0.08671697975088272, 0.12627430089508332, 0.03190814907148095, -0.021655389600734844, 0.07029810590042342, -0.19448076762273003, -0.01850177448082471, 0.14270393386874658, 0.10817295161575663, 0.14381593161889394, -0.05743096013758382, -0.11488225975738434, -0.16318309688023805, 0.04321473146243316, 0.0905899879177645, 0.13146265854917777, -0.09771616540801942, -0.19070133919188265, 0.14024093536689167, -0.10123920986540318, 0.016865500642625104, -0.001975762344266076, -0.12005887727365266, 0.013229283775418835, -0.12726218151484325, -0.10990207163851642, -0.018641432075952917, -0.042081180113999556, -0.11454766748645906, -0.1551793090117885, -0.04200419808481559, 0.04973634433008694, 0.01742055495970112, 0.1578296426403574, 0.16210356209706353, 0.1389394913200495, -0.22360665648439426, 0.05985169767845251, 0.053784192944204647, 0.040095498253638555, 0.12248139235115091, 0.04809374029618359, 0.09099974711987352, 0.002586800779576468, 0.05200390218238696, 0.0978059426076468, 0.01421927335566716, -0.028293824959643114, 0.004000620714233747, -0.0957256270833803, -0.013230578537960681, -0.04339774813626653, 0.030432282171465003, 0.14703371923584407, 0.02784163908461845, -0.07491690060564826, 0.07298344120272388, -0.04420842304718467, -0.0037945645584803716, -0.15789230053036252, 0.09528685614141508, -0.09371119972699635, -0.00046228325525716563, 0.25715139977047174, -0.04545575441584867, -0.26216705024223497, 0.07745371935307385, 0.0534678510804392, -0.13434020753739426, 0.06616704780281424, 0.05544924873505166, 0.06679475354398544, 0.057225003408988104, -0.08114043858788937, 0.008035627758567802, 0.15878224650458297, 0.12525034036930444, -0.14172034518795854]"
   ]
  },
  {
   "cell_type": "code",
   "execution_count": 42,
   "metadata": {},
   "outputs": [
    {
     "data": {
      "text/plain": [
       "1.0"
      ]
     },
     "execution_count": 42,
     "metadata": {},
     "output_type": "execute_result"
    }
   ],
   "source": [
    "np.linalg.norm(user_emb)"
   ]
  },
  {
   "cell_type": "code",
   "execution_count": 47,
   "metadata": {},
   "outputs": [
    {
     "data": {
      "text/plain": [
       "(array([[10052,   454, 12114,   173,  3295,  9986, 11561,  1142, 13580,\n",
       "         13264]], dtype=uint64),\n",
       " array([[0.        , 0.21584232, 0.2525617 , 0.25956547, 0.3103227 ,\n",
       "         0.3115612 , 0.32505172, 0.33015794, 0.33419982, 0.3377743 ]],\n",
       "       dtype=float32))"
      ]
     },
     "execution_count": 47,
     "metadata": {},
     "output_type": "execute_result"
    }
   ],
   "source": [
    "p.knn_query(user_emb,10)"
   ]
  },
  {
   "cell_type": "code",
   "execution_count": 46,
   "metadata": {},
   "outputs": [
    {
     "name": "stdout",
     "output_type": "stream",
     "text": [
      "3914188\n",
      "外卖小哥喜提铃木uy\n",
      "3782734\n",
      "摩友评价很高的,五款小巧摩托车,送快递外卖省油耐用,外观拉风\n",
      "3611070\n",
      "不到8千，又一款外卖、拉货利器：解析豪爵EH150，实用为主\n",
      "3059954\n",
      "想进入外卖行业，1万内的跨骑车，求推荐\n",
      "3585697\n",
      "兼职送外卖，UU和USR都在做活动，价格有点心动，如何选？\n",
      "3824548\n",
      "6千多元的外卖、代步利器！解析本田喜蕴100：2.2升油耗\n",
      "3461369\n",
      "国四铃木丽至110测评（真实车主）\n",
      "3952800\n",
      "这技术不送外卖可惜了😂\n",
      "3420053\n",
      "六千拿下铃木UZ110T，对比UU，虽没那么省油，但强大\n",
      "3871092\n",
      "闪送外卖都骑什么摩托车？\n"
     ]
    }
   ],
   "source": [
    "for i in p.knn_query(user_emb,10)[0].tolist()[0]:\n",
    "    itemid=effective_lst[i]\n",
    "    print(itemid)\n",
    "    if itemid in title_dict.keys():\n",
    "        print(title_dict[itemid])"
   ]
  },
  {
   "cell_type": "code",
   "execution_count": 220,
   "metadata": {},
   "outputs": [
    {
     "data": {
      "text/plain": [
       "1230391"
      ]
     },
     "execution_count": 220,
     "metadata": {},
     "output_type": "execute_result"
    }
   ],
   "source": [
    "len(data)"
   ]
  },
  {
   "cell_type": "code",
   "execution_count": 45,
   "metadata": {},
   "outputs": [
    {
     "data": {
      "text/plain": [
       "'6千多元的外卖、代步利器！解析本田喜蕴100：2.2升油耗'"
      ]
     },
     "execution_count": 45,
     "metadata": {},
     "output_type": "execute_result"
    }
   ],
   "source": [
    "title_dict[3824548]"
   ]
  },
  {
   "cell_type": "code",
   "execution_count": null,
   "metadata": {},
   "outputs": [],
   "source": []
  },
  {
   "cell_type": "code",
   "execution_count": null,
   "metadata": {},
   "outputs": [],
   "source": []
  },
  {
   "cell_type": "code",
   "execution_count": null,
   "metadata": {},
   "outputs": [],
   "source": []
  },
  {
   "cell_type": "code",
   "execution_count": null,
   "metadata": {},
   "outputs": [],
   "source": []
  },
  {
   "cell_type": "code",
   "execution_count": null,
   "metadata": {},
   "outputs": [],
   "source": []
  },
  {
   "cell_type": "code",
   "execution_count": 169,
   "metadata": {},
   "outputs": [],
   "source": [
    "def test_hnsw_time(emb,path):\n",
    "    p= hnswlib.Index(space='l2', dim=dim)\n",
    "    p.load_index('model.bin')\n",
    "    emb=emb.replace('[','').replace(']','').split(', ')\n",
    "    emb=[float(x) for x in emb]\n",
    "    return p.knn_query(emb,10)"
   ]
  },
  {
   "cell_type": "code",
   "execution_count": 172,
   "metadata": {},
   "outputs": [],
   "source": [
    "def test_time(sql):\n",
    "    m = timeit.repeat(sql, repeat=10, number=1, globals=globals())\n",
    "    m = np.array(m) * 1000.0 #换算为毫秒\n",
    "    print(np.min(m), np.mean(m), np.max(m), np.std(m))"
   ]
  },
  {
   "cell_type": "code",
   "execution_count": 175,
   "metadata": {},
   "outputs": [
    {
     "name": "stdout",
     "output_type": "stream",
     "text": [
      "61.34800000290852 64.3564800004242 68.45109999994747 1.816563572008957\n"
     ]
    }
   ],
   "source": [
    "import timeit\n",
    "emb=data['embedding'][0]\n",
    "test_time(\"test_hnsw_time(emb,'model.bin')\")"
   ]
  },
  {
   "cell_type": "code",
   "execution_count": 176,
   "metadata": {},
   "outputs": [
    {
     "data": {
      "text/plain": [
       "array([[ 3148,  8178,  3029,  2823,  6511,  4348, 10356,   444,  9142,\n",
       "         2526]], dtype=uint64)"
      ]
     },
     "execution_count": 176,
     "metadata": {},
     "output_type": "execute_result"
    }
   ],
   "source": [
    "p.knn_query(user_emb,10)[0]"
   ]
  },
  {
   "cell_type": "code",
   "execution_count": 167,
   "metadata": {},
   "outputs": [],
   "source": [
    "p.save_index('model.bin')"
   ]
  },
  {
   "cell_type": "code",
   "execution_count": 178,
   "metadata": {},
   "outputs": [],
   "source": [
    "def load(path):\n",
    "    q = hnswlib.Index(space='l2', dim=dim)\n",
    "    q.load_index(path)"
   ]
  },
  {
   "cell_type": "code",
   "execution_count": 182,
   "metadata": {},
   "outputs": [],
   "source": [
    "q = hnswlib.Index(space='l2', dim=dim)\n",
    "q.load_index('model.bin')"
   ]
  },
  {
   "cell_type": "code",
   "execution_count": 187,
   "metadata": {},
   "outputs": [
    {
     "name": "stdout",
     "output_type": "stream",
     "text": [
      "63.384599998244084 67.47562999953516 75.23519999813288 4.023035528957869\n"
     ]
    }
   ],
   "source": [
    "test_time(\"load('model.bin')\")"
   ]
  },
  {
   "cell_type": "code",
   "execution_count": 227,
   "metadata": {},
   "outputs": [
    {
     "data": {
      "text/plain": [
       "{'cbr300': 0.9790462842829708,\n",
       " '贩售': 0.8909096790577531,\n",
       " '加速': 0.6249048569763798,\n",
       " '国内': 0.5022938587331897,\n",
       " '超清': 0.1697070890458812}"
      ]
     },
     "execution_count": 227,
     "metadata": {},
     "output_type": "execute_result"
    }
   ],
   "source": [
    "a={'cbr300': 0.9790462842829708, '贩售': 0.8909096790577531, '加速': 0.6249048569763798, '国内': 0.5022938587331897, '超清': 0.1697070890458812}\n"
   ]
  },
  {
   "cell_type": "code",
   "execution_count": 231,
   "metadata": {},
   "outputs": [
    {
     "data": {
      "text/plain": [
       "'{\"cbr300\": 0.9790462842829708, \"贩售\": 0.8909096790577531, \"加速\": 0.6249048569763798, \"国内\": 0.5022938587331897, \"超清\": 0.1697070890458812}'"
      ]
     },
     "execution_count": 231,
     "metadata": {},
     "output_type": "execute_result"
    }
   ],
   "source": [
    "import json\n",
    "a={'cbr300': 0.9790462842829708, '贩售': 0.8909096790577531, '加速': 0.6249048569763798, '国内': 0.5022938587331897, '超清': 0.1697070890458812}\n",
    "b=json.dumps(a,ensure_ascii=False)\n",
    "eval(b)"
   ]
  },
  {
   "cell_type": "code",
   "execution_count": 232,
   "metadata": {},
   "outputs": [
    {
     "data": {
      "text/plain": [
       "{'cbr300': 0.9790462842829708,\n",
       " '贩售': 0.8909096790577531,\n",
       " '加速': 0.6249048569763798,\n",
       " '国内': 0.5022938587331897,\n",
       " '超清': 0.1697070890458812}"
      ]
     },
     "execution_count": 232,
     "metadata": {},
     "output_type": "execute_result"
    }
   ],
   "source": [
    "eval(b)"
   ]
  },
  {
   "cell_type": "code",
   "execution_count": null,
   "metadata": {},
   "outputs": [],
   "source": []
  }
 ],
 "metadata": {
  "kernelspec": {
   "display_name": "Python 3",
   "language": "python",
   "name": "python3"
  },
  "language_info": {
   "codemirror_mode": {
    "name": "ipython",
    "version": 3
   },
   "file_extension": ".py",
   "mimetype": "text/x-python",
   "name": "python",
   "nbconvert_exporter": "python",
   "pygments_lexer": "ipython3",
   "version": "3.7.4"
  }
 },
 "nbformat": 4,
 "nbformat_minor": 2
}
