{
 "cells": [
  {
   "cell_type": "code",
   "execution_count": 2,
   "metadata": {},
   "outputs": [
    {
     "data": {
      "text/plain": [
       "array([ True,  True, False])"
      ]
     },
     "execution_count": 2,
     "metadata": {},
     "output_type": "execute_result"
    }
   ],
   "source": [
    "import numpy as np\n",
    "np.array([6,8,4]>np.array([1,5,9]))\n"
   ]
  },
  {
   "cell_type": "code",
   "execution_count": 5,
   "metadata": {},
   "outputs": [],
   "source": [
    "np.logspace?"
   ]
  },
  {
   "cell_type": "code",
   "execution_count": 7,
   "metadata": {},
   "outputs": [
    {
     "data": {
      "text/plain": [
       "(array([10., 12., 14., 16., 18., 20., 22., 24., 26., 28., 30., 32., 34.,\n",
       "        36., 38., 40., 42., 44., 46., 48., 50., 52., 54., 56., 58., 60.,\n",
       "        62., 64., 66., 68., 70., 72., 74., 76., 78., 80., 82., 84., 86.,\n",
       "        88., 90., 92., 94., 96., 98.]),\n",
       " array([  100.        ,   111.03363182,   123.28467394,   136.88745095,\n",
       "          151.9911083 ,   168.76124758,   187.38174229,   208.05675382,\n",
       "          231.01297001,   256.50209057,   284.80358684,   316.22776602,\n",
       "          351.11917342,   389.86037025,   432.87612811,   480.63808631,\n",
       "          533.66992312,   592.55309755,   657.93322466,   730.52715427,\n",
       "          811.13083079,   900.62802021,  1000.        ,  1110.33631817,\n",
       "         1232.84673944,  1368.87450954,  1519.91108295,  1687.61247579,\n",
       "         1873.81742286,  2080.56753822,  2310.12970008,  2565.02090568,\n",
       "         2848.03586844,  3162.27766017,  3511.19173422,  3898.60370255,\n",
       "         4328.76128108,  4806.38086306,  5336.69923121,  5925.53097555,\n",
       "         6579.33224658,  7305.27154266,  8111.3083079 ,  9006.28020211,\n",
       "        10000.        ]))"
      ]
     },
     "execution_count": 7,
     "metadata": {},
     "output_type": "execute_result"
    }
   ],
   "source": [
    "a=np.arange(10.0,100.0,2)\n",
    "b=np.logspace(2,4,a.shape[0])\n",
    "a,b"
   ]
  },
  {
   "cell_type": "code",
   "execution_count": 13,
   "metadata": {},
   "outputs": [
    {
     "data": {
      "text/plain": [
       "0"
      ]
     },
     "execution_count": 13,
     "metadata": {},
     "output_type": "execute_result"
    }
   ],
   "source": [
    "import numpy as np\n",
    "def bmi(height,weight):\n",
    "    bmi_index=weight/height**2\n",
    "    if bmi_index>18 and bmi_index<25:\n",
    "        return 0\n",
    "    elif bmi_index<=18:\n",
    "        return -1\n",
    "    else:\n",
    "        return 1\n",
    "bmi(1.77,74)"
   ]
  },
  {
   "cell_type": "code",
   "execution_count": 16,
   "metadata": {},
   "outputs": [],
   "source": [
    "np.random.rand?"
   ]
  },
  {
   "cell_type": "code",
   "execution_count": 17,
   "metadata": {},
   "outputs": [],
   "source": [
    "np.eye?"
   ]
  },
  {
   "cell_type": "code",
   "execution_count": 24,
   "metadata": {},
   "outputs": [
    {
     "data": {
      "text/plain": [
       "matrix([[1, 2, 3],\n",
       "        [4, 5, 6],\n",
       "        [7, 8, 9]])"
      ]
     },
     "execution_count": 24,
     "metadata": {},
     "output_type": "execute_result"
    }
   ],
   "source": [
    "A=np.mat('1,2,3;4,5,6;7,8,9')\n",
    "A"
   ]
  },
  {
   "cell_type": "code",
   "execution_count": null,
   "metadata": {},
   "outputs": [],
   "source": []
  }
 ],
 "metadata": {
  "kernelspec": {
   "display_name": "Python 3",
   "language": "python",
   "name": "python3"
  },
  "language_info": {
   "codemirror_mode": {
    "name": "ipython",
    "version": 3
   },
   "file_extension": ".py",
   "mimetype": "text/x-python",
   "name": "python",
   "nbconvert_exporter": "python",
   "pygments_lexer": "ipython3",
   "version": "3.7.4"
  }
 },
 "nbformat": 4,
 "nbformat_minor": 2
}
