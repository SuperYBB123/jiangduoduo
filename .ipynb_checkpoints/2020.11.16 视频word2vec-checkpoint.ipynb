{
 "cells": [
  {
   "cell_type": "code",
   "execution_count": 1,
   "metadata": {},
   "outputs": [],
   "source": [
    "import pandas as pd\n",
    "from gensim.models import word2vec\n",
    "import random\n",
    "import math\n",
    "import numpy as np"
   ]
  },
  {
   "cell_type": "code",
   "execution_count": 37,
   "metadata": {},
   "outputs": [],
   "source": [
    "title_df=pd.read_csv(r'F:\\work\\Downloads\\query-hive-518964.csv')\n",
    "title_dict={}\n",
    "for i in title_df.index:\n",
    "    itemid=str(title_df['e.n_id'][i])\n",
    "    title=title_df['e.c_title'][i]\n",
    "    content=title_df['s.c_content'][i]\n",
    "    title_dict.setdefault(itemid,{})\n",
    "    title_dict[itemid]['title']=title\n",
    "    title_dict[itemid]['content']=content"
   ]
  },
  {
   "cell_type": "code",
   "execution_count": 31,
   "metadata": {},
   "outputs": [],
   "source": [
    "tmp=pd.read_csv(r'F:\\work\\Downloads\\query-hive-518921.csv')\n",
    "essay_dict={}\n",
    "for i in tmp.index:\n",
    "    j=tmp['list'][i]\n",
    "    k=j.strip().split(',')\n",
    "    for car in k:\n",
    "        essay_dict.setdefault(car,0)\n",
    "        essay_dict[car]+=1"
   ]
  },
  {
   "cell_type": "code",
   "execution_count": 42,
   "metadata": {},
   "outputs": [
    {
     "name": "stdout",
     "output_type": "stream",
     "text": [
      "筛选前文章总数为： 13434\n",
      "筛选后文章总数为： 6778\n"
     ]
    }
   ],
   "source": [
    "k=50\n",
    "chose_dict={x:y for x,y in essay_dict.items() if y>=k}\n",
    "print('筛选前文章总数为：',len(list(essay_dict.keys())))\n",
    "print('筛选后文章总数为：',len(list(chose_dict.keys())))"
   ]
  },
  {
   "cell_type": "code",
   "execution_count": 56,
   "metadata": {},
   "outputs": [
    {
     "name": "stdout",
     "output_type": "stream",
     "text": [
      "0\n",
      "1\n",
      "2\n",
      "3\n",
      "4\n",
      "5\n",
      "6\n",
      "7\n",
      "8\n",
      "9\n",
      "10\n",
      "11\n",
      "12\n",
      "13\n",
      "14\n",
      "15\n",
      "16\n",
      "17\n",
      "18\n",
      "19\n"
     ]
    }
   ],
   "source": [
    "#读取数据\n",
    "tmp=pd.read_csv(r'F:\\work\\Downloads\\query-hive-518921.csv')\n",
    "fl = open(r'F:\\work\\5.18 word2vec训练文章id\\data.txt', 'w', encoding='utf8')\n",
    "for n in range(20):\n",
    "    for i in tmp.index:\n",
    "        j=tmp['list'][i]\n",
    "        k=j.strip().split(',')\n",
    "        random.shuffle(k)\n",
    "        for wd in k:\n",
    "            fl.write(wd)\n",
    "            fl.write(' ')\n",
    "        fl.write('\\n')\n",
    "    print(n)\n",
    "fl.close()"
   ]
  },
  {
   "cell_type": "code",
   "execution_count": 76,
   "metadata": {},
   "outputs": [],
   "source": [
    "sentences=word2vec.Text8Corpus(r'F:\\work\\5.18 word2vec训练文章id\\data.txt')\n",
    "model=word2vec.Word2Vec(sentences,size=100,min_count=1000,window=5,compute_loss=True,\n",
    "                  workers=10,sg=0,sample=1e-4,hs=0,negative=40,iter=1,sorted_vocab=1)"
   ]
  },
  {
   "cell_type": "code",
   "execution_count": 77,
   "metadata": {},
   "outputs": [
    {
     "data": {
      "text/plain": [
       "6778"
      ]
     },
     "execution_count": 77,
     "metadata": {},
     "output_type": "execute_result"
    }
   ],
   "source": [
    "essay_list=list(model.wv.vocab.keys())\n",
    "essay_sim_degree=dict()\n",
    "for essay in essay_list:\n",
    "    essay_sim_degree.setdefault(essay,{})\n",
    "    for x in model.wv.most_similar(essay,topn=10):\n",
    "        sim=x[0]\n",
    "        degree=x[1]\n",
    "        essay_sim_degree[essay][sim]=degree\n",
    "len(essay_sim_degree)"
   ]
  },
  {
   "cell_type": "code",
   "execution_count": 78,
   "metadata": {},
   "outputs": [
    {
     "data": {
      "text/html": [
       "<div>\n",
       "<style scoped>\n",
       "    .dataframe tbody tr th:only-of-type {\n",
       "        vertical-align: middle;\n",
       "    }\n",
       "\n",
       "    .dataframe tbody tr th {\n",
       "        vertical-align: top;\n",
       "    }\n",
       "\n",
       "    .dataframe thead th {\n",
       "        text-align: right;\n",
       "    }\n",
       "</style>\n",
       "<table border=\"1\" class=\"dataframe\">\n",
       "  <thead>\n",
       "    <tr style=\"text-align: right;\">\n",
       "      <th></th>\n",
       "      <th>essay_1</th>\n",
       "      <th>essay1_title</th>\n",
       "      <th>essay1_content</th>\n",
       "      <th>essay_2</th>\n",
       "      <th>essay2_title</th>\n",
       "      <th>essay2_content</th>\n",
       "      <th>sim</th>\n",
       "    </tr>\n",
       "  </thead>\n",
       "  <tbody>\n",
       "    <tr>\n",
       "      <td>33339</td>\n",
       "      <td>1838577</td>\n",
       "      <td>2020款 赛科龙 RT3 静态展示</td>\n",
       "      <td>[{\"type\":\"2\",\"content\":\"\",\"img\":\"http://images...</td>\n",
       "      <td>2395884</td>\n",
       "      <td>宗申阿普利亚运动踏板sr max250摩托车 车主刚提车 说熄火已解决</td>\n",
       "      <td>[{\"content\":\"致敬骑士👊🏻\",\"type\":\"1\"},{\"duration\":\"...</td>\n",
       "      <td>0.930206</td>\n",
       "    </tr>\n",
       "    <tr>\n",
       "      <td>33340</td>\n",
       "      <td>1838577</td>\n",
       "      <td>2020款 赛科龙 RT3 静态展示</td>\n",
       "      <td>[{\"type\":\"2\",\"content\":\"\",\"img\":\"http://images...</td>\n",
       "      <td>2691492</td>\n",
       "      <td>2020款赛科龙RT3车友试驾</td>\n",
       "      <td>[{\"type\":\"1\",\"content\":\"好热啊\"},{\"duration\":\"10\"...</td>\n",
       "      <td>0.927442</td>\n",
       "    </tr>\n",
       "    <tr>\n",
       "      <td>33341</td>\n",
       "      <td>1838577</td>\n",
       "      <td>2020款 赛科龙 RT3 静态展示</td>\n",
       "      <td>[{\"type\":\"2\",\"content\":\"\",\"img\":\"http://images...</td>\n",
       "      <td>2391724</td>\n",
       "      <td>2万多颜值小钢炮 龙嘉VMAXie300测评 | 照摩镜</td>\n",
       "      <td>[{\"content\":\"报道，虽然还没买车，哈哈😄\",\"type\":\"1\"}]</td>\n",
       "      <td>0.923662</td>\n",
       "    </tr>\n",
       "    <tr>\n",
       "      <td>33342</td>\n",
       "      <td>1838577</td>\n",
       "      <td>2020款 赛科龙 RT3 静态展示</td>\n",
       "      <td>[{\"type\":\"2\",\"content\":\"\",\"img\":\"http://images...</td>\n",
       "      <td>3368521</td>\n",
       "      <td>无痕测车第一期：钱江贝纳利银刃250测评，两万公里长测</td>\n",
       "      <td>[{\"content\":\"打卡\",\"type\":\"1\"}]</td>\n",
       "      <td>0.921939</td>\n",
       "    </tr>\n",
       "    <tr>\n",
       "      <td>33343</td>\n",
       "      <td>1838577</td>\n",
       "      <td>2020款 赛科龙 RT3 静态展示</td>\n",
       "      <td>[{\"type\":\"2\",\"content\":\"\",\"img\":\"http://images...</td>\n",
       "      <td>2289768</td>\n",
       "      <td>车主分享 2020款宗申赛科龙rt3踏板 百公里油耗3升 17升大油箱老巢摩托</td>\n",
       "      <td>[{\"isEmptyForward\":false,\"content\":\"宁波地区求购一辆狒狒...</td>\n",
       "      <td>0.921918</td>\n",
       "    </tr>\n",
       "    <tr>\n",
       "      <td>...</td>\n",
       "      <td>...</td>\n",
       "      <td>...</td>\n",
       "      <td>...</td>\n",
       "      <td>...</td>\n",
       "      <td>...</td>\n",
       "      <td>...</td>\n",
       "      <td>...</td>\n",
       "    </tr>\n",
       "    <tr>\n",
       "      <td>65748</td>\n",
       "      <td>3828145</td>\n",
       "      <td>骑车的快乐就是在路上看什么都好玩，一路有桥有塔，有狗有马，还有警察叔叔和小巡鹰</td>\n",
       "      <td>[{\"id\":\"\",\"content\":\"二手车\",\"img\":\"\",\"type\":\"1\",...</td>\n",
       "      <td>3826285</td>\n",
       "      <td>【四川无极】阆中年会</td>\n",
       "      <td>[{\"content\":\"华鹰怠速嗡嗡嗡震耳朵怀孕那种😁\",\"type\":\"1\"},{\"du...</td>\n",
       "      <td>0.736543</td>\n",
       "    </tr>\n",
       "    <tr>\n",
       "      <td>65749</td>\n",
       "      <td>3828145</td>\n",
       "      <td>骑车的快乐就是在路上看什么都好玩，一路有桥有塔，有狗有马，还有警察叔叔和小巡鹰</td>\n",
       "      <td>[{\"id\":\"\",\"content\":\"二手车\",\"img\":\"\",\"type\":\"1\",...</td>\n",
       "      <td>3823207</td>\n",
       "      <td>【 機車旅行 】360全景相機拍vlog的几个机位？</td>\n",
       "      <td>[{\"id\":\"\",\"content\":\"二手车\",\"img\":\"\",\"type\":\"1\",...</td>\n",
       "      <td>0.726449</td>\n",
       "    </tr>\n",
       "    <tr>\n",
       "      <td>65750</td>\n",
       "      <td>3828145</td>\n",
       "      <td>骑车的快乐就是在路上看什么都好玩，一路有桥有塔，有狗有马，还有警察叔叔和小巡鹰</td>\n",
       "      <td>[{\"id\":\"\",\"content\":\"二手车\",\"img\":\"\",\"type\":\"1\",...</td>\n",
       "      <td>3822929</td>\n",
       "      <td>开箱-SHOEI X 14 阿部典史</td>\n",
       "      <td>[{\"isEmptyForward\":false,\"content\":\"听说150g1蛮火的...</td>\n",
       "      <td>0.725172</td>\n",
       "    </tr>\n",
       "    <tr>\n",
       "      <td>65751</td>\n",
       "      <td>3828145</td>\n",
       "      <td>骑车的快乐就是在路上看什么都好玩，一路有桥有塔，有狗有马，还有警察叔叔和小巡鹰</td>\n",
       "      <td>[{\"id\":\"\",\"content\":\"二手车\",\"img\":\"\",\"type\":\"1\",...</td>\n",
       "      <td>3825233</td>\n",
       "      <td>摩托车冷车启动必须要拉风门才能打火该怎么办？师傅教你轻松解决</td>\n",
       "      <td>[{\"content\":\"Morning Monday📆\",\"type\":\"1\"},{\"im...</td>\n",
       "      <td>0.724830</td>\n",
       "    </tr>\n",
       "    <tr>\n",
       "      <td>65752</td>\n",
       "      <td>3828145</td>\n",
       "      <td>骑车的快乐就是在路上看什么都好玩，一路有桥有塔，有狗有马，还有警察叔叔和小巡鹰</td>\n",
       "      <td>[{\"id\":\"\",\"content\":\"二手车\",\"img\":\"\",\"type\":\"1\",...</td>\n",
       "      <td>3825299</td>\n",
       "      <td>【中文翻译】本田非双和凯旋Scrambler 1200XE的圣诞树之旅</td>\n",
       "      <td>[{\"content\":\"接我上一条动态，冬天打不着火的情况解决了，主要是因为氧传感器雾化不...</td>\n",
       "      <td>0.692793</td>\n",
       "    </tr>\n",
       "  </tbody>\n",
       "</table>\n",
       "<p>67163 rows × 7 columns</p>\n",
       "</div>"
      ],
      "text/plain": [
       "       essay_1                             essay1_title  \\\n",
       "33339  1838577                       2020款 赛科龙 RT3 静态展示   \n",
       "33340  1838577                       2020款 赛科龙 RT3 静态展示   \n",
       "33341  1838577                       2020款 赛科龙 RT3 静态展示   \n",
       "33342  1838577                       2020款 赛科龙 RT3 静态展示   \n",
       "33343  1838577                       2020款 赛科龙 RT3 静态展示   \n",
       "...        ...                                      ...   \n",
       "65748  3828145  骑车的快乐就是在路上看什么都好玩，一路有桥有塔，有狗有马，还有警察叔叔和小巡鹰   \n",
       "65749  3828145  骑车的快乐就是在路上看什么都好玩，一路有桥有塔，有狗有马，还有警察叔叔和小巡鹰   \n",
       "65750  3828145  骑车的快乐就是在路上看什么都好玩，一路有桥有塔，有狗有马，还有警察叔叔和小巡鹰   \n",
       "65751  3828145  骑车的快乐就是在路上看什么都好玩，一路有桥有塔，有狗有马，还有警察叔叔和小巡鹰   \n",
       "65752  3828145  骑车的快乐就是在路上看什么都好玩，一路有桥有塔，有狗有马，还有警察叔叔和小巡鹰   \n",
       "\n",
       "                                          essay1_content  essay_2  \\\n",
       "33339  [{\"type\":\"2\",\"content\":\"\",\"img\":\"http://images...  2395884   \n",
       "33340  [{\"type\":\"2\",\"content\":\"\",\"img\":\"http://images...  2691492   \n",
       "33341  [{\"type\":\"2\",\"content\":\"\",\"img\":\"http://images...  2391724   \n",
       "33342  [{\"type\":\"2\",\"content\":\"\",\"img\":\"http://images...  3368521   \n",
       "33343  [{\"type\":\"2\",\"content\":\"\",\"img\":\"http://images...  2289768   \n",
       "...                                                  ...      ...   \n",
       "65748  [{\"id\":\"\",\"content\":\"二手车\",\"img\":\"\",\"type\":\"1\",...  3826285   \n",
       "65749  [{\"id\":\"\",\"content\":\"二手车\",\"img\":\"\",\"type\":\"1\",...  3823207   \n",
       "65750  [{\"id\":\"\",\"content\":\"二手车\",\"img\":\"\",\"type\":\"1\",...  3822929   \n",
       "65751  [{\"id\":\"\",\"content\":\"二手车\",\"img\":\"\",\"type\":\"1\",...  3825233   \n",
       "65752  [{\"id\":\"\",\"content\":\"二手车\",\"img\":\"\",\"type\":\"1\",...  3825299   \n",
       "\n",
       "                                  essay2_title  \\\n",
       "33339      宗申阿普利亚运动踏板sr max250摩托车 车主刚提车 说熄火已解决   \n",
       "33340                          2020款赛科龙RT3车友试驾   \n",
       "33341             2万多颜值小钢炮 龙嘉VMAXie300测评 | 照摩镜   \n",
       "33342              无痕测车第一期：钱江贝纳利银刃250测评，两万公里长测   \n",
       "33343  车主分享 2020款宗申赛科龙rt3踏板 百公里油耗3升 17升大油箱老巢摩托   \n",
       "...                                        ...   \n",
       "65748                               【四川无极】阆中年会   \n",
       "65749               【 機車旅行 】360全景相機拍vlog的几个机位？   \n",
       "65750                       开箱-SHOEI X 14 阿部典史   \n",
       "65751           摩托车冷车启动必须要拉风门才能打火该怎么办？师傅教你轻松解决   \n",
       "65752      【中文翻译】本田非双和凯旋Scrambler 1200XE的圣诞树之旅   \n",
       "\n",
       "                                          essay2_content       sim  \n",
       "33339  [{\"content\":\"致敬骑士👊🏻\",\"type\":\"1\"},{\"duration\":\"...  0.930206  \n",
       "33340  [{\"type\":\"1\",\"content\":\"好热啊\"},{\"duration\":\"10\"...  0.927442  \n",
       "33341           [{\"content\":\"报道，虽然还没买车，哈哈😄\",\"type\":\"1\"}]  0.923662  \n",
       "33342                      [{\"content\":\"打卡\",\"type\":\"1\"}]  0.921939  \n",
       "33343  [{\"isEmptyForward\":false,\"content\":\"宁波地区求购一辆狒狒...  0.921918  \n",
       "...                                                  ...       ...  \n",
       "65748  [{\"content\":\"华鹰怠速嗡嗡嗡震耳朵怀孕那种😁\",\"type\":\"1\"},{\"du...  0.736543  \n",
       "65749  [{\"id\":\"\",\"content\":\"二手车\",\"img\":\"\",\"type\":\"1\",...  0.726449  \n",
       "65750  [{\"isEmptyForward\":false,\"content\":\"听说150g1蛮火的...  0.725172  \n",
       "65751  [{\"content\":\"Morning Monday📆\",\"type\":\"1\"},{\"im...  0.724830  \n",
       "65752  [{\"content\":\"接我上一条动态，冬天打不着火的情况解决了，主要是因为氧传感器雾化不...  0.692793  \n",
       "\n",
       "[67163 rows x 7 columns]"
      ]
     },
     "execution_count": 78,
     "metadata": {},
     "output_type": "execute_result"
    }
   ],
   "source": [
    "L=[]\n",
    "for e1,x in essay_sim_degree.items():\n",
    "    for e2 in x.keys():\n",
    "        if e1 in title_dict.keys() and e2 in title_dict.keys():\n",
    "            L.append((e1,title_dict[e1]['title'],title_dict[e1]['content'],e2,title_dict[e2]['title'],title_dict[e2]['content'],x[e2]))\n",
    "output = pd.DataFrame(L,columns=['essay_1','essay1_title','essay1_content','essay_2','essay2_title','essay2_content','sim'])\n",
    "output.sort_values(by=['essay_1','sim'],ascending=[True,False],inplace=True)\n",
    "output"
   ]
  },
  {
   "cell_type": "code",
   "execution_count": 79,
   "metadata": {},
   "outputs": [],
   "source": [
    "output.to_csv(r'F:\\work\\12.3 文章关键词\\video_word2vec_100_neg40_1e-4.csv',index=False,encoding='utf-8_sig')"
   ]
  },
  {
   "cell_type": "code",
   "execution_count": 24,
   "metadata": {},
   "outputs": [],
   "source": [
    "tmp=pd.read_csv(r'C:\\Users\\JDD\\Documents\\WXWork\\1688852691841887\\Cache\\File\\2020-12\\part-2.csv')\n",
    "tmp['name_a']=tmp['essayid_a'].apply(lambda x:title_dict[str(x)]['title'] if str(x) in title_dict.keys() else np.nan)\n",
    "tmp['name_b']=tmp['essayid_b'].apply(lambda x:title_dict[str(x)]['title'] if str(x) in title_dict.keys() else np.nan)\n",
    "tmp['content_a']=tmp['essayid_a'].apply(lambda x:title_dict[str(x)]['content'] if str(x) in title_dict.keys() else np.nan)\n",
    "tmp['content_b']=tmp['essayid_b'].apply(lambda x:title_dict[str(x)]['content'] if str(x) in title_dict.keys() else np.nan)\n",
    "tmp.drop(tmp[tmp.score == 0].index,inplace=True)\n",
    "tmp.sort_values(by=['essayid_a','score'],ascending=[True,True],inplace=True)\n",
    "#tmp[['essayid_a','name_a','content_a','essayid_b','name_b','content_b','score']][:5000].to_csv(r'F:\\work\\12.3 文章关键词\\keywords_sim.csv',index=False)"
   ]
  },
  {
   "cell_type": "code",
   "execution_count": 27,
   "metadata": {},
   "outputs": [],
   "source": [
    "tmp[['essayid_a','name_a','content_a','essayid_b','name_b','content_b','score']][:5000].to_csv(r'F:\\work\\12.3 文章关键词\\keywords_sim.csv',index=False)"
   ]
  },
  {
   "cell_type": "code",
   "execution_count": 70,
   "metadata": {},
   "outputs": [],
   "source": [
    "#icf\n",
    "train={}\n",
    "tmp=pd.read_csv(r'C:\\Users\\JDD\\Downloads\\query-hive-497675.csv')\n",
    "for i in tmp.index:\n",
    "    deviceid=tmp['deviceid'][i]\n",
    "    train.setdefault(deviceid,{})\n",
    "    j=tmp['list'][i]\n",
    "    k=j.strip().split(',')\n",
    "    for item in k:\n",
    "        train[deviceid][item]=1"
   ]
  },
  {
   "cell_type": "code",
   "execution_count": 71,
   "metadata": {},
   "outputs": [],
   "source": [
    "C=dict()  # item-iten的共现矩阵\n",
    "N=dict()  # item被多少个不同用户点击\n",
    "for user,items in train.items():\n",
    "    for i in items.keys():\n",
    "        N.setdefault(i,0)\n",
    "        N[i]+=1\n",
    "        C.setdefault(i,{})\n",
    "        for j in items.keys():\n",
    "            if i==j: continue\n",
    "            C[i].setdefault(j,0)\n",
    "            C[i][j]+=1"
   ]
  },
  {
   "cell_type": "code",
   "execution_count": 72,
   "metadata": {},
   "outputs": [],
   "source": [
    "similarity=dict()  # 相似度矩阵\n",
    "for i,related_items in C.items():\n",
    "    similarity.setdefault(i,{})\n",
    "    for j,cij in related_items.items():\n",
    "        if cij>=40:\n",
    "            similarity[i][j]=cij/(math.sqrt(N[i]*N[j]))\n",
    "output=[]\n",
    "for e1,x in similarity.items():\n",
    "    x_sorted=sorted(x.items(), key=lambda x:x[1], reverse=True)[:50]\n",
    "    for y in x_sorted:\n",
    "        e2=y[0]\n",
    "        if e1 in title_dict.keys() and e2 in title_dict.keys():\n",
    "            output.append((e1,title_dict[e1],e2,title_dict[e2],x[e2]))\n",
    "columns=['essay_1','name_1','essay_2','name_2','sim']\n",
    "pd.DataFrame(output,columns=columns).to_csv(r'F:\\work\\5.18 word2vec训练文章id\\11.17视频icf.csv',index=False)"
   ]
  },
  {
   "cell_type": "code",
   "execution_count": 73,
   "metadata": {},
   "outputs": [
    {
     "data": {
      "text/plain": [
       "12673"
      ]
     },
     "execution_count": 73,
     "metadata": {},
     "output_type": "execute_result"
    }
   ],
   "source": [
    "len(similarity)"
   ]
  },
  {
   "cell_type": "code",
   "execution_count": null,
   "metadata": {},
   "outputs": [],
   "source": []
  }
 ],
 "metadata": {
  "kernelspec": {
   "display_name": "Python 3",
   "language": "python",
   "name": "python3"
  },
  "language_info": {
   "codemirror_mode": {
    "name": "ipython",
    "version": 3
   },
   "file_extension": ".py",
   "mimetype": "text/x-python",
   "name": "python",
   "nbconvert_exporter": "python",
   "pygments_lexer": "ipython3",
   "version": "3.7.4"
  }
 },
 "nbformat": 4,
 "nbformat_minor": 2
}
