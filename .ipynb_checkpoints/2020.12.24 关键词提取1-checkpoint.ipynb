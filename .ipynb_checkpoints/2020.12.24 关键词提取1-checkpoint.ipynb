{
 "cells": [
  {
   "cell_type": "code",
   "execution_count": 1,
   "metadata": {},
   "outputs": [],
   "source": [
    "import numpy as np\n",
    "import pandas as pd\n",
    "import jieba\n",
    "import json\n",
    "import jieba.analyse\n",
    "from tqdm import tqdm"
   ]
  },
  {
   "cell_type": "code",
   "execution_count": 2,
   "metadata": {},
   "outputs": [],
   "source": [
    "data = pd.read_csv('./近30日文章内容.csv')"
   ]
  },
  {
   "cell_type": "markdown",
   "metadata": {},
   "source": [
    "### 1 提取Title+内容"
   ]
  },
  {
   "cell_type": "code",
   "execution_count": 5,
   "metadata": {},
   "outputs": [
    {
     "data": {
      "text/plain": [
       "'下一个视频应该就是飙车剪辑了'"
      ]
     },
     "execution_count": 5,
     "metadata": {},
     "output_type": "execute_result"
    }
   ],
   "source": [
    "#单个样本测试\n",
    "#json.loads(data.c_content[0])[0].get('content')"
   ]
  },
  {
   "cell_type": "code",
   "execution_count": 3,
   "metadata": {},
   "outputs": [],
   "source": [
    "#提取文章内容\n",
    "def extractContent(data):\n",
    "    if str(data)=='nan':\n",
    "        text = json.loads(json.dumps([{\"content\":None}]))\n",
    "    else:\n",
    "        text = json.loads(data)\n",
    "    content=''\n",
    "    for i in text:\n",
    "        sentence = i.get('content')\n",
    "        if sentence:\n",
    "            content += sentence\n",
    "    return content"
   ]
  },
  {
   "cell_type": "code",
   "execution_count": 4,
   "metadata": {},
   "outputs": [
    {
     "name": "stderr",
     "output_type": "stream",
     "text": [
      "C:\\Users\\JDD\\Anaconda3\\lib\\site-packages\\tqdm\\std.py:697: FutureWarning: The Panel class is removed from pandas. Accessing it from the top-level namespace will also be removed in the next version\n",
      "  from pandas import Panel\n",
      "my bar!: 100%|████████████████████████████████████████████████████████████████| 65105/65105 [00:01<00:00, 35566.26it/s]\n"
     ]
    }
   ],
   "source": [
    "tqdm.pandas(desc=\"my bar!\")\n",
    "data['content'] = data.c_content.progress_apply(lambda x: extractContent(x))"
   ]
  },
  {
   "cell_type": "code",
   "execution_count": 5,
   "metadata": {},
   "outputs": [],
   "source": [
    "data.drop(columns=['c_content'],inplace=True)"
   ]
  },
  {
   "cell_type": "code",
   "execution_count": 6,
   "metadata": {},
   "outputs": [],
   "source": [
    "#title * 2\n",
    "data['content'] = data['c_title']*2+data['content']"
   ]
  },
  {
   "cell_type": "code",
   "execution_count": 10,
   "metadata": {},
   "outputs": [],
   "source": [
    "#保存数据\n",
    "#data.to_csv('./articles_recent30days.csv',encoding='utf-8_sig')"
   ]
  },
  {
   "cell_type": "markdown",
   "metadata": {},
   "source": [
    "### 2 数据预处理"
   ]
  },
  {
   "cell_type": "code",
   "execution_count": 1,
   "metadata": {},
   "outputs": [],
   "source": [
    "import numpy as np\n",
    "import pandas as pd\n",
    "import jieba\n",
    "import json\n",
    "import jieba.analyse\n",
    "from collections import Counter\n",
    "import math"
   ]
  },
  {
   "cell_type": "code",
   "execution_count": 2,
   "metadata": {},
   "outputs": [],
   "source": [
    "#data = pd.read_csv('./key_words.csv')"
   ]
  },
  {
   "cell_type": "code",
   "execution_count": 9,
   "metadata": {},
   "outputs": [
    {
     "data": {
      "text/html": [
       "<div>\n",
       "<style scoped>\n",
       "    .dataframe tbody tr th:only-of-type {\n",
       "        vertical-align: middle;\n",
       "    }\n",
       "\n",
       "    .dataframe tbody tr th {\n",
       "        vertical-align: top;\n",
       "    }\n",
       "\n",
       "    .dataframe thead th {\n",
       "        text-align: right;\n",
       "    }\n",
       "</style>\n",
       "<table border=\"1\" class=\"dataframe\">\n",
       "  <thead>\n",
       "    <tr style=\"text-align: right;\">\n",
       "      <th></th>\n",
       "      <th>itemid</th>\n",
       "      <th>c_title</th>\n",
       "      <th>content</th>\n",
       "    </tr>\n",
       "  </thead>\n",
       "  <tbody>\n",
       "    <tr>\n",
       "      <th>0</th>\n",
       "      <td>2130495</td>\n",
       "      <td>小忍者日本佛系跑山第二弹！夜跑神户市章山！【Moto vlog】</td>\n",
       "      <td>小忍者日本佛系跑山第二弹！夜跑神户市章山！【Moto vlog】小忍者日本佛系跑山第二弹！夜...</td>\n",
       "    </tr>\n",
       "    <tr>\n",
       "      <th>1</th>\n",
       "      <td>3609545</td>\n",
       "      <td>阳光明媚的一天</td>\n",
       "      <td>阳光明媚的一天阳光明媚的一天</td>\n",
       "    </tr>\n",
       "    <tr>\n",
       "      <th>2</th>\n",
       "      <td>1636262</td>\n",
       "      <td>卖400万的摩托会飞？没错！它就是一台飞行摩托车，空陆两用</td>\n",
       "      <td>卖400万的摩托会飞？没错！它就是一台飞行摩托车，空陆两用卖400万的摩托会飞？没错！它就是...</td>\n",
       "    </tr>\n",
       "    <tr>\n",
       "      <th>3</th>\n",
       "      <td>3594525</td>\n",
       "      <td>警钟长鸣     又一江西少年 过弯死亡！</td>\n",
       "      <td>警钟长鸣     又一江西少年 过弯死亡！警钟长鸣     又一江西少年 过弯死亡！关键词 ...</td>\n",
       "    </tr>\n",
       "    <tr>\n",
       "      <th>4</th>\n",
       "      <td>869674</td>\n",
       "      <td>铃木SFV650改装箭牌排气，声浪听着怎么样？有没有想驾驭它的冲动</td>\n",
       "      <td>铃木SFV650改装箭牌排气，声浪听着怎么样？有没有想驾驭它的冲动铃木SFV650改装箭牌排...</td>\n",
       "    </tr>\n",
       "    <tr>\n",
       "      <th>...</th>\n",
       "      <td>...</td>\n",
       "      <td>...</td>\n",
       "      <td>...</td>\n",
       "    </tr>\n",
       "    <tr>\n",
       "      <th>65100</th>\n",
       "      <td>2783852</td>\n",
       "      <td>没事洗洗...</td>\n",
       "      <td>没事洗洗...没事洗洗...</td>\n",
       "    </tr>\n",
       "    <tr>\n",
       "      <th>65101</th>\n",
       "      <td>2665627</td>\n",
       "      <td>焕新本色，多样生活！金城新款提拉米苏解析</td>\n",
       "      <td>焕新本色，多样生活！金城新款提拉米苏解析焕新本色，多样生活！金城新款提拉米苏解析金城的提拉米...</td>\n",
       "    </tr>\n",
       "    <tr>\n",
       "      <th>65102</th>\n",
       "      <td>3694511</td>\n",
       "      <td>【4K】川崎机械增压街车Z H2 山路骑行第一视角</td>\n",
       "      <td>【4K】川崎机械增压街车Z H2 山路骑行第一视角【4K】川崎机械增压街车Z H2 山路骑行...</td>\n",
       "    </tr>\n",
       "    <tr>\n",
       "      <th>65103</th>\n",
       "      <td>2824784</td>\n",
       "      <td>慢慢骑~骑到老~骑在邯郸</td>\n",
       "      <td>慢慢骑~骑到老~骑在邯郸慢慢骑~骑到老~骑在邯郸感谢金球国际影院提供的免费场次！邯郸C1D大...</td>\n",
       "    </tr>\n",
       "    <tr>\n",
       "      <th>65104</th>\n",
       "      <td>3539940</td>\n",
       "      <td>LONCIN LX300GY隆鑫300gy外销版实车展示</td>\n",
       "      <td>LONCIN LX300GY隆鑫300gy外销版实车展示LONCIN LX300GY隆鑫30...</td>\n",
       "    </tr>\n",
       "  </tbody>\n",
       "</table>\n",
       "<p>65105 rows × 3 columns</p>\n",
       "</div>"
      ],
      "text/plain": [
       "        itemid                            c_title  \\\n",
       "0      2130495   小忍者日本佛系跑山第二弹！夜跑神户市章山！【Moto vlog】   \n",
       "1      3609545                            阳光明媚的一天   \n",
       "2      1636262      卖400万的摩托会飞？没错！它就是一台飞行摩托车，空陆两用   \n",
       "3      3594525              警钟长鸣     又一江西少年 过弯死亡！   \n",
       "4       869674  铃木SFV650改装箭牌排气，声浪听着怎么样？有没有想驾驭它的冲动   \n",
       "...        ...                                ...   \n",
       "65100  2783852                            没事洗洗...   \n",
       "65101  2665627               焕新本色，多样生活！金城新款提拉米苏解析   \n",
       "65102  3694511          【4K】川崎机械增压街车Z H2 山路骑行第一视角   \n",
       "65103  2824784                       慢慢骑~骑到老~骑在邯郸   \n",
       "65104  3539940       LONCIN LX300GY隆鑫300gy外销版实车展示   \n",
       "\n",
       "                                                 content  \n",
       "0      小忍者日本佛系跑山第二弹！夜跑神户市章山！【Moto vlog】小忍者日本佛系跑山第二弹！夜...  \n",
       "1                                         阳光明媚的一天阳光明媚的一天  \n",
       "2      卖400万的摩托会飞？没错！它就是一台飞行摩托车，空陆两用卖400万的摩托会飞？没错！它就是...  \n",
       "3      警钟长鸣     又一江西少年 过弯死亡！警钟长鸣     又一江西少年 过弯死亡！关键词 ...  \n",
       "4      铃木SFV650改装箭牌排气，声浪听着怎么样？有没有想驾驭它的冲动铃木SFV650改装箭牌排...  \n",
       "...                                                  ...  \n",
       "65100                                     没事洗洗...没事洗洗...  \n",
       "65101  焕新本色，多样生活！金城新款提拉米苏解析焕新本色，多样生活！金城新款提拉米苏解析金城的提拉米...  \n",
       "65102  【4K】川崎机械增压街车Z H2 山路骑行第一视角【4K】川崎机械增压街车Z H2 山路骑行...  \n",
       "65103  慢慢骑~骑到老~骑在邯郸慢慢骑~骑到老~骑在邯郸感谢金球国际影院提供的免费场次！邯郸C1D大...  \n",
       "65104  LONCIN LX300GY隆鑫300gy外销版实车展示LONCIN LX300GY隆鑫30...  \n",
       "\n",
       "[65105 rows x 3 columns]"
      ]
     },
     "execution_count": 9,
     "metadata": {},
     "output_type": "execute_result"
    }
   ],
   "source": [
    "data"
   ]
  },
  {
   "cell_type": "code",
   "execution_count": 3,
   "metadata": {},
   "outputs": [],
   "source": [
    "#data = data.loc[data.content.notnull(),:]\n",
    "#data = data.reset_index(drop=True)"
   ]
  },
  {
   "cell_type": "code",
   "execution_count": 11,
   "metadata": {},
   "outputs": [],
   "source": [
    "#设置停用词\n",
    "jieba.analyse.set_stop_words('./stopwords.txt')"
   ]
  },
  {
   "cell_type": "code",
   "execution_count": 12,
   "metadata": {},
   "outputs": [
    {
     "name": "stderr",
     "output_type": "stream",
     "text": [
      "Building prefix dict from the default dictionary ...\n",
      "Loading model from cache C:\\Users\\JDD\\AppData\\Local\\Temp\\jieba.cache\n",
      "Loading model cost 0.677 seconds.\n",
      "Prefix dict has been built succesfully.\n"
     ]
    }
   ],
   "source": [
    "#设置userdict\n",
    "jieba.load_userdict('./user_dict.txt')"
   ]
  },
  {
   "cell_type": "code",
   "execution_count": 13,
   "metadata": {},
   "outputs": [],
   "source": [
    "#设置idf path\n",
    "jieba.analyse.set_idf_path('./idf.txt')"
   ]
  },
  {
   "cell_type": "code",
   "execution_count": 14,
   "metadata": {},
   "outputs": [],
   "source": [
    "#设置stop_words\n",
    "stop_words = set((\n",
    "        \"the\", \"of\", \"is\", \"and\", \"to\", \"in\", \"that\", \"we\", \"for\", \"an\", \"are\",\n",
    "        \"by\", \"be\", \"as\", \"on\", \"with\", \"can\", \"if\", \"from\", \"which\", \"you\", \"it\",\n",
    "        \"this\", \"then\", \"at\", \"have\", \"all\", \"not\", \"one\", \"has\", \"or\", \"that\"\n",
    "    ))\n",
    "stop_content = open('./stopwords.txt', 'rb').read().decode('utf-8')\n",
    "for line in stop_content.splitlines():\n",
    "    stop_words.add(line)"
   ]
  },
  {
   "cell_type": "code",
   "execution_count": 15,
   "metadata": {},
   "outputs": [],
   "source": [
    "#提取最终关键词\n",
    "def extract_tokens(data):\n",
    "    tfidf_keywords = tf_idf_(data)\n",
    "    textrank_keywords = textrank_(data)\n",
    "    tfidf_dict = {}\n",
    "    textrank_dict = {}\n",
    "    for i in range(len(tfidf_keywords)):\n",
    "        tfidf_dict[tfidf_keywords[i][0]] = tfidf_keywords[i][1]\n",
    "    for i in range(len(textrank_keywords)):\n",
    "        textrank_dict[textrank_keywords[i][0]] = textrank_keywords[i][1]\n",
    "    key_words=tfidf_dict.keys()&textrank_dict.keys()\n",
    "    keywords_dict ={}\n",
    "    for word in key_words:\n",
    "        keywords_dict[word] = tfidf_dict[word]*textrank_dict[word]\n",
    "    tokens = sorted(keywords_dict.keys(),key=lambda x: x[1], reverse=True)\n",
    "    return tokens\n",
    "\n",
    "#提取带权重的关键词\n",
    "def extract_keywords_weight(data):\n",
    "    tfidf_keywords = tf_idf_(data)\n",
    "    textrank_keywords = textrank_(data)\n",
    "    tfidf_dict = {}\n",
    "    textrank_dict = {}\n",
    "    for i in range(len(tfidf_keywords)):\n",
    "        tfidf_dict[tfidf_keywords[i][0]] = tfidf_keywords[i][1]\n",
    "    for i in range(len(textrank_keywords)):\n",
    "        textrank_dict[textrank_keywords[i][0]] = textrank_keywords[i][1]\n",
    "    key_words=tfidf_dict.keys()&textrank_dict.keys()\n",
    "    keywords_dict ={}\n",
    "    for word in key_words:\n",
    "        keywords_dict[word] = tfidf_dict[word]*textrank_dict[word]\n",
    "    keywords_weight = sorted(keywords_dict.items(),key=lambda x: x[1], reverse=True)\n",
    "    \n",
    "    return keywords_weight\n",
    "\n",
    "#提取tf-idf关键词\n",
    "def tf_idf_(data):\n",
    "    return jieba.analyse.extract_tags(data,topK=20,withWeight=True)\n",
    "\n",
    "#提取textrank关键词\n",
    "def textrank_(data):\n",
    "    return jieba.analyse.textrank(data,topK=20,withWeight=True)"
   ]
  },
  {
   "cell_type": "code",
   "execution_count": null,
   "metadata": {},
   "outputs": [
    {
     "name": "stderr",
     "output_type": "stream",
     "text": [
      "my bar!:  94%|██████████████████████████████████████████████████████████████▎   | 61411/65105 [02:45<00:10, 341.56it/s]"
     ]
    }
   ],
   "source": [
    "%%time\n",
    "data['tfidf权重'] = data.content.progress_apply(lambda x: tf_idf_(x))"
   ]
  },
  {
   "cell_type": "code",
   "execution_count": 28,
   "metadata": {},
   "outputs": [
    {
     "name": "stdout",
     "output_type": "stream",
     "text": [
      "Wall time: 26min 32s\n"
     ]
    }
   ],
   "source": [
    "%%time\n",
    "data['textrank权重'] = data.content.progress_apply(lambda x: textrank_(x))"
   ]
  },
  {
   "cell_type": "code",
   "execution_count": 29,
   "metadata": {},
   "outputs": [
    {
     "name": "stdout",
     "output_type": "stream",
     "text": [
      "Wall time: 25min 56s\n"
     ]
    }
   ],
   "source": [
    "%%time\n",
    "data['tokens'] = data.content.progress_apply(lambda x: extract_tokens(x))"
   ]
  },
  {
   "cell_type": "code",
   "execution_count": 30,
   "metadata": {},
   "outputs": [
    {
     "name": "stdout",
     "output_type": "stream",
     "text": [
      "Wall time: 26min 13s\n"
     ]
    }
   ],
   "source": [
    "%%time\n",
    "data['最终关键词权重']=data.content.progress_apply(lambda x: extract_keywords_weight(x))"
   ]
  },
  {
   "cell_type": "code",
   "execution_count": 31,
   "metadata": {},
   "outputs": [
    {
     "data": {
      "text/html": [
       "<div>\n",
       "<style scoped>\n",
       "    .dataframe tbody tr th:only-of-type {\n",
       "        vertical-align: middle;\n",
       "    }\n",
       "\n",
       "    .dataframe tbody tr th {\n",
       "        vertical-align: top;\n",
       "    }\n",
       "\n",
       "    .dataframe thead th {\n",
       "        text-align: right;\n",
       "    }\n",
       "</style>\n",
       "<table border=\"1\" class=\"dataframe\">\n",
       "  <thead>\n",
       "    <tr style=\"text-align: right;\">\n",
       "      <th></th>\n",
       "      <th>Unnamed: 0</th>\n",
       "      <th>itemid</th>\n",
       "      <th>c_title</th>\n",
       "      <th>content</th>\n",
       "      <th>tokens</th>\n",
       "      <th>tfidf权重</th>\n",
       "      <th>textrank权重</th>\n",
       "      <th>最终关键词权重</th>\n",
       "    </tr>\n",
       "  </thead>\n",
       "  <tbody>\n",
       "    <tr>\n",
       "      <th>0</th>\n",
       "      <td>0</td>\n",
       "      <td>2130495</td>\n",
       "      <td>小忍者日本佛系跑山第二弹！夜跑神户市章山！【Moto vlog】</td>\n",
       "      <td>小忍者日本佛系跑山第二弹！夜跑神户市章山！【Moto vlog】小忍者日本佛系跑山第二弹！夜...</td>\n",
       "      <td>[视频, 剪辑, 飙车, 佛系, 日本]</td>\n",
       "      <td>[(夜跑, 0.8678290392654254), (vlog, 0.6962554812...</td>\n",
       "      <td>[(飙车, 1.0), (日本, 0.9997540318932343), (视频, 0.9...</td>\n",
       "      <td>[(佛系, 0.6911610009081428), (剪辑, 0.350146702081...</td>\n",
       "    </tr>\n",
       "    <tr>\n",
       "      <th>1</th>\n",
       "      <td>1</td>\n",
       "      <td>3609545</td>\n",
       "      <td>阳光明媚的一天</td>\n",
       "      <td>阳光明媚的一天阳光明媚的一天</td>\n",
       "      <td>[]</td>\n",
       "      <td>[(阳光明媚, 6.205054621719346)]</td>\n",
       "      <td>[]</td>\n",
       "      <td>[]</td>\n",
       "    </tr>\n",
       "    <tr>\n",
       "      <th>2</th>\n",
       "      <td>2</td>\n",
       "      <td>1636262</td>\n",
       "      <td>卖400万的摩托会飞？没错！它就是一台飞行摩托车，空陆两用</td>\n",
       "      <td>卖400万的摩托会飞？没错！它就是一台飞行摩托车，空陆两用卖400万的摩托会飞？没错！它就是...</td>\n",
       "      <td>[驾驶员, 体重, 道路, 飞行, 品牌, 喷气, 人民币, 引擎, 模式, 车型]</td>\n",
       "      <td>[(飞行, 0.4588183382184316), (喷气, 0.120959974280...</td>\n",
       "      <td>[(飞行, 1.0), (车型, 0.5646018610501963), (品牌, 0.4...</td>\n",
       "      <td>[(飞行, 0.4588183382184316), (车型, 0.037810096363...</td>\n",
       "    </tr>\n",
       "    <tr>\n",
       "      <th>3</th>\n",
       "      <td>3</td>\n",
       "      <td>3594525</td>\n",
       "      <td>警钟长鸣     又一江西少年 过弯死亡！</td>\n",
       "      <td>警钟长鸣     又一江西少年 过弯死亡！警钟长鸣     又一江西少年 过弯死亡！关键词 ...</td>\n",
       "      <td>[驾驶, 关键词, 限速, 超速, 后车, 机车, 江西, 指示牌, 游玩, 路段, 过弯,...</td>\n",
       "      <td>[(超速, 0.2339563168612277), (死亡, 0.222465450483...</td>\n",
       "      <td>[(驾驶, 1.0), (机车, 0.8409865271792483), (事发, 0.5...</td>\n",
       "      <td>[(驾驶, 0.12605706336773156), (事发, 0.10480506648...</td>\n",
       "    </tr>\n",
       "    <tr>\n",
       "      <th>4</th>\n",
       "      <td>4</td>\n",
       "      <td>869674</td>\n",
       "      <td>铃木SFV650改装箭牌排气，声浪听着怎么样？有没有想驾驭它的冲动</td>\n",
       "      <td>铃木SFV650改装箭牌排气，声浪听着怎么样？有没有想驾驭它的冲动铃木SFV650改装箭牌排...</td>\n",
       "      <td>[驾驭, 视频, 改装, 转自, 声浪, 有没有, 排气, 头条, 冲动]</td>\n",
       "      <td>[(SFV650, 0.7138918694533889), (冲动, 0.53835865...</td>\n",
       "      <td>[(冲动, 1.0), (改装, 0.8417816757587867), (驾驭, 0.7...</td>\n",
       "      <td>[(冲动, 0.5383586548967971), (驾驭, 0.279933085379...</td>\n",
       "    </tr>\n",
       "  </tbody>\n",
       "</table>\n",
       "</div>"
      ],
      "text/plain": [
       "   Unnamed: 0   itemid                            c_title  \\\n",
       "0           0  2130495   小忍者日本佛系跑山第二弹！夜跑神户市章山！【Moto vlog】   \n",
       "1           1  3609545                            阳光明媚的一天   \n",
       "2           2  1636262      卖400万的摩托会飞？没错！它就是一台飞行摩托车，空陆两用   \n",
       "3           3  3594525              警钟长鸣     又一江西少年 过弯死亡！   \n",
       "4           4   869674  铃木SFV650改装箭牌排气，声浪听着怎么样？有没有想驾驭它的冲动   \n",
       "\n",
       "                                             content  \\\n",
       "0  小忍者日本佛系跑山第二弹！夜跑神户市章山！【Moto vlog】小忍者日本佛系跑山第二弹！夜...   \n",
       "1                                     阳光明媚的一天阳光明媚的一天   \n",
       "2  卖400万的摩托会飞？没错！它就是一台飞行摩托车，空陆两用卖400万的摩托会飞？没错！它就是...   \n",
       "3  警钟长鸣     又一江西少年 过弯死亡！警钟长鸣     又一江西少年 过弯死亡！关键词 ...   \n",
       "4  铃木SFV650改装箭牌排气，声浪听着怎么样？有没有想驾驭它的冲动铃木SFV650改装箭牌排...   \n",
       "\n",
       "                                              tokens  \\\n",
       "0                               [视频, 剪辑, 飙车, 佛系, 日本]   \n",
       "1                                                 []   \n",
       "2         [驾驶员, 体重, 道路, 飞行, 品牌, 喷气, 人民币, 引擎, 模式, 车型]   \n",
       "3  [驾驶, 关键词, 限速, 超速, 后车, 机车, 江西, 指示牌, 游玩, 路段, 过弯,...   \n",
       "4              [驾驭, 视频, 改装, 转自, 声浪, 有没有, 排气, 头条, 冲动]   \n",
       "\n",
       "                                             tfidf权重  \\\n",
       "0  [(夜跑, 0.8678290392654254), (vlog, 0.6962554812...   \n",
       "1                        [(阳光明媚, 6.205054621719346)]   \n",
       "2  [(飞行, 0.4588183382184316), (喷气, 0.120959974280...   \n",
       "3  [(超速, 0.2339563168612277), (死亡, 0.222465450483...   \n",
       "4  [(SFV650, 0.7138918694533889), (冲动, 0.53835865...   \n",
       "\n",
       "                                          textrank权重  \\\n",
       "0  [(飙车, 1.0), (日本, 0.9997540318932343), (视频, 0.9...   \n",
       "1                                                 []   \n",
       "2  [(飞行, 1.0), (车型, 0.5646018610501963), (品牌, 0.4...   \n",
       "3  [(驾驶, 1.0), (机车, 0.8409865271792483), (事发, 0.5...   \n",
       "4  [(冲动, 1.0), (改装, 0.8417816757587867), (驾驭, 0.7...   \n",
       "\n",
       "                                             最终关键词权重  \n",
       "0  [(佛系, 0.6911610009081428), (剪辑, 0.350146702081...  \n",
       "1                                                 []  \n",
       "2  [(飞行, 0.4588183382184316), (车型, 0.037810096363...  \n",
       "3  [(驾驶, 0.12605706336773156), (事发, 0.10480506648...  \n",
       "4  [(冲动, 0.5383586548967971), (驾驭, 0.279933085379...  "
      ]
     },
     "execution_count": 31,
     "metadata": {},
     "output_type": "execute_result"
    }
   ],
   "source": [
    "data.head()"
   ]
  },
  {
   "cell_type": "code",
   "execution_count": 32,
   "metadata": {},
   "outputs": [],
   "source": [
    "data.to_csv('./key_words.csv',encoding='utf-8_sig')"
   ]
  },
  {
   "cell_type": "code",
   "execution_count": null,
   "metadata": {},
   "outputs": [],
   "source": []
  },
  {
   "cell_type": "code",
   "execution_count": null,
   "metadata": {},
   "outputs": [],
   "source": []
  },
  {
   "cell_type": "code",
   "execution_count": null,
   "metadata": {},
   "outputs": [],
   "source": []
  },
  {
   "cell_type": "code",
   "execution_count": null,
   "metadata": {},
   "outputs": [],
   "source": []
  },
  {
   "cell_type": "code",
   "execution_count": null,
   "metadata": {},
   "outputs": [],
   "source": []
  },
  {
   "cell_type": "code",
   "execution_count": null,
   "metadata": {},
   "outputs": [],
   "source": []
  }
 ],
 "metadata": {
  "kernelspec": {
   "display_name": "Python 3",
   "language": "python",
   "name": "python3"
  },
  "language_info": {
   "codemirror_mode": {
    "name": "ipython",
    "version": 3
   },
   "file_extension": ".py",
   "mimetype": "text/x-python",
   "name": "python",
   "nbconvert_exporter": "python",
   "pygments_lexer": "ipython3",
   "version": "3.7.4"
  }
 },
 "nbformat": 4,
 "nbformat_minor": 4
}
