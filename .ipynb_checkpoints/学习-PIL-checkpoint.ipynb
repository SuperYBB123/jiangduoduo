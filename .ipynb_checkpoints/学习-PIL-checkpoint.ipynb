{
 "cells": [
  {
   "cell_type": "code",
   "execution_count": 16,
   "metadata": {},
   "outputs": [],
   "source": [
    "from PIL import Image"
   ]
  },
  {
   "cell_type": "code",
   "execution_count": 17,
   "metadata": {},
   "outputs": [],
   "source": [
    "img=Image.open('bb.jpg')"
   ]
  },
  {
   "cell_type": "code",
   "execution_count": 18,
   "metadata": {},
   "outputs": [
    {
     "name": "stdout",
     "output_type": "stream",
     "text": [
      "RGB (1024, 640)\n"
     ]
    }
   ],
   "source": [
    "img_mode=img.mode\n",
    "img_size=img.size\n",
    "print(img_mode,img_size)"
   ]
  },
  {
   "cell_type": "code",
   "execution_count": 19,
   "metadata": {},
   "outputs": [
    {
     "name": "stdout",
     "output_type": "stream",
     "text": [
      "(22, 95, 174)\n"
     ]
    }
   ],
   "source": [
    "#RGB像素\n",
    "img_get=img.getpixel((0,0))\n",
    "print(img_get)"
   ]
  },
  {
   "cell_type": "code",
   "execution_count": 20,
   "metadata": {},
   "outputs": [],
   "source": [
    "#计算公式：0.299R + 0.587G + 0.114B =  ?\n",
    "#1360 * 768 * 1 * 2 * 3     像素\n",
    "#  行    列   R   G   B"
   ]
  },
  {
   "cell_type": "code",
   "execution_count": 24,
   "metadata": {},
   "outputs": [],
   "source": [
    "new=Image.new('L',img.size,255)\n",
    "width,height=img.size\n",
    "img=img.convert('L')\n",
    "\n",
    "pen_size=3\n",
    "color_diff=6\n",
    "\n",
    "for i in range(pen_size+1,width-pen_size-1):\n",
    "    for j in range(pen_size+1,height-pen_size-1):\n",
    "        originalcolor=255\n",
    "        qcolor=sum([img.getpixel((i,j-r))for r in range(pen_size)])//pen_size\n",
    "        wcolor=sum([img.getpixel((i,j+r))for r in range(pen_size)])//pen_size\n",
    "        if abs(qcolor-wcolor)>color_diff:\n",
    "            originalcolor-=(255-img.getpixel((i,j)))//4\n",
    "            new.putpixel((i,j),originalcolor)\n",
    "        zcolor=sum([img.getpixel((i-r,j-r))for r in range(pen_size)])//pen_size\n",
    "        xcolor=sum([img.getpixel((i+r,j+r))for r in range(pen_size)])//pen_size\n",
    "        if abs(zcolor-xcolor)>color_diff:\n",
    "            originalcolor-=(255-img.getpixel((i,j)))//4\n",
    "            new.putpixel((i,j),originalcolor)\n",
    "        acolor=sum([img.getpixel((i+r,j-r))for r in range(pen_size)])//pen_size\n",
    "        scolor=sum([img.getpixel((i-r,j+r))for r in range(pen_size)])//pen_size\n",
    "        if abs(acolor-scolor)>color_diff:\n",
    "            originalcolor-=(255-img.getpixel((i,j)))//4\n",
    "            new.putpixel((i,j),originalcolor)\n",
    "new.save('c.jpg')\n"
   ]
  },
  {
   "cell_type": "code",
   "execution_count": null,
   "metadata": {},
   "outputs": [],
   "source": []
  }
 ],
 "metadata": {
  "kernelspec": {
   "display_name": "Python 3",
   "language": "python",
   "name": "python3"
  },
  "language_info": {
   "codemirror_mode": {
    "name": "ipython",
    "version": 3
   },
   "file_extension": ".py",
   "mimetype": "text/x-python",
   "name": "python",
   "nbconvert_exporter": "python",
   "pygments_lexer": "ipython3",
   "version": "3.7.4"
  }
 },
 "nbformat": 4,
 "nbformat_minor": 2
}
