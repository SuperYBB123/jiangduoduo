{
 "cells": [
  {
   "cell_type": "code",
   "execution_count": 1,
   "metadata": {},
   "outputs": [],
   "source": [
    "import numpy as np\n",
    "data = np.array([[4.0, 2.0, 0.0, 2.0, 0.0, 2.0],\n",
    "                [3.5, 2.5, 3.0, 3.5, 2.5, 3.0],\n",
    "                [3.0, 0.0, 2.5, 5.0, 3.0, 0.0],\n",
    "                [2.5, 2.5, 0.0, 3.5, 4.0, 0.0],\n",
    "                [2.5, 2.0, 3.5, 0.0, 3.5, 2.0],\n",
    "                [0.0, 3.0, 4.0, 3.0, 3.0, 2.0],\n",
    "                [4.5, 1.5, 3.0, 5.0, 3.5, 0.0]])"
   ]
  },
  {
   "cell_type": "code",
   "execution_count": 2,
   "metadata": {},
   "outputs": [],
   "source": [
    "def simi(i,j,data):\n",
    "    items = data[:, [i, j]]\n",
    "    nn=np.where(items == 0)\n",
    "    items1=np.delete(items, nn[0], axis=0)\n",
    "    if items1.size==0:\n",
    "        return 0\n",
    "    else:\n",
    "        return np.corrcoef(items1.T)[0,1]\n"
   ]
  },
  {
   "cell_type": "code",
   "execution_count": 3,
   "metadata": {},
   "outputs": [
    {
     "data": {
      "text/plain": [
       "array([[1., 1., 1., 1., 1., 1.],\n",
       "       [1., 1., 1., 1., 1., 1.],\n",
       "       [1., 1., 1., 1., 1., 1.],\n",
       "       [1., 1., 1., 1., 1., 1.],\n",
       "       [1., 1., 1., 1., 1., 1.],\n",
       "       [1., 1., 1., 1., 1., 1.]])"
      ]
     },
     "execution_count": 3,
     "metadata": {},
     "output_type": "execute_result"
    }
   ],
   "source": [
    "n1=data.shape[1]#items的数量\n",
    "simjz=np.ones((n1,n1))\n",
    "simjz"
   ]
  },
  {
   "cell_type": "code",
   "execution_count": 4,
   "metadata": {},
   "outputs": [
    {
     "data": {
      "text/plain": [
       "array([[ 1.        , -0.63474545, -0.23904572,  0.        , -0.28827833,\n",
       "         0.18898224],\n",
       "       [-0.63474545,  1.        ,  0.67419986, -0.44501237, -0.34615385,\n",
       "         0.17407766],\n",
       "       [-0.23904572,  0.67419986,  1.        , -0.80311571,  0.15724273,\n",
       "        -0.8660254 ],\n",
       "       [ 0.        , -0.44501237, -0.80311571,  1.        ,  0.11720181,\n",
       "         0.75592895],\n",
       "       [-0.28827833, -0.34615385,  0.15724273,  0.11720181,  1.        ,\n",
       "        -0.8660254 ],\n",
       "       [ 0.18898224,  0.17407766, -0.8660254 ,  0.75592895, -0.8660254 ,\n",
       "         1.        ]])"
      ]
     },
     "execution_count": 4,
     "metadata": {},
     "output_type": "execute_result"
    }
   ],
   "source": [
    "#对所有items进行循环\n",
    "for i in range(0,n1):\n",
    "    for j in range(i+1,n1):\n",
    "        r1=simi(i,j,data)\n",
    "        simjz[i,j]=r1\n",
    "        simjz[j,i]=r1\n",
    "simjz"
   ]
  },
  {
   "cell_type": "code",
   "execution_count": 5,
   "metadata": {},
   "outputs": [
    {
     "data": {
      "text/plain": [
       "array([2.5, 2. , 3.5, 0. , 3.5, 2. ])"
      ]
     },
     "execution_count": 5,
     "metadata": {},
     "output_type": "execute_result"
    }
   ],
   "source": [
    "user=data[4,:]\n",
    "user"
   ]
  },
  {
   "cell_type": "code",
   "execution_count": 6,
   "metadata": {},
   "outputs": [
    {
     "data": {
      "text/plain": [
       "(array([0, 1, 2, 4, 5], dtype=int64),)"
      ]
     },
     "execution_count": 6,
     "metadata": {},
     "output_type": "execute_result"
    }
   ],
   "source": [
    "nn=np.where(user>0)\n",
    "nn"
   ]
  },
  {
   "cell_type": "code",
   "execution_count": 7,
   "metadata": {},
   "outputs": [
    {
     "data": {
      "text/plain": [
       "array([ 0.        , -0.44501237, -0.80311571,  0.11720181,  0.75592895])"
      ]
     },
     "execution_count": 7,
     "metadata": {},
     "output_type": "execute_result"
    }
   ],
   "source": [
    "s1=simjz[3,:][nn[0]]\n",
    "s1"
   ]
  },
  {
   "cell_type": "code",
   "execution_count": 8,
   "metadata": {},
   "outputs": [
    {
     "data": {
      "text/plain": [
       "-0.8385895524944613"
      ]
     },
     "execution_count": 8,
     "metadata": {},
     "output_type": "execute_result"
    }
   ],
   "source": [
    "#norm求数组的L1范数，也就是绝对值的和\n",
    "sum(user[nn[0]]*s1)/np.linalg.norm(s1, 1)"
   ]
  },
  {
   "cell_type": "code",
   "execution_count": 9,
   "metadata": {},
   "outputs": [
    {
     "name": "stdout",
     "output_type": "stream",
     "text": [
      "(array([2, 4], dtype=int64), [-1.14083045359985, -2.0666082304303877])\n"
     ]
    }
   ],
   "source": [
    "#计算用户4所有未评分的商品对其的吸引力\n",
    "def xiyin(k,data,s1):\n",
    "    user=data[k,:]\n",
    "    n1=np.where(user>0)\n",
    "    n2=np.where(user==0.)#只需要未评分的商品，所以做此过滤\n",
    "    l1=[]\n",
    "    for i in n2[0]:\n",
    "        s2=s1[i,:][n1[0]]\n",
    "        l1.append(sum(user[n1[0]]*s2)/np.linalg.norm(s2, 1))\n",
    "    return n2[0],l1\n",
    "\n",
    "s1=simjz\n",
    "print(xiyin(0,data,s1))"
   ]
  },
  {
   "cell_type": "code",
   "execution_count": null,
   "metadata": {},
   "outputs": [],
   "source": []
  }
 ],
 "metadata": {
  "kernelspec": {
   "display_name": "Python 3",
   "language": "python",
   "name": "python3"
  },
  "language_info": {
   "codemirror_mode": {
    "name": "ipython",
    "version": 3
   },
   "file_extension": ".py",
   "mimetype": "text/x-python",
   "name": "python",
   "nbconvert_exporter": "python",
   "pygments_lexer": "ipython3",
   "version": "3.7.4"
  }
 },
 "nbformat": 4,
 "nbformat_minor": 2
}
