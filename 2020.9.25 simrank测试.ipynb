{
 "cells": [
  {
   "cell_type": "code",
   "execution_count": 1,
   "metadata": {},
   "outputs": [],
   "source": [
    "import pandas as pd\n",
    "import numpy as np\n",
    "import random\n",
    "import math"
   ]
  },
  {
   "cell_type": "code",
   "execution_count": 12,
   "metadata": {},
   "outputs": [
    {
     "data": {
      "text/html": [
       "<div>\n",
       "<style scoped>\n",
       "    .dataframe tbody tr th:only-of-type {\n",
       "        vertical-align: middle;\n",
       "    }\n",
       "\n",
       "    .dataframe tbody tr th {\n",
       "        vertical-align: top;\n",
       "    }\n",
       "\n",
       "    .dataframe thead th {\n",
       "        text-align: right;\n",
       "    }\n",
       "</style>\n",
       "<table border=\"1\" class=\"dataframe\">\n",
       "  <thead>\n",
       "    <tr style=\"text-align: right;\">\n",
       "      <th></th>\n",
       "      <th>item_a</th>\n",
       "      <th>item_a_title</th>\n",
       "      <th>item_b</th>\n",
       "      <th>item_b_title</th>\n",
       "      <th>score</th>\n",
       "    </tr>\n",
       "  </thead>\n",
       "  <tbody>\n",
       "    <tr>\n",
       "      <th>0</th>\n",
       "      <td>1054327</td>\n",
       "      <td>DL250进藏动力足够。</td>\n",
       "      <td>2780478</td>\n",
       "      <td>豪爵铃木DL250初体验（2）</td>\n",
       "      <td>0.002613</td>\n",
       "    </tr>\n",
       "    <tr>\n",
       "      <th>1</th>\n",
       "      <td>1054327</td>\n",
       "      <td>DL250进藏动力足够。</td>\n",
       "      <td>2689001</td>\n",
       "      <td>“老头乐”超适合在山间奔驰 | “不冒险”的冒险旅行车款</td>\n",
       "      <td>0.002539</td>\n",
       "    </tr>\n",
       "    <tr>\n",
       "      <th>2</th>\n",
       "      <td>1054327</td>\n",
       "      <td>DL250进藏动力足够。</td>\n",
       "      <td>2284482</td>\n",
       "      <td>全新铃木DL1050 八月国内上市 价格有竞争力</td>\n",
       "      <td>0.002530</td>\n",
       "    </tr>\n",
       "    <tr>\n",
       "      <th>3</th>\n",
       "      <td>1054327</td>\n",
       "      <td>DL250进藏动力足够。</td>\n",
       "      <td>3017005</td>\n",
       "      <td>看见重庆摩友发了个，提醒下贵阳摩友别踩坑</td>\n",
       "      <td>0.002518</td>\n",
       "    </tr>\n",
       "    <tr>\n",
       "      <th>4</th>\n",
       "      <td>1054327</td>\n",
       "      <td>DL250进藏动力足够。</td>\n",
       "      <td>2928528</td>\n",
       "      <td>『哈罗试车』高金GK500-好玩的大巧克力</td>\n",
       "      <td>0.002512</td>\n",
       "    </tr>\n",
       "    <tr>\n",
       "      <th>...</th>\n",
       "      <td>...</td>\n",
       "      <td>...</td>\n",
       "      <td>...</td>\n",
       "      <td>...</td>\n",
       "      <td>...</td>\n",
       "    </tr>\n",
       "    <tr>\n",
       "      <th>545695</th>\n",
       "      <td>554550</td>\n",
       "      <td>第一次上山</td>\n",
       "      <td>2644136</td>\n",
       "      <td>三轮摩托车D照考试重点</td>\n",
       "      <td>0.002475</td>\n",
       "    </tr>\n",
       "    <tr>\n",
       "      <th>545696</th>\n",
       "      <td>554550</td>\n",
       "      <td>第一次上山</td>\n",
       "      <td>1938263</td>\n",
       "      <td>最强的250双缸量产跑车，38.7马力水冷，极速200km/h</td>\n",
       "      <td>0.002474</td>\n",
       "    </tr>\n",
       "    <tr>\n",
       "      <th>545697</th>\n",
       "      <td>554550</td>\n",
       "      <td>第一次上山</td>\n",
       "      <td>3195341</td>\n",
       "      <td>AW500R 又一台颜值超高的仿赛，国产新品牌 杭州『AW』</td>\n",
       "      <td>0.002474</td>\n",
       "    </tr>\n",
       "    <tr>\n",
       "      <th>545698</th>\n",
       "      <td>554550</td>\n",
       "      <td>第一次上山</td>\n",
       "      <td>1893989</td>\n",
       "      <td>摩托有必要买那么好的吗？</td>\n",
       "      <td>0.002474</td>\n",
       "    </tr>\n",
       "    <tr>\n",
       "      <th>545699</th>\n",
       "      <td>554550</td>\n",
       "      <td>第一次上山</td>\n",
       "      <td>3155399</td>\n",
       "      <td>无极500AC亮相</td>\n",
       "      <td>0.002474</td>\n",
       "    </tr>\n",
       "  </tbody>\n",
       "</table>\n",
       "<p>545700 rows × 5 columns</p>\n",
       "</div>"
      ],
      "text/plain": [
       "         item_a  item_a_title   item_b                     item_b_title  \\\n",
       "0       1054327  DL250进藏动力足够。  2780478                  豪爵铃木DL250初体验（2）   \n",
       "1       1054327  DL250进藏动力足够。  2689001     “老头乐”超适合在山间奔驰 | “不冒险”的冒险旅行车款   \n",
       "2       1054327  DL250进藏动力足够。  2284482         全新铃木DL1050 八月国内上市 价格有竞争力   \n",
       "3       1054327  DL250进藏动力足够。  3017005             看见重庆摩友发了个，提醒下贵阳摩友别踩坑   \n",
       "4       1054327  DL250进藏动力足够。  2928528            『哈罗试车』高金GK500-好玩的大巧克力   \n",
       "...         ...           ...      ...                              ...   \n",
       "545695   554550         第一次上山  2644136                      三轮摩托车D照考试重点   \n",
       "545696   554550         第一次上山  1938263  最强的250双缸量产跑车，38.7马力水冷，极速200km/h   \n",
       "545697   554550         第一次上山  3195341   AW500R 又一台颜值超高的仿赛，国产新品牌 杭州『AW』   \n",
       "545698   554550         第一次上山  1893989                     摩托有必要买那么好的吗？   \n",
       "545699   554550         第一次上山  3155399                        无极500AC亮相   \n",
       "\n",
       "           score  \n",
       "0       0.002613  \n",
       "1       0.002539  \n",
       "2       0.002530  \n",
       "3       0.002518  \n",
       "4       0.002512  \n",
       "...          ...  \n",
       "545695  0.002475  \n",
       "545696  0.002474  \n",
       "545697  0.002474  \n",
       "545698  0.002474  \n",
       "545699  0.002474  \n",
       "\n",
       "[545700 rows x 5 columns]"
      ]
     },
     "execution_count": 12,
     "metadata": {},
     "output_type": "execute_result"
    }
   ],
   "source": [
    "df=pd.read_csv(r'C:\\Users\\JDD\\Downloads\\query-hive-475454.csv')\n",
    "df"
   ]
  },
  {
   "cell_type": "code",
   "execution_count": 13,
   "metadata": {},
   "outputs": [],
   "source": [
    "title_dict=dict()\n",
    "sim_dict=dict()\n",
    "for i in df.index:\n",
    "    item_a=df['item_a'][i]\n",
    "    item_b=df['item_b'][i]\n",
    "    title_a=df['item_a_title'][i]\n",
    "    title_b=df['item_b_title'][i]\n",
    "    score=df['score'][i]\n",
    "    sim_dict.setdefault(item_a,{})\n",
    "    sim_dict[item_a][item_b]=score\n",
    "    title_dict[item_a]=title_a\n",
    "    title_dict[item_b]=title_b"
   ]
  },
  {
   "cell_type": "code",
   "execution_count": 4,
   "metadata": {},
   "outputs": [],
   "source": [
    "data=pd.read_csv(r'C:\\Users\\JDD\\Downloads\\query-hive-475243.csv')\n",
    "train=dict()\n",
    "for i in data.index:\n",
    "    deviceid=data['deviceid'][i]\n",
    "    itemid=data['itemid'][i]\n",
    "    action_type=data['action_type'][i]\n",
    "    train.setdefault(deviceid,[])\n",
    "    if itemid not in train[deviceid]:\n",
    "        train[deviceid].append(itemid)"
   ]
  },
  {
   "cell_type": "code",
   "execution_count": 5,
   "metadata": {},
   "outputs": [],
   "source": [
    "data=pd.read_csv(r'C:\\Users\\JDD\\Downloads\\query-hive-475233.csv')\n",
    "test=dict()\n",
    "for i in data.index:\n",
    "    deviceid=data['deviceid'][i]\n",
    "    itemid=data['itemid'][i]\n",
    "    action_type=data['action_type'][i]\n",
    "    test.setdefault(deviceid,{'expose':[],'click':[]})\n",
    "    if action_type==0:\n",
    "        if itemid not in test[deviceid]['expose']:\n",
    "            test[deviceid]['expose'].append(itemid)\n",
    "    else:\n",
    "        if itemid not in test[deviceid]['click']:\n",
    "            test[deviceid]['click'].append(itemid)"
   ]
  },
  {
   "cell_type": "code",
   "execution_count": 6,
   "metadata": {},
   "outputs": [
    {
     "data": {
      "text/plain": [
       "111464"
      ]
     },
     "execution_count": 6,
     "metadata": {},
     "output_type": "execute_result"
    }
   ],
   "source": [
    "device_list=[x for x in train.keys() if x in test.keys()]\n",
    "sample_device=random.sample(device_list,50000)\n",
    "len(device_list)"
   ]
  },
  {
   "cell_type": "code",
   "execution_count": 17,
   "metadata": {},
   "outputs": [
    {
     "name": "stdout",
     "output_type": "stream",
     "text": [
      "0.010980485483103285 0.15094333139838348 0.22716202076876124 0.18137057296596018\n"
     ]
    }
   ],
   "source": [
    "ACC=[]\n",
    "RECALL=[]\n",
    "expose_ACC=[]\n",
    "for device in sample_device:\n",
    "    rec_dict={}\n",
    "    scaned=train[device]\n",
    "    for item in scaned:\n",
    "        if item in sim_dict.keys():\n",
    "            sim_items={k:sim_dict[item][k] for k in list(sim_dict[item].keys())[:50]}\n",
    "            for k,v in sim_items.items():\n",
    "                if k in rec_dict.keys():\n",
    "                    tmp_v=rec_dict[k]\n",
    "                    rec_dict[k]=max(tmp_v,v)\n",
    "                else:\n",
    "                    rec_dict[k]=v\n",
    "    rec_sorted=sorted(rec_dict.items(),key=lambda x:x[1], reverse=True)[:50]\n",
    "    rec=[x[0] for x in rec_sorted]\n",
    "    exposed=[x for x in rec if x in test[device]['expose']]\n",
    "    if len(exposed)>0 and len(test[device]['click'])>0:\n",
    "        true=[x for x in rec if x in test[device]['click']]\n",
    "        po=[x for x in test[device]['click'] if x in rec]\n",
    "        acc=len(true)/len(rec)\n",
    "        recall=len(po)/len(test[device]['click'])\n",
    "        ACC.append(acc)\n",
    "        RECALL.append(recall)\n",
    "        expose_acc=len(true)/len(exposed)\n",
    "        expose_ACC.append(expose_acc)\n",
    "print(np.mean(ACC),np.mean(RECALL),np.mean(expose_ACC),2*np.mean(RECALL)*np.mean(expose_ACC)/(np.mean(RECALL)+np.mean(expose_ACC)))"
   ]
  },
  {
   "cell_type": "code",
   "execution_count": 90,
   "metadata": {
    "collapsed": true
   },
   "outputs": [
    {
     "ename": "NameError",
     "evalue": "name 'mp' is not defined",
     "output_type": "error",
     "traceback": [
      "\u001b[1;31m---------------------------------------------------------------------------\u001b[0m",
      "\u001b[1;31mNameError\u001b[0m                                 Traceback (most recent call last)",
      "\u001b[1;32m<ipython-input-90-4059b37600e4>\u001b[0m in \u001b[0;36m<module>\u001b[1;34m\u001b[0m\n\u001b[0;32m     18\u001b[0m         \u001b[0mrate\u001b[0m\u001b[1;33m=\u001b[0m\u001b[0mlen\u001b[0m\u001b[1;33m(\u001b[0m\u001b[0mexposed\u001b[0m\u001b[1;33m)\u001b[0m\u001b[1;33m/\u001b[0m\u001b[0mlen\u001b[0m\u001b[1;33m(\u001b[0m\u001b[0mtest\u001b[0m\u001b[1;33m[\u001b[0m\u001b[0mdevice\u001b[0m\u001b[1;33m]\u001b[0m\u001b[1;33m[\u001b[0m\u001b[1;34m'expose'\u001b[0m\u001b[1;33m]\u001b[0m\u001b[1;33m)\u001b[0m\u001b[1;33m\u001b[0m\u001b[1;33m\u001b[0m\u001b[0m\n\u001b[0;32m     19\u001b[0m         \u001b[0mexpose_rate\u001b[0m\u001b[1;33m.\u001b[0m\u001b[0mappend\u001b[0m\u001b[1;33m(\u001b[0m\u001b[0mrate\u001b[0m\u001b[1;33m)\u001b[0m\u001b[1;33m\u001b[0m\u001b[1;33m\u001b[0m\u001b[0m\n\u001b[1;32m---> 20\u001b[1;33m \u001b[0mmp\u001b[0m\u001b[1;33m.\u001b[0m\u001b[0mmean\u001b[0m\u001b[1;33m(\u001b[0m\u001b[0mexpose_rate\u001b[0m\u001b[1;33m)\u001b[0m\u001b[1;33m\u001b[0m\u001b[1;33m\u001b[0m\u001b[0m\n\u001b[0m",
      "\u001b[1;31mNameError\u001b[0m: name 'mp' is not defined"
     ]
    }
   ],
   "source": [
    "expose_rate=[]\n",
    "for device in sample_device:\n",
    "    rec_dict={}\n",
    "    scaned=train[device]\n",
    "    for item in scaned:\n",
    "        if item in sim_dict.keys():\n",
    "            sim_items={k:sim_dict[item][k] for k in list(sim_dict[item].keys())[:50]}\n",
    "            for k,v in sim_items.items():\n",
    "                if k in rec_dict.keys():\n",
    "                    tmp_v=rec_dict[k]\n",
    "                    rec_dict[k]=max(tmp_v,v)\n",
    "                else:\n",
    "                    rec_dict[k]=v\n",
    "    rec_sorted=sorted(rec_dict.items(),key=lambda x:x[1], reverse=True)[:50]\n",
    "    rec=[x[0] for x in rec_sorted]\n",
    "    exposed=[x for x in rec if x in test[device]['expose']]\n",
    "    if len(exposed)>0 and len(test[device]['expose']):\n",
    "        rate=len(exposed)/len(test[device]['expose'])\n",
    "        expose_rate.append(rate)\n",
    "np.mean(expose_rate)"
   ]
  },
  {
   "cell_type": "code",
   "execution_count": 8,
   "metadata": {},
   "outputs": [
    {
     "data": {
      "text/plain": [
       "0.9834008622351011"
      ]
     },
     "execution_count": 8,
     "metadata": {},
     "output_type": "execute_result"
    }
   ],
   "source": [
    "expose_rate=[]\n",
    "for device in device_list:\n",
    "    click_list=test[device]['click']\n",
    "    if len(click_list)>0:\n",
    "        common=[x for x in click_list if x in sim_dict.keys()]\n",
    "        rate=len(common)/len(click_list)\n",
    "        expose_rate.append(rate)\n",
    "np.mean(expose_rate)"
   ]
  },
  {
   "cell_type": "code",
   "execution_count": null,
   "metadata": {},
   "outputs": [],
   "source": []
  },
  {
   "cell_type": "code",
   "execution_count": null,
   "metadata": {},
   "outputs": [],
   "source": []
  }
 ],
 "metadata": {
  "kernelspec": {
   "display_name": "Python 3",
   "language": "python",
   "name": "python3"
  },
  "language_info": {
   "codemirror_mode": {
    "name": "ipython",
    "version": 3
   },
   "file_extension": ".py",
   "mimetype": "text/x-python",
   "name": "python",
   "nbconvert_exporter": "python",
   "pygments_lexer": "ipython3",
   "version": "3.7.4"
  }
 },
 "nbformat": 4,
 "nbformat_minor": 2
}
